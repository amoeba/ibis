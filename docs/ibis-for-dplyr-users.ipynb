{
 "cells": [
  {
   "cell_type": "markdown",
   "metadata": {},
   "source": [
    "# Ibis for dplyr Users"
   ]
  },
  {
   "attachments": {},
   "cell_type": "markdown",
   "metadata": {},
   "source": [
    "[R](https://www.r-project.org/) users familiar with [dplyr](https://dplyr.tidyverse.org/) and other packages in the [Tidyverse](https://www.tidyverse.org/) are likely find Ibis familiar.\n",
    "In fact, some Ibis features were even inspired by similar features in the [Tidyverse](https://www.tidyverse.org/).\n",
    "\n",
    "However, due to differences between Python and R and the design and goals of Ibis itself, you may notice some big differences right away:\n",
    "\n",
    "- **No pipe:** The handy [magrittr pipe](https://magrittr.tidyverse.org/) (`%>%`) or R's newer native pipe (`|>`) don't exist in Python so you instead have to chain sequences of operations together with a period (`.`).\n",
    "- **No unquoted column names:** Non-standard evaluation is common in R but not present in Python. To reference a column in Ibis, you can pass a string, property on a table (e.g., `tbl.some_column`), or you can make use of [selectors](https://ibis-project.org/api/selectors/).\n",
    "- **Ibis is lazy by default:** Similar to [dbplyr](https://dbplyr.tidyverse.org/) and its `collect()` method, Ibis does not evaluate our queries until we call `.execute()`. For the purposes of this document, we set `ibis.options.interactive = True` which calls `execute` automatically for us and prints a nicely-formatted table."
   ]
  },
  {
   "attachments": {},
   "cell_type": "markdown",
   "metadata": {},
   "source": [
    "## Comparing Ibis and dplyr\n",
    "\n",
    "Using the same example data and similar operations as in [Introduction to dplyr](https://dplyr.tidyverse.org/articles/dplyr.html), below you will find some examples of the more common dplyr operations and their Ibis equivalents."
   ]
  },
  {
   "attachments": {},
   "cell_type": "markdown",
   "metadata": {},
   "source": [
    "### Loading Ibis"
   ]
  },
  {
   "attachments": {},
   "cell_type": "markdown",
   "metadata": {},
   "source": [
    "To start using dplyr in R we would run:\n",
    "\n",
    "```r\n",
    "library(dplyr)\n",
    "```\n",
    "\n",
    "When loading Ibis, it's useful to first load Ibis:"
   ]
  },
  {
   "cell_type": "code",
   "execution_count": 2,
   "metadata": {},
   "outputs": [],
   "source": [
    "import ibis"
   ]
  },
  {
   "attachments": {},
   "cell_type": "markdown",
   "metadata": {},
   "source": [
    "And then also load and alias some helpers to make our code more concise:"
   ]
  },
  {
   "cell_type": "code",
   "execution_count": 48,
   "metadata": {},
   "outputs": [],
   "source": [
    "import ibis.selectors as s\n",
    "from ibis import _"
   ]
  },
  {
   "attachments": {},
   "cell_type": "markdown",
   "metadata": {},
   "source": [
    "Last, as mentioned above, to get Ibis to automatically execute our queries and show the results in a nicely-formatted table, we run:"
   ]
  },
  {
   "cell_type": "code",
   "execution_count": 47,
   "metadata": {},
   "outputs": [],
   "source": [
    "ibis.options.interactive = True"
   ]
  },
  {
   "cell_type": "markdown",
   "metadata": {},
   "source": [
    "### Loading example data"
   ]
  },
  {
   "cell_type": "markdown",
   "metadata": {},
   "source": [
    "In R, datasets are typically lazily loaded with packages. For instance, the `starwars` dataset is packaged with dplyr, but is not loaded in memory before you start using it. Ibis provides many datasets in the `examples` module. So to be able to use the `starwars` dataset, you can use:"
   ]
  },
  {
   "cell_type": "code",
   "execution_count": 3,
   "metadata": {},
   "outputs": [],
   "source": [
    "starwars = ibis.examples.starwars.fetch()"
   ]
  },
  {
   "attachments": {},
   "cell_type": "markdown",
   "metadata": {},
   "source": [
    "Similar to dplyr, if we evaluate the name of a table, we get a nicely-formatted table:"
   ]
  },
  {
   "cell_type": "code",
   "execution_count": 50,
   "metadata": {},
   "outputs": [
    {
     "data": {
      "text/html": [
       "<pre style=\"white-space:pre;overflow-x:auto;line-height:normal;font-family:Menlo,'DejaVu Sans Mono',consolas,'Courier New',monospace\">┏━━━━━━━━━━━━━━━━━━━━┳━━━━━━━━┳━━━━━━━━━┳━━━━━━━━━━━━━━━┳━━━━━━━━━━━━━┳━━━━━━━━━━━┳━━━━━━━━━━━━┳━━━━━━━━┳━━━━━━━━━━━┳━━━━━━━━━━━┳━━━━━━━━━┳━━━━━━━━┳━━━━━━━━━━┳━━━━━━━━━━━┓\n",
       "┃<span style=\"font-weight: bold\"> name               </span>┃<span style=\"font-weight: bold\"> height </span>┃<span style=\"font-weight: bold\"> mass    </span>┃<span style=\"font-weight: bold\"> hair_color    </span>┃<span style=\"font-weight: bold\"> skin_color  </span>┃<span style=\"font-weight: bold\"> eye_color </span>┃<span style=\"font-weight: bold\"> birth_year </span>┃<span style=\"font-weight: bold\"> sex    </span>┃<span style=\"font-weight: bold\"> gender    </span>┃<span style=\"font-weight: bold\"> homeworld </span>┃<span style=\"font-weight: bold\"> species </span>┃<span style=\"font-weight: bold\"> films  </span>┃<span style=\"font-weight: bold\"> vehicles </span>┃<span style=\"font-weight: bold\"> starships </span>┃\n",
       "┡━━━━━━━━━━━━━━━━━━━━╇━━━━━━━━╇━━━━━━━━━╇━━━━━━━━━━━━━━━╇━━━━━━━━━━━━━╇━━━━━━━━━━━╇━━━━━━━━━━━━╇━━━━━━━━╇━━━━━━━━━━━╇━━━━━━━━━━━╇━━━━━━━━━╇━━━━━━━━╇━━━━━━━━━━╇━━━━━━━━━━━┩\n",
       "│ <span style=\"color: #7f7f7f; text-decoration-color: #7f7f7f\">string</span>             │ <span style=\"color: #7f7f7f; text-decoration-color: #7f7f7f\">int64</span>  │ <span style=\"color: #7f7f7f; text-decoration-color: #7f7f7f\">float64</span> │ <span style=\"color: #7f7f7f; text-decoration-color: #7f7f7f\">string</span>        │ <span style=\"color: #7f7f7f; text-decoration-color: #7f7f7f\">string</span>      │ <span style=\"color: #7f7f7f; text-decoration-color: #7f7f7f\">string</span>    │ <span style=\"color: #7f7f7f; text-decoration-color: #7f7f7f\">float64</span>    │ <span style=\"color: #7f7f7f; text-decoration-color: #7f7f7f\">string</span> │ <span style=\"color: #7f7f7f; text-decoration-color: #7f7f7f\">string</span>    │ <span style=\"color: #7f7f7f; text-decoration-color: #7f7f7f\">string</span>    │ <span style=\"color: #7f7f7f; text-decoration-color: #7f7f7f\">string</span>  │ <span style=\"color: #7f7f7f; text-decoration-color: #7f7f7f\">string</span> │ <span style=\"color: #7f7f7f; text-decoration-color: #7f7f7f\">string</span>   │ <span style=\"color: #7f7f7f; text-decoration-color: #7f7f7f\">string</span>    │\n",
       "├────────────────────┼────────┼─────────┼───────────────┼─────────────┼───────────┼────────────┼────────┼───────────┼───────────┼─────────┼────────┼──────────┼───────────┤\n",
       "│ <span style=\"color: #008000; text-decoration-color: #008000\">Luke Skywalker    </span> │    <span style=\"color: #008080; text-decoration-color: #008080; font-weight: bold\">172</span> │    <span style=\"color: #008080; text-decoration-color: #008080; font-weight: bold\">77.0</span> │ <span style=\"color: #008000; text-decoration-color: #008000\">blond        </span> │ <span style=\"color: #008000; text-decoration-color: #008000\">fair       </span> │ <span style=\"color: #008000; text-decoration-color: #008000\">blue     </span> │       <span style=\"color: #008080; text-decoration-color: #008080; font-weight: bold\">19.0</span> │ <span style=\"color: #008000; text-decoration-color: #008000\">male  </span> │ <span style=\"color: #008000; text-decoration-color: #008000\">masculine</span> │ <span style=\"color: #008000; text-decoration-color: #008000\">Tatooine </span> │ <span style=\"color: #008000; text-decoration-color: #008000\">Human  </span> │ <span style=\"color: #7f7f7f; text-decoration-color: #7f7f7f\">NULL</span>   │ <span style=\"color: #7f7f7f; text-decoration-color: #7f7f7f\">NULL</span>     │ <span style=\"color: #7f7f7f; text-decoration-color: #7f7f7f\">NULL</span>      │\n",
       "│ <span style=\"color: #008000; text-decoration-color: #008000\">C-3PO             </span> │    <span style=\"color: #008080; text-decoration-color: #008080; font-weight: bold\">167</span> │    <span style=\"color: #008080; text-decoration-color: #008080; font-weight: bold\">75.0</span> │ <span style=\"color: #7f7f7f; text-decoration-color: #7f7f7f\">NULL</span>          │ <span style=\"color: #008000; text-decoration-color: #008000\">gold       </span> │ <span style=\"color: #008000; text-decoration-color: #008000\">yellow   </span> │      <span style=\"color: #008080; text-decoration-color: #008080; font-weight: bold\">112.0</span> │ <span style=\"color: #008000; text-decoration-color: #008000\">none  </span> │ <span style=\"color: #008000; text-decoration-color: #008000\">masculine</span> │ <span style=\"color: #008000; text-decoration-color: #008000\">Tatooine </span> │ <span style=\"color: #008000; text-decoration-color: #008000\">Droid  </span> │ <span style=\"color: #7f7f7f; text-decoration-color: #7f7f7f\">NULL</span>   │ <span style=\"color: #7f7f7f; text-decoration-color: #7f7f7f\">NULL</span>     │ <span style=\"color: #7f7f7f; text-decoration-color: #7f7f7f\">NULL</span>      │\n",
       "│ <span style=\"color: #008000; text-decoration-color: #008000\">R2-D2             </span> │     <span style=\"color: #008080; text-decoration-color: #008080; font-weight: bold\">96</span> │    <span style=\"color: #008080; text-decoration-color: #008080; font-weight: bold\">32.0</span> │ <span style=\"color: #7f7f7f; text-decoration-color: #7f7f7f\">NULL</span>          │ <span style=\"color: #008000; text-decoration-color: #008000\">white, blue</span> │ <span style=\"color: #008000; text-decoration-color: #008000\">red      </span> │       <span style=\"color: #008080; text-decoration-color: #008080; font-weight: bold\">33.0</span> │ <span style=\"color: #008000; text-decoration-color: #008000\">none  </span> │ <span style=\"color: #008000; text-decoration-color: #008000\">masculine</span> │ <span style=\"color: #008000; text-decoration-color: #008000\">Naboo    </span> │ <span style=\"color: #008000; text-decoration-color: #008000\">Droid  </span> │ <span style=\"color: #7f7f7f; text-decoration-color: #7f7f7f\">NULL</span>   │ <span style=\"color: #7f7f7f; text-decoration-color: #7f7f7f\">NULL</span>     │ <span style=\"color: #7f7f7f; text-decoration-color: #7f7f7f\">NULL</span>      │\n",
       "│ <span style=\"color: #008000; text-decoration-color: #008000\">Darth Vader       </span> │    <span style=\"color: #008080; text-decoration-color: #008080; font-weight: bold\">202</span> │   <span style=\"color: #008080; text-decoration-color: #008080; font-weight: bold\">136.0</span> │ <span style=\"color: #008000; text-decoration-color: #008000\">none         </span> │ <span style=\"color: #008000; text-decoration-color: #008000\">white      </span> │ <span style=\"color: #008000; text-decoration-color: #008000\">yellow   </span> │       <span style=\"color: #008080; text-decoration-color: #008080; font-weight: bold\">41.9</span> │ <span style=\"color: #008000; text-decoration-color: #008000\">male  </span> │ <span style=\"color: #008000; text-decoration-color: #008000\">masculine</span> │ <span style=\"color: #008000; text-decoration-color: #008000\">Tatooine </span> │ <span style=\"color: #008000; text-decoration-color: #008000\">Human  </span> │ <span style=\"color: #7f7f7f; text-decoration-color: #7f7f7f\">NULL</span>   │ <span style=\"color: #7f7f7f; text-decoration-color: #7f7f7f\">NULL</span>     │ <span style=\"color: #7f7f7f; text-decoration-color: #7f7f7f\">NULL</span>      │\n",
       "│ <span style=\"color: #008000; text-decoration-color: #008000\">Leia Organa       </span> │    <span style=\"color: #008080; text-decoration-color: #008080; font-weight: bold\">150</span> │    <span style=\"color: #008080; text-decoration-color: #008080; font-weight: bold\">49.0</span> │ <span style=\"color: #008000; text-decoration-color: #008000\">brown        </span> │ <span style=\"color: #008000; text-decoration-color: #008000\">light      </span> │ <span style=\"color: #008000; text-decoration-color: #008000\">brown    </span> │       <span style=\"color: #008080; text-decoration-color: #008080; font-weight: bold\">19.0</span> │ <span style=\"color: #008000; text-decoration-color: #008000\">female</span> │ <span style=\"color: #008000; text-decoration-color: #008000\">feminine </span> │ <span style=\"color: #008000; text-decoration-color: #008000\">Alderaan </span> │ <span style=\"color: #008000; text-decoration-color: #008000\">Human  </span> │ <span style=\"color: #7f7f7f; text-decoration-color: #7f7f7f\">NULL</span>   │ <span style=\"color: #7f7f7f; text-decoration-color: #7f7f7f\">NULL</span>     │ <span style=\"color: #7f7f7f; text-decoration-color: #7f7f7f\">NULL</span>      │\n",
       "│ <span style=\"color: #008000; text-decoration-color: #008000\">Owen Lars         </span> │    <span style=\"color: #008080; text-decoration-color: #008080; font-weight: bold\">178</span> │   <span style=\"color: #008080; text-decoration-color: #008080; font-weight: bold\">120.0</span> │ <span style=\"color: #008000; text-decoration-color: #008000\">brown, grey  </span> │ <span style=\"color: #008000; text-decoration-color: #008000\">light      </span> │ <span style=\"color: #008000; text-decoration-color: #008000\">blue     </span> │       <span style=\"color: #008080; text-decoration-color: #008080; font-weight: bold\">52.0</span> │ <span style=\"color: #008000; text-decoration-color: #008000\">male  </span> │ <span style=\"color: #008000; text-decoration-color: #008000\">masculine</span> │ <span style=\"color: #008000; text-decoration-color: #008000\">Tatooine </span> │ <span style=\"color: #008000; text-decoration-color: #008000\">Human  </span> │ <span style=\"color: #7f7f7f; text-decoration-color: #7f7f7f\">NULL</span>   │ <span style=\"color: #7f7f7f; text-decoration-color: #7f7f7f\">NULL</span>     │ <span style=\"color: #7f7f7f; text-decoration-color: #7f7f7f\">NULL</span>      │\n",
       "│ <span style=\"color: #008000; text-decoration-color: #008000\">Beru Whitesun lars</span> │    <span style=\"color: #008080; text-decoration-color: #008080; font-weight: bold\">165</span> │    <span style=\"color: #008080; text-decoration-color: #008080; font-weight: bold\">75.0</span> │ <span style=\"color: #008000; text-decoration-color: #008000\">brown        </span> │ <span style=\"color: #008000; text-decoration-color: #008000\">light      </span> │ <span style=\"color: #008000; text-decoration-color: #008000\">blue     </span> │       <span style=\"color: #008080; text-decoration-color: #008080; font-weight: bold\">47.0</span> │ <span style=\"color: #008000; text-decoration-color: #008000\">female</span> │ <span style=\"color: #008000; text-decoration-color: #008000\">feminine </span> │ <span style=\"color: #008000; text-decoration-color: #008000\">Tatooine </span> │ <span style=\"color: #008000; text-decoration-color: #008000\">Human  </span> │ <span style=\"color: #7f7f7f; text-decoration-color: #7f7f7f\">NULL</span>   │ <span style=\"color: #7f7f7f; text-decoration-color: #7f7f7f\">NULL</span>     │ <span style=\"color: #7f7f7f; text-decoration-color: #7f7f7f\">NULL</span>      │\n",
       "│ <span style=\"color: #008000; text-decoration-color: #008000\">R5-D4             </span> │     <span style=\"color: #008080; text-decoration-color: #008080; font-weight: bold\">97</span> │    <span style=\"color: #008080; text-decoration-color: #008080; font-weight: bold\">32.0</span> │ <span style=\"color: #7f7f7f; text-decoration-color: #7f7f7f\">NULL</span>          │ <span style=\"color: #008000; text-decoration-color: #008000\">white, red </span> │ <span style=\"color: #008000; text-decoration-color: #008000\">red      </span> │        <span style=\"color: #008080; text-decoration-color: #008080; font-weight: bold\">nan</span> │ <span style=\"color: #008000; text-decoration-color: #008000\">none  </span> │ <span style=\"color: #008000; text-decoration-color: #008000\">masculine</span> │ <span style=\"color: #008000; text-decoration-color: #008000\">Tatooine </span> │ <span style=\"color: #008000; text-decoration-color: #008000\">Droid  </span> │ <span style=\"color: #7f7f7f; text-decoration-color: #7f7f7f\">NULL</span>   │ <span style=\"color: #7f7f7f; text-decoration-color: #7f7f7f\">NULL</span>     │ <span style=\"color: #7f7f7f; text-decoration-color: #7f7f7f\">NULL</span>      │\n",
       "│ <span style=\"color: #008000; text-decoration-color: #008000\">Biggs Darklighter </span> │    <span style=\"color: #008080; text-decoration-color: #008080; font-weight: bold\">183</span> │    <span style=\"color: #008080; text-decoration-color: #008080; font-weight: bold\">84.0</span> │ <span style=\"color: #008000; text-decoration-color: #008000\">black        </span> │ <span style=\"color: #008000; text-decoration-color: #008000\">light      </span> │ <span style=\"color: #008000; text-decoration-color: #008000\">brown    </span> │       <span style=\"color: #008080; text-decoration-color: #008080; font-weight: bold\">24.0</span> │ <span style=\"color: #008000; text-decoration-color: #008000\">male  </span> │ <span style=\"color: #008000; text-decoration-color: #008000\">masculine</span> │ <span style=\"color: #008000; text-decoration-color: #008000\">Tatooine </span> │ <span style=\"color: #008000; text-decoration-color: #008000\">Human  </span> │ <span style=\"color: #7f7f7f; text-decoration-color: #7f7f7f\">NULL</span>   │ <span style=\"color: #7f7f7f; text-decoration-color: #7f7f7f\">NULL</span>     │ <span style=\"color: #7f7f7f; text-decoration-color: #7f7f7f\">NULL</span>      │\n",
       "│ <span style=\"color: #008000; text-decoration-color: #008000\">Obi-Wan Kenobi    </span> │    <span style=\"color: #008080; text-decoration-color: #008080; font-weight: bold\">182</span> │    <span style=\"color: #008080; text-decoration-color: #008080; font-weight: bold\">77.0</span> │ <span style=\"color: #008000; text-decoration-color: #008000\">auburn, white</span> │ <span style=\"color: #008000; text-decoration-color: #008000\">fair       </span> │ <span style=\"color: #008000; text-decoration-color: #008000\">blue-gray</span> │       <span style=\"color: #008080; text-decoration-color: #008080; font-weight: bold\">57.0</span> │ <span style=\"color: #008000; text-decoration-color: #008000\">male  </span> │ <span style=\"color: #008000; text-decoration-color: #008000\">masculine</span> │ <span style=\"color: #008000; text-decoration-color: #008000\">Stewjon  </span> │ <span style=\"color: #008000; text-decoration-color: #008000\">Human  </span> │ <span style=\"color: #7f7f7f; text-decoration-color: #7f7f7f\">NULL</span>   │ <span style=\"color: #7f7f7f; text-decoration-color: #7f7f7f\">NULL</span>     │ <span style=\"color: #7f7f7f; text-decoration-color: #7f7f7f\">NULL</span>      │\n",
       "│ <span style=\"color: #7f7f7f; text-decoration-color: #7f7f7f\">…</span>                  │      <span style=\"color: #7f7f7f; text-decoration-color: #7f7f7f\">…</span> │       <span style=\"color: #7f7f7f; text-decoration-color: #7f7f7f\">…</span> │ <span style=\"color: #7f7f7f; text-decoration-color: #7f7f7f\">…</span>             │ <span style=\"color: #7f7f7f; text-decoration-color: #7f7f7f\">…</span>           │ <span style=\"color: #7f7f7f; text-decoration-color: #7f7f7f\">…</span>         │          <span style=\"color: #7f7f7f; text-decoration-color: #7f7f7f\">…</span> │ <span style=\"color: #7f7f7f; text-decoration-color: #7f7f7f\">…</span>      │ <span style=\"color: #7f7f7f; text-decoration-color: #7f7f7f\">…</span>         │ <span style=\"color: #7f7f7f; text-decoration-color: #7f7f7f\">…</span>         │ <span style=\"color: #7f7f7f; text-decoration-color: #7f7f7f\">…</span>       │ <span style=\"color: #7f7f7f; text-decoration-color: #7f7f7f\">…</span>      │ <span style=\"color: #7f7f7f; text-decoration-color: #7f7f7f\">…</span>        │ <span style=\"color: #7f7f7f; text-decoration-color: #7f7f7f\">…</span>         │\n",
       "└────────────────────┴────────┴─────────┴───────────────┴─────────────┴───────────┴────────────┴────────┴───────────┴───────────┴─────────┴────────┴──────────┴───────────┘\n",
       "</pre>\n"
      ],
      "text/plain": [
       "┏━━━━━━━━━━━━━━━━━━━━┳━━━━━━━━┳━━━━━━━━━┳━━━━━━━━━━━━━━━┳━━━━━━━━━━━━━┳━━━━━━━━━━━┳━━━━━━━━━━━━┳━━━━━━━━┳━━━━━━━━━━━┳━━━━━━━━━━━┳━━━━━━━━━┳━━━━━━━━┳━━━━━━━━━━┳━━━━━━━━━━━┓\n",
       "┃\u001b[1m \u001b[0m\u001b[1mname\u001b[0m\u001b[1m              \u001b[0m\u001b[1m \u001b[0m┃\u001b[1m \u001b[0m\u001b[1mheight\u001b[0m\u001b[1m \u001b[0m┃\u001b[1m \u001b[0m\u001b[1mmass\u001b[0m\u001b[1m   \u001b[0m\u001b[1m \u001b[0m┃\u001b[1m \u001b[0m\u001b[1mhair_color\u001b[0m\u001b[1m   \u001b[0m\u001b[1m \u001b[0m┃\u001b[1m \u001b[0m\u001b[1mskin_color\u001b[0m\u001b[1m \u001b[0m\u001b[1m \u001b[0m┃\u001b[1m \u001b[0m\u001b[1meye_color\u001b[0m\u001b[1m \u001b[0m┃\u001b[1m \u001b[0m\u001b[1mbirth_year\u001b[0m\u001b[1m \u001b[0m┃\u001b[1m \u001b[0m\u001b[1msex\u001b[0m\u001b[1m   \u001b[0m\u001b[1m \u001b[0m┃\u001b[1m \u001b[0m\u001b[1mgender\u001b[0m\u001b[1m   \u001b[0m\u001b[1m \u001b[0m┃\u001b[1m \u001b[0m\u001b[1mhomeworld\u001b[0m\u001b[1m \u001b[0m┃\u001b[1m \u001b[0m\u001b[1mspecies\u001b[0m\u001b[1m \u001b[0m┃\u001b[1m \u001b[0m\u001b[1mfilms\u001b[0m\u001b[1m \u001b[0m\u001b[1m \u001b[0m┃\u001b[1m \u001b[0m\u001b[1mvehicles\u001b[0m\u001b[1m \u001b[0m┃\u001b[1m \u001b[0m\u001b[1mstarships\u001b[0m\u001b[1m \u001b[0m┃\n",
       "┡━━━━━━━━━━━━━━━━━━━━╇━━━━━━━━╇━━━━━━━━━╇━━━━━━━━━━━━━━━╇━━━━━━━━━━━━━╇━━━━━━━━━━━╇━━━━━━━━━━━━╇━━━━━━━━╇━━━━━━━━━━━╇━━━━━━━━━━━╇━━━━━━━━━╇━━━━━━━━╇━━━━━━━━━━╇━━━━━━━━━━━┩\n",
       "│ \u001b[2mstring\u001b[0m             │ \u001b[2mint64\u001b[0m  │ \u001b[2mfloat64\u001b[0m │ \u001b[2mstring\u001b[0m        │ \u001b[2mstring\u001b[0m      │ \u001b[2mstring\u001b[0m    │ \u001b[2mfloat64\u001b[0m    │ \u001b[2mstring\u001b[0m │ \u001b[2mstring\u001b[0m    │ \u001b[2mstring\u001b[0m    │ \u001b[2mstring\u001b[0m  │ \u001b[2mstring\u001b[0m │ \u001b[2mstring\u001b[0m   │ \u001b[2mstring\u001b[0m    │\n",
       "├────────────────────┼────────┼─────────┼───────────────┼─────────────┼───────────┼────────────┼────────┼───────────┼───────────┼─────────┼────────┼──────────┼───────────┤\n",
       "│ \u001b[32mLuke Skywalker    \u001b[0m │    \u001b[1;36m172\u001b[0m │    \u001b[1;36m77.0\u001b[0m │ \u001b[32mblond        \u001b[0m │ \u001b[32mfair       \u001b[0m │ \u001b[32mblue     \u001b[0m │       \u001b[1;36m19.0\u001b[0m │ \u001b[32mmale  \u001b[0m │ \u001b[32mmasculine\u001b[0m │ \u001b[32mTatooine \u001b[0m │ \u001b[32mHuman  \u001b[0m │ \u001b[2mNULL\u001b[0m   │ \u001b[2mNULL\u001b[0m     │ \u001b[2mNULL\u001b[0m      │\n",
       "│ \u001b[32mC-3PO             \u001b[0m │    \u001b[1;36m167\u001b[0m │    \u001b[1;36m75.0\u001b[0m │ \u001b[2mNULL\u001b[0m          │ \u001b[32mgold       \u001b[0m │ \u001b[32myellow   \u001b[0m │      \u001b[1;36m112.0\u001b[0m │ \u001b[32mnone  \u001b[0m │ \u001b[32mmasculine\u001b[0m │ \u001b[32mTatooine \u001b[0m │ \u001b[32mDroid  \u001b[0m │ \u001b[2mNULL\u001b[0m   │ \u001b[2mNULL\u001b[0m     │ \u001b[2mNULL\u001b[0m      │\n",
       "│ \u001b[32mR2-D2             \u001b[0m │     \u001b[1;36m96\u001b[0m │    \u001b[1;36m32.0\u001b[0m │ \u001b[2mNULL\u001b[0m          │ \u001b[32mwhite, blue\u001b[0m │ \u001b[32mred      \u001b[0m │       \u001b[1;36m33.0\u001b[0m │ \u001b[32mnone  \u001b[0m │ \u001b[32mmasculine\u001b[0m │ \u001b[32mNaboo    \u001b[0m │ \u001b[32mDroid  \u001b[0m │ \u001b[2mNULL\u001b[0m   │ \u001b[2mNULL\u001b[0m     │ \u001b[2mNULL\u001b[0m      │\n",
       "│ \u001b[32mDarth Vader       \u001b[0m │    \u001b[1;36m202\u001b[0m │   \u001b[1;36m136.0\u001b[0m │ \u001b[32mnone         \u001b[0m │ \u001b[32mwhite      \u001b[0m │ \u001b[32myellow   \u001b[0m │       \u001b[1;36m41.9\u001b[0m │ \u001b[32mmale  \u001b[0m │ \u001b[32mmasculine\u001b[0m │ \u001b[32mTatooine \u001b[0m │ \u001b[32mHuman  \u001b[0m │ \u001b[2mNULL\u001b[0m   │ \u001b[2mNULL\u001b[0m     │ \u001b[2mNULL\u001b[0m      │\n",
       "│ \u001b[32mLeia Organa       \u001b[0m │    \u001b[1;36m150\u001b[0m │    \u001b[1;36m49.0\u001b[0m │ \u001b[32mbrown        \u001b[0m │ \u001b[32mlight      \u001b[0m │ \u001b[32mbrown    \u001b[0m │       \u001b[1;36m19.0\u001b[0m │ \u001b[32mfemale\u001b[0m │ \u001b[32mfeminine \u001b[0m │ \u001b[32mAlderaan \u001b[0m │ \u001b[32mHuman  \u001b[0m │ \u001b[2mNULL\u001b[0m   │ \u001b[2mNULL\u001b[0m     │ \u001b[2mNULL\u001b[0m      │\n",
       "│ \u001b[32mOwen Lars         \u001b[0m │    \u001b[1;36m178\u001b[0m │   \u001b[1;36m120.0\u001b[0m │ \u001b[32mbrown, grey  \u001b[0m │ \u001b[32mlight      \u001b[0m │ \u001b[32mblue     \u001b[0m │       \u001b[1;36m52.0\u001b[0m │ \u001b[32mmale  \u001b[0m │ \u001b[32mmasculine\u001b[0m │ \u001b[32mTatooine \u001b[0m │ \u001b[32mHuman  \u001b[0m │ \u001b[2mNULL\u001b[0m   │ \u001b[2mNULL\u001b[0m     │ \u001b[2mNULL\u001b[0m      │\n",
       "│ \u001b[32mBeru Whitesun lars\u001b[0m │    \u001b[1;36m165\u001b[0m │    \u001b[1;36m75.0\u001b[0m │ \u001b[32mbrown        \u001b[0m │ \u001b[32mlight      \u001b[0m │ \u001b[32mblue     \u001b[0m │       \u001b[1;36m47.0\u001b[0m │ \u001b[32mfemale\u001b[0m │ \u001b[32mfeminine \u001b[0m │ \u001b[32mTatooine \u001b[0m │ \u001b[32mHuman  \u001b[0m │ \u001b[2mNULL\u001b[0m   │ \u001b[2mNULL\u001b[0m     │ \u001b[2mNULL\u001b[0m      │\n",
       "│ \u001b[32mR5-D4             \u001b[0m │     \u001b[1;36m97\u001b[0m │    \u001b[1;36m32.0\u001b[0m │ \u001b[2mNULL\u001b[0m          │ \u001b[32mwhite, red \u001b[0m │ \u001b[32mred      \u001b[0m │        \u001b[1;36mnan\u001b[0m │ \u001b[32mnone  \u001b[0m │ \u001b[32mmasculine\u001b[0m │ \u001b[32mTatooine \u001b[0m │ \u001b[32mDroid  \u001b[0m │ \u001b[2mNULL\u001b[0m   │ \u001b[2mNULL\u001b[0m     │ \u001b[2mNULL\u001b[0m      │\n",
       "│ \u001b[32mBiggs Darklighter \u001b[0m │    \u001b[1;36m183\u001b[0m │    \u001b[1;36m84.0\u001b[0m │ \u001b[32mblack        \u001b[0m │ \u001b[32mlight      \u001b[0m │ \u001b[32mbrown    \u001b[0m │       \u001b[1;36m24.0\u001b[0m │ \u001b[32mmale  \u001b[0m │ \u001b[32mmasculine\u001b[0m │ \u001b[32mTatooine \u001b[0m │ \u001b[32mHuman  \u001b[0m │ \u001b[2mNULL\u001b[0m   │ \u001b[2mNULL\u001b[0m     │ \u001b[2mNULL\u001b[0m      │\n",
       "│ \u001b[32mObi-Wan Kenobi    \u001b[0m │    \u001b[1;36m182\u001b[0m │    \u001b[1;36m77.0\u001b[0m │ \u001b[32mauburn, white\u001b[0m │ \u001b[32mfair       \u001b[0m │ \u001b[32mblue-gray\u001b[0m │       \u001b[1;36m57.0\u001b[0m │ \u001b[32mmale  \u001b[0m │ \u001b[32mmasculine\u001b[0m │ \u001b[32mStewjon  \u001b[0m │ \u001b[32mHuman  \u001b[0m │ \u001b[2mNULL\u001b[0m   │ \u001b[2mNULL\u001b[0m     │ \u001b[2mNULL\u001b[0m      │\n",
       "│ \u001b[2m…\u001b[0m                  │      \u001b[2m…\u001b[0m │       \u001b[2m…\u001b[0m │ \u001b[2m…\u001b[0m             │ \u001b[2m…\u001b[0m           │ \u001b[2m…\u001b[0m         │          \u001b[2m…\u001b[0m │ \u001b[2m…\u001b[0m      │ \u001b[2m…\u001b[0m         │ \u001b[2m…\u001b[0m         │ \u001b[2m…\u001b[0m       │ \u001b[2m…\u001b[0m      │ \u001b[2m…\u001b[0m        │ \u001b[2m…\u001b[0m         │\n",
       "└────────────────────┴────────┴─────────┴───────────────┴─────────────┴───────────┴────────────┴────────┴───────────┴───────────┴─────────┴────────┴──────────┴───────────┘"
      ]
     },
     "execution_count": 50,
     "metadata": {},
     "output_type": "execute_result"
    }
   ],
   "source": [
    "starwars"
   ]
  },
  {
   "cell_type": "markdown",
   "metadata": {},
   "source": [
    "### Inspecting the dataset with `head()`"
   ]
  },
  {
   "cell_type": "markdown",
   "metadata": {},
   "source": [
    "Just like in R, you can use `head()` to inspect the beginning of a dataset. You can also specify the number of rows you want to get back by using the parameter `n` (default `n = 5`).\n",
    "\n",
    "In R:\n",
    "\n",
    "```r\n",
    "head(starwars) # or starwars |> head()\n",
    "```\n",
    "\n",
    "With Ibis:"
   ]
  },
  {
   "cell_type": "code",
   "execution_count": 4,
   "metadata": {},
   "outputs": [
    {
     "data": {
      "text/html": [
       "<pre style=\"white-space:pre;overflow-x:auto;line-height:normal;font-family:Menlo,'DejaVu Sans Mono',consolas,'Courier New',monospace\">┏━━━━━━━━━━━━━━━━┳━━━━━━━━┳━━━━━━━━━┳━━━━━━━━━━━━━┳━━━━━━━━━━━━━┳━━━━━━━━━━━┳━━━━━━━━━━━━┳━━━━━━━━┳━━━━━━━━━━━┳━━━━━━━━━━━┳━━━━━━━━━┳━━━━━━━━┳━━━━━━━━━━┳━━━━━━━━━━━┓\n",
       "┃<span style=\"font-weight: bold\"> name           </span>┃<span style=\"font-weight: bold\"> height </span>┃<span style=\"font-weight: bold\"> mass    </span>┃<span style=\"font-weight: bold\"> hair_color  </span>┃<span style=\"font-weight: bold\"> skin_color  </span>┃<span style=\"font-weight: bold\"> eye_color </span>┃<span style=\"font-weight: bold\"> birth_year </span>┃<span style=\"font-weight: bold\"> sex    </span>┃<span style=\"font-weight: bold\"> gender    </span>┃<span style=\"font-weight: bold\"> homeworld </span>┃<span style=\"font-weight: bold\"> species </span>┃<span style=\"font-weight: bold\"> films  </span>┃<span style=\"font-weight: bold\"> vehicles </span>┃<span style=\"font-weight: bold\"> starships </span>┃\n",
       "┡━━━━━━━━━━━━━━━━╇━━━━━━━━╇━━━━━━━━━╇━━━━━━━━━━━━━╇━━━━━━━━━━━━━╇━━━━━━━━━━━╇━━━━━━━━━━━━╇━━━━━━━━╇━━━━━━━━━━━╇━━━━━━━━━━━╇━━━━━━━━━╇━━━━━━━━╇━━━━━━━━━━╇━━━━━━━━━━━┩\n",
       "│ <span style=\"color: #7f7f7f; text-decoration-color: #7f7f7f\">string</span>         │ <span style=\"color: #7f7f7f; text-decoration-color: #7f7f7f\">int64</span>  │ <span style=\"color: #7f7f7f; text-decoration-color: #7f7f7f\">float64</span> │ <span style=\"color: #7f7f7f; text-decoration-color: #7f7f7f\">string</span>      │ <span style=\"color: #7f7f7f; text-decoration-color: #7f7f7f\">string</span>      │ <span style=\"color: #7f7f7f; text-decoration-color: #7f7f7f\">string</span>    │ <span style=\"color: #7f7f7f; text-decoration-color: #7f7f7f\">float64</span>    │ <span style=\"color: #7f7f7f; text-decoration-color: #7f7f7f\">string</span> │ <span style=\"color: #7f7f7f; text-decoration-color: #7f7f7f\">string</span>    │ <span style=\"color: #7f7f7f; text-decoration-color: #7f7f7f\">string</span>    │ <span style=\"color: #7f7f7f; text-decoration-color: #7f7f7f\">string</span>  │ <span style=\"color: #7f7f7f; text-decoration-color: #7f7f7f\">string</span> │ <span style=\"color: #7f7f7f; text-decoration-color: #7f7f7f\">string</span>   │ <span style=\"color: #7f7f7f; text-decoration-color: #7f7f7f\">string</span>    │\n",
       "├────────────────┼────────┼─────────┼─────────────┼─────────────┼───────────┼────────────┼────────┼───────────┼───────────┼─────────┼────────┼──────────┼───────────┤\n",
       "│ <span style=\"color: #008000; text-decoration-color: #008000\">Luke Skywalker</span> │    <span style=\"color: #008080; text-decoration-color: #008080; font-weight: bold\">172</span> │    <span style=\"color: #008080; text-decoration-color: #008080; font-weight: bold\">77.0</span> │ <span style=\"color: #008000; text-decoration-color: #008000\">blond      </span> │ <span style=\"color: #008000; text-decoration-color: #008000\">fair       </span> │ <span style=\"color: #008000; text-decoration-color: #008000\">blue     </span> │       <span style=\"color: #008080; text-decoration-color: #008080; font-weight: bold\">19.0</span> │ <span style=\"color: #008000; text-decoration-color: #008000\">male  </span> │ <span style=\"color: #008000; text-decoration-color: #008000\">masculine</span> │ <span style=\"color: #008000; text-decoration-color: #008000\">Tatooine </span> │ <span style=\"color: #008000; text-decoration-color: #008000\">Human  </span> │ <span style=\"color: #7f7f7f; text-decoration-color: #7f7f7f\">NULL</span>   │ <span style=\"color: #7f7f7f; text-decoration-color: #7f7f7f\">NULL</span>     │ <span style=\"color: #7f7f7f; text-decoration-color: #7f7f7f\">NULL</span>      │\n",
       "│ <span style=\"color: #008000; text-decoration-color: #008000\">C-3PO         </span> │    <span style=\"color: #008080; text-decoration-color: #008080; font-weight: bold\">167</span> │    <span style=\"color: #008080; text-decoration-color: #008080; font-weight: bold\">75.0</span> │ <span style=\"color: #7f7f7f; text-decoration-color: #7f7f7f\">NULL</span>        │ <span style=\"color: #008000; text-decoration-color: #008000\">gold       </span> │ <span style=\"color: #008000; text-decoration-color: #008000\">yellow   </span> │      <span style=\"color: #008080; text-decoration-color: #008080; font-weight: bold\">112.0</span> │ <span style=\"color: #008000; text-decoration-color: #008000\">none  </span> │ <span style=\"color: #008000; text-decoration-color: #008000\">masculine</span> │ <span style=\"color: #008000; text-decoration-color: #008000\">Tatooine </span> │ <span style=\"color: #008000; text-decoration-color: #008000\">Droid  </span> │ <span style=\"color: #7f7f7f; text-decoration-color: #7f7f7f\">NULL</span>   │ <span style=\"color: #7f7f7f; text-decoration-color: #7f7f7f\">NULL</span>     │ <span style=\"color: #7f7f7f; text-decoration-color: #7f7f7f\">NULL</span>      │\n",
       "│ <span style=\"color: #008000; text-decoration-color: #008000\">R2-D2         </span> │     <span style=\"color: #008080; text-decoration-color: #008080; font-weight: bold\">96</span> │    <span style=\"color: #008080; text-decoration-color: #008080; font-weight: bold\">32.0</span> │ <span style=\"color: #7f7f7f; text-decoration-color: #7f7f7f\">NULL</span>        │ <span style=\"color: #008000; text-decoration-color: #008000\">white, blue</span> │ <span style=\"color: #008000; text-decoration-color: #008000\">red      </span> │       <span style=\"color: #008080; text-decoration-color: #008080; font-weight: bold\">33.0</span> │ <span style=\"color: #008000; text-decoration-color: #008000\">none  </span> │ <span style=\"color: #008000; text-decoration-color: #008000\">masculine</span> │ <span style=\"color: #008000; text-decoration-color: #008000\">Naboo    </span> │ <span style=\"color: #008000; text-decoration-color: #008000\">Droid  </span> │ <span style=\"color: #7f7f7f; text-decoration-color: #7f7f7f\">NULL</span>   │ <span style=\"color: #7f7f7f; text-decoration-color: #7f7f7f\">NULL</span>     │ <span style=\"color: #7f7f7f; text-decoration-color: #7f7f7f\">NULL</span>      │\n",
       "│ <span style=\"color: #008000; text-decoration-color: #008000\">Darth Vader   </span> │    <span style=\"color: #008080; text-decoration-color: #008080; font-weight: bold\">202</span> │   <span style=\"color: #008080; text-decoration-color: #008080; font-weight: bold\">136.0</span> │ <span style=\"color: #008000; text-decoration-color: #008000\">none       </span> │ <span style=\"color: #008000; text-decoration-color: #008000\">white      </span> │ <span style=\"color: #008000; text-decoration-color: #008000\">yellow   </span> │       <span style=\"color: #008080; text-decoration-color: #008080; font-weight: bold\">41.9</span> │ <span style=\"color: #008000; text-decoration-color: #008000\">male  </span> │ <span style=\"color: #008000; text-decoration-color: #008000\">masculine</span> │ <span style=\"color: #008000; text-decoration-color: #008000\">Tatooine </span> │ <span style=\"color: #008000; text-decoration-color: #008000\">Human  </span> │ <span style=\"color: #7f7f7f; text-decoration-color: #7f7f7f\">NULL</span>   │ <span style=\"color: #7f7f7f; text-decoration-color: #7f7f7f\">NULL</span>     │ <span style=\"color: #7f7f7f; text-decoration-color: #7f7f7f\">NULL</span>      │\n",
       "│ <span style=\"color: #008000; text-decoration-color: #008000\">Leia Organa   </span> │    <span style=\"color: #008080; text-decoration-color: #008080; font-weight: bold\">150</span> │    <span style=\"color: #008080; text-decoration-color: #008080; font-weight: bold\">49.0</span> │ <span style=\"color: #008000; text-decoration-color: #008000\">brown      </span> │ <span style=\"color: #008000; text-decoration-color: #008000\">light      </span> │ <span style=\"color: #008000; text-decoration-color: #008000\">brown    </span> │       <span style=\"color: #008080; text-decoration-color: #008080; font-weight: bold\">19.0</span> │ <span style=\"color: #008000; text-decoration-color: #008000\">female</span> │ <span style=\"color: #008000; text-decoration-color: #008000\">feminine </span> │ <span style=\"color: #008000; text-decoration-color: #008000\">Alderaan </span> │ <span style=\"color: #008000; text-decoration-color: #008000\">Human  </span> │ <span style=\"color: #7f7f7f; text-decoration-color: #7f7f7f\">NULL</span>   │ <span style=\"color: #7f7f7f; text-decoration-color: #7f7f7f\">NULL</span>     │ <span style=\"color: #7f7f7f; text-decoration-color: #7f7f7f\">NULL</span>      │\n",
       "│ <span style=\"color: #008000; text-decoration-color: #008000\">Owen Lars     </span> │    <span style=\"color: #008080; text-decoration-color: #008080; font-weight: bold\">178</span> │   <span style=\"color: #008080; text-decoration-color: #008080; font-weight: bold\">120.0</span> │ <span style=\"color: #008000; text-decoration-color: #008000\">brown, grey</span> │ <span style=\"color: #008000; text-decoration-color: #008000\">light      </span> │ <span style=\"color: #008000; text-decoration-color: #008000\">blue     </span> │       <span style=\"color: #008080; text-decoration-color: #008080; font-weight: bold\">52.0</span> │ <span style=\"color: #008000; text-decoration-color: #008000\">male  </span> │ <span style=\"color: #008000; text-decoration-color: #008000\">masculine</span> │ <span style=\"color: #008000; text-decoration-color: #008000\">Tatooine </span> │ <span style=\"color: #008000; text-decoration-color: #008000\">Human  </span> │ <span style=\"color: #7f7f7f; text-decoration-color: #7f7f7f\">NULL</span>   │ <span style=\"color: #7f7f7f; text-decoration-color: #7f7f7f\">NULL</span>     │ <span style=\"color: #7f7f7f; text-decoration-color: #7f7f7f\">NULL</span>      │\n",
       "└────────────────┴────────┴─────────┴─────────────┴─────────────┴───────────┴────────────┴────────┴───────────┴───────────┴─────────┴────────┴──────────┴───────────┘\n",
       "</pre>\n"
      ],
      "text/plain": [
       "┏━━━━━━━━━━━━━━━━┳━━━━━━━━┳━━━━━━━━━┳━━━━━━━━━━━━━┳━━━━━━━━━━━━━┳━━━━━━━━━━━┳━━━━━━━━━━━━┳━━━━━━━━┳━━━━━━━━━━━┳━━━━━━━━━━━┳━━━━━━━━━┳━━━━━━━━┳━━━━━━━━━━┳━━━━━━━━━━━┓\n",
       "┃\u001b[1m \u001b[0m\u001b[1mname\u001b[0m\u001b[1m          \u001b[0m\u001b[1m \u001b[0m┃\u001b[1m \u001b[0m\u001b[1mheight\u001b[0m\u001b[1m \u001b[0m┃\u001b[1m \u001b[0m\u001b[1mmass\u001b[0m\u001b[1m   \u001b[0m\u001b[1m \u001b[0m┃\u001b[1m \u001b[0m\u001b[1mhair_color\u001b[0m\u001b[1m \u001b[0m\u001b[1m \u001b[0m┃\u001b[1m \u001b[0m\u001b[1mskin_color\u001b[0m\u001b[1m \u001b[0m\u001b[1m \u001b[0m┃\u001b[1m \u001b[0m\u001b[1meye_color\u001b[0m\u001b[1m \u001b[0m┃\u001b[1m \u001b[0m\u001b[1mbirth_year\u001b[0m\u001b[1m \u001b[0m┃\u001b[1m \u001b[0m\u001b[1msex\u001b[0m\u001b[1m   \u001b[0m\u001b[1m \u001b[0m┃\u001b[1m \u001b[0m\u001b[1mgender\u001b[0m\u001b[1m   \u001b[0m\u001b[1m \u001b[0m┃\u001b[1m \u001b[0m\u001b[1mhomeworld\u001b[0m\u001b[1m \u001b[0m┃\u001b[1m \u001b[0m\u001b[1mspecies\u001b[0m\u001b[1m \u001b[0m┃\u001b[1m \u001b[0m\u001b[1mfilms\u001b[0m\u001b[1m \u001b[0m\u001b[1m \u001b[0m┃\u001b[1m \u001b[0m\u001b[1mvehicles\u001b[0m\u001b[1m \u001b[0m┃\u001b[1m \u001b[0m\u001b[1mstarships\u001b[0m\u001b[1m \u001b[0m┃\n",
       "┡━━━━━━━━━━━━━━━━╇━━━━━━━━╇━━━━━━━━━╇━━━━━━━━━━━━━╇━━━━━━━━━━━━━╇━━━━━━━━━━━╇━━━━━━━━━━━━╇━━━━━━━━╇━━━━━━━━━━━╇━━━━━━━━━━━╇━━━━━━━━━╇━━━━━━━━╇━━━━━━━━━━╇━━━━━━━━━━━┩\n",
       "│ \u001b[2mstring\u001b[0m         │ \u001b[2mint64\u001b[0m  │ \u001b[2mfloat64\u001b[0m │ \u001b[2mstring\u001b[0m      │ \u001b[2mstring\u001b[0m      │ \u001b[2mstring\u001b[0m    │ \u001b[2mfloat64\u001b[0m    │ \u001b[2mstring\u001b[0m │ \u001b[2mstring\u001b[0m    │ \u001b[2mstring\u001b[0m    │ \u001b[2mstring\u001b[0m  │ \u001b[2mstring\u001b[0m │ \u001b[2mstring\u001b[0m   │ \u001b[2mstring\u001b[0m    │\n",
       "├────────────────┼────────┼─────────┼─────────────┼─────────────┼───────────┼────────────┼────────┼───────────┼───────────┼─────────┼────────┼──────────┼───────────┤\n",
       "│ \u001b[32mLuke Skywalker\u001b[0m │    \u001b[1;36m172\u001b[0m │    \u001b[1;36m77.0\u001b[0m │ \u001b[32mblond      \u001b[0m │ \u001b[32mfair       \u001b[0m │ \u001b[32mblue     \u001b[0m │       \u001b[1;36m19.0\u001b[0m │ \u001b[32mmale  \u001b[0m │ \u001b[32mmasculine\u001b[0m │ \u001b[32mTatooine \u001b[0m │ \u001b[32mHuman  \u001b[0m │ \u001b[2mNULL\u001b[0m   │ \u001b[2mNULL\u001b[0m     │ \u001b[2mNULL\u001b[0m      │\n",
       "│ \u001b[32mC-3PO         \u001b[0m │    \u001b[1;36m167\u001b[0m │    \u001b[1;36m75.0\u001b[0m │ \u001b[2mNULL\u001b[0m        │ \u001b[32mgold       \u001b[0m │ \u001b[32myellow   \u001b[0m │      \u001b[1;36m112.0\u001b[0m │ \u001b[32mnone  \u001b[0m │ \u001b[32mmasculine\u001b[0m │ \u001b[32mTatooine \u001b[0m │ \u001b[32mDroid  \u001b[0m │ \u001b[2mNULL\u001b[0m   │ \u001b[2mNULL\u001b[0m     │ \u001b[2mNULL\u001b[0m      │\n",
       "│ \u001b[32mR2-D2         \u001b[0m │     \u001b[1;36m96\u001b[0m │    \u001b[1;36m32.0\u001b[0m │ \u001b[2mNULL\u001b[0m        │ \u001b[32mwhite, blue\u001b[0m │ \u001b[32mred      \u001b[0m │       \u001b[1;36m33.0\u001b[0m │ \u001b[32mnone  \u001b[0m │ \u001b[32mmasculine\u001b[0m │ \u001b[32mNaboo    \u001b[0m │ \u001b[32mDroid  \u001b[0m │ \u001b[2mNULL\u001b[0m   │ \u001b[2mNULL\u001b[0m     │ \u001b[2mNULL\u001b[0m      │\n",
       "│ \u001b[32mDarth Vader   \u001b[0m │    \u001b[1;36m202\u001b[0m │   \u001b[1;36m136.0\u001b[0m │ \u001b[32mnone       \u001b[0m │ \u001b[32mwhite      \u001b[0m │ \u001b[32myellow   \u001b[0m │       \u001b[1;36m41.9\u001b[0m │ \u001b[32mmale  \u001b[0m │ \u001b[32mmasculine\u001b[0m │ \u001b[32mTatooine \u001b[0m │ \u001b[32mHuman  \u001b[0m │ \u001b[2mNULL\u001b[0m   │ \u001b[2mNULL\u001b[0m     │ \u001b[2mNULL\u001b[0m      │\n",
       "│ \u001b[32mLeia Organa   \u001b[0m │    \u001b[1;36m150\u001b[0m │    \u001b[1;36m49.0\u001b[0m │ \u001b[32mbrown      \u001b[0m │ \u001b[32mlight      \u001b[0m │ \u001b[32mbrown    \u001b[0m │       \u001b[1;36m19.0\u001b[0m │ \u001b[32mfemale\u001b[0m │ \u001b[32mfeminine \u001b[0m │ \u001b[32mAlderaan \u001b[0m │ \u001b[32mHuman  \u001b[0m │ \u001b[2mNULL\u001b[0m   │ \u001b[2mNULL\u001b[0m     │ \u001b[2mNULL\u001b[0m      │\n",
       "│ \u001b[32mOwen Lars     \u001b[0m │    \u001b[1;36m178\u001b[0m │   \u001b[1;36m120.0\u001b[0m │ \u001b[32mbrown, grey\u001b[0m │ \u001b[32mlight      \u001b[0m │ \u001b[32mblue     \u001b[0m │       \u001b[1;36m52.0\u001b[0m │ \u001b[32mmale  \u001b[0m │ \u001b[32mmasculine\u001b[0m │ \u001b[32mTatooine \u001b[0m │ \u001b[32mHuman  \u001b[0m │ \u001b[2mNULL\u001b[0m   │ \u001b[2mNULL\u001b[0m     │ \u001b[2mNULL\u001b[0m      │\n",
       "└────────────────┴────────┴─────────┴─────────────┴─────────────┴───────────┴────────────┴────────┴───────────┴───────────┴─────────┴────────┴──────────┴───────────┘"
      ]
     },
     "execution_count": 4,
     "metadata": {},
     "output_type": "execute_result"
    }
   ],
   "source": [
    "starwars.head(6)"
   ]
  },
  {
   "cell_type": "markdown",
   "metadata": {},
   "source": [
    "There is no `tail()` in Ibis because most databases do not support this operation.\n",
    "\n",
    "Another method you can use to limit the number of rows returned by a query is `limit()` which also takes the `n` parameter."
   ]
  },
  {
   "cell_type": "code",
   "execution_count": 5,
   "metadata": {},
   "outputs": [
    {
     "data": {
      "text/html": [
       "<pre style=\"white-space:pre;overflow-x:auto;line-height:normal;font-family:Menlo,'DejaVu Sans Mono',consolas,'Courier New',monospace\">┏━━━━━━━━━━━━━━━━┳━━━━━━━━┳━━━━━━━━━┳━━━━━━━━━━━━┳━━━━━━━━━━━━━┳━━━━━━━━━━━┳━━━━━━━━━━━━┳━━━━━━━━┳━━━━━━━━━━━┳━━━━━━━━━━━┳━━━━━━━━━┳━━━━━━━━┳━━━━━━━━━━┳━━━━━━━━━━━┓\n",
       "┃<span style=\"font-weight: bold\"> name           </span>┃<span style=\"font-weight: bold\"> height </span>┃<span style=\"font-weight: bold\"> mass    </span>┃<span style=\"font-weight: bold\"> hair_color </span>┃<span style=\"font-weight: bold\"> skin_color  </span>┃<span style=\"font-weight: bold\"> eye_color </span>┃<span style=\"font-weight: bold\"> birth_year </span>┃<span style=\"font-weight: bold\"> sex    </span>┃<span style=\"font-weight: bold\"> gender    </span>┃<span style=\"font-weight: bold\"> homeworld </span>┃<span style=\"font-weight: bold\"> species </span>┃<span style=\"font-weight: bold\"> films  </span>┃<span style=\"font-weight: bold\"> vehicles </span>┃<span style=\"font-weight: bold\"> starships </span>┃\n",
       "┡━━━━━━━━━━━━━━━━╇━━━━━━━━╇━━━━━━━━━╇━━━━━━━━━━━━╇━━━━━━━━━━━━━╇━━━━━━━━━━━╇━━━━━━━━━━━━╇━━━━━━━━╇━━━━━━━━━━━╇━━━━━━━━━━━╇━━━━━━━━━╇━━━━━━━━╇━━━━━━━━━━╇━━━━━━━━━━━┩\n",
       "│ <span style=\"color: #7f7f7f; text-decoration-color: #7f7f7f\">string</span>         │ <span style=\"color: #7f7f7f; text-decoration-color: #7f7f7f\">int64</span>  │ <span style=\"color: #7f7f7f; text-decoration-color: #7f7f7f\">float64</span> │ <span style=\"color: #7f7f7f; text-decoration-color: #7f7f7f\">string</span>     │ <span style=\"color: #7f7f7f; text-decoration-color: #7f7f7f\">string</span>      │ <span style=\"color: #7f7f7f; text-decoration-color: #7f7f7f\">string</span>    │ <span style=\"color: #7f7f7f; text-decoration-color: #7f7f7f\">float64</span>    │ <span style=\"color: #7f7f7f; text-decoration-color: #7f7f7f\">string</span> │ <span style=\"color: #7f7f7f; text-decoration-color: #7f7f7f\">string</span>    │ <span style=\"color: #7f7f7f; text-decoration-color: #7f7f7f\">string</span>    │ <span style=\"color: #7f7f7f; text-decoration-color: #7f7f7f\">string</span>  │ <span style=\"color: #7f7f7f; text-decoration-color: #7f7f7f\">string</span> │ <span style=\"color: #7f7f7f; text-decoration-color: #7f7f7f\">string</span>   │ <span style=\"color: #7f7f7f; text-decoration-color: #7f7f7f\">string</span>    │\n",
       "├────────────────┼────────┼─────────┼────────────┼─────────────┼───────────┼────────────┼────────┼───────────┼───────────┼─────────┼────────┼──────────┼───────────┤\n",
       "│ <span style=\"color: #008000; text-decoration-color: #008000\">Luke Skywalker</span> │    <span style=\"color: #008080; text-decoration-color: #008080; font-weight: bold\">172</span> │    <span style=\"color: #008080; text-decoration-color: #008080; font-weight: bold\">77.0</span> │ <span style=\"color: #008000; text-decoration-color: #008000\">blond     </span> │ <span style=\"color: #008000; text-decoration-color: #008000\">fair       </span> │ <span style=\"color: #008000; text-decoration-color: #008000\">blue     </span> │       <span style=\"color: #008080; text-decoration-color: #008080; font-weight: bold\">19.0</span> │ <span style=\"color: #008000; text-decoration-color: #008000\">male  </span> │ <span style=\"color: #008000; text-decoration-color: #008000\">masculine</span> │ <span style=\"color: #008000; text-decoration-color: #008000\">Tatooine </span> │ <span style=\"color: #008000; text-decoration-color: #008000\">Human  </span> │ <span style=\"color: #7f7f7f; text-decoration-color: #7f7f7f\">NULL</span>   │ <span style=\"color: #7f7f7f; text-decoration-color: #7f7f7f\">NULL</span>     │ <span style=\"color: #7f7f7f; text-decoration-color: #7f7f7f\">NULL</span>      │\n",
       "│ <span style=\"color: #008000; text-decoration-color: #008000\">C-3PO         </span> │    <span style=\"color: #008080; text-decoration-color: #008080; font-weight: bold\">167</span> │    <span style=\"color: #008080; text-decoration-color: #008080; font-weight: bold\">75.0</span> │ <span style=\"color: #7f7f7f; text-decoration-color: #7f7f7f\">NULL</span>       │ <span style=\"color: #008000; text-decoration-color: #008000\">gold       </span> │ <span style=\"color: #008000; text-decoration-color: #008000\">yellow   </span> │      <span style=\"color: #008080; text-decoration-color: #008080; font-weight: bold\">112.0</span> │ <span style=\"color: #008000; text-decoration-color: #008000\">none  </span> │ <span style=\"color: #008000; text-decoration-color: #008000\">masculine</span> │ <span style=\"color: #008000; text-decoration-color: #008000\">Tatooine </span> │ <span style=\"color: #008000; text-decoration-color: #008000\">Droid  </span> │ <span style=\"color: #7f7f7f; text-decoration-color: #7f7f7f\">NULL</span>   │ <span style=\"color: #7f7f7f; text-decoration-color: #7f7f7f\">NULL</span>     │ <span style=\"color: #7f7f7f; text-decoration-color: #7f7f7f\">NULL</span>      │\n",
       "│ <span style=\"color: #008000; text-decoration-color: #008000\">R2-D2         </span> │     <span style=\"color: #008080; text-decoration-color: #008080; font-weight: bold\">96</span> │    <span style=\"color: #008080; text-decoration-color: #008080; font-weight: bold\">32.0</span> │ <span style=\"color: #7f7f7f; text-decoration-color: #7f7f7f\">NULL</span>       │ <span style=\"color: #008000; text-decoration-color: #008000\">white, blue</span> │ <span style=\"color: #008000; text-decoration-color: #008000\">red      </span> │       <span style=\"color: #008080; text-decoration-color: #008080; font-weight: bold\">33.0</span> │ <span style=\"color: #008000; text-decoration-color: #008000\">none  </span> │ <span style=\"color: #008000; text-decoration-color: #008000\">masculine</span> │ <span style=\"color: #008000; text-decoration-color: #008000\">Naboo    </span> │ <span style=\"color: #008000; text-decoration-color: #008000\">Droid  </span> │ <span style=\"color: #7f7f7f; text-decoration-color: #7f7f7f\">NULL</span>   │ <span style=\"color: #7f7f7f; text-decoration-color: #7f7f7f\">NULL</span>     │ <span style=\"color: #7f7f7f; text-decoration-color: #7f7f7f\">NULL</span>      │\n",
       "└────────────────┴────────┴─────────┴────────────┴─────────────┴───────────┴────────────┴────────┴───────────┴───────────┴─────────┴────────┴──────────┴───────────┘\n",
       "</pre>\n"
      ],
      "text/plain": [
       "┏━━━━━━━━━━━━━━━━┳━━━━━━━━┳━━━━━━━━━┳━━━━━━━━━━━━┳━━━━━━━━━━━━━┳━━━━━━━━━━━┳━━━━━━━━━━━━┳━━━━━━━━┳━━━━━━━━━━━┳━━━━━━━━━━━┳━━━━━━━━━┳━━━━━━━━┳━━━━━━━━━━┳━━━━━━━━━━━┓\n",
       "┃\u001b[1m \u001b[0m\u001b[1mname\u001b[0m\u001b[1m          \u001b[0m\u001b[1m \u001b[0m┃\u001b[1m \u001b[0m\u001b[1mheight\u001b[0m\u001b[1m \u001b[0m┃\u001b[1m \u001b[0m\u001b[1mmass\u001b[0m\u001b[1m   \u001b[0m\u001b[1m \u001b[0m┃\u001b[1m \u001b[0m\u001b[1mhair_color\u001b[0m\u001b[1m \u001b[0m┃\u001b[1m \u001b[0m\u001b[1mskin_color\u001b[0m\u001b[1m \u001b[0m\u001b[1m \u001b[0m┃\u001b[1m \u001b[0m\u001b[1meye_color\u001b[0m\u001b[1m \u001b[0m┃\u001b[1m \u001b[0m\u001b[1mbirth_year\u001b[0m\u001b[1m \u001b[0m┃\u001b[1m \u001b[0m\u001b[1msex\u001b[0m\u001b[1m   \u001b[0m\u001b[1m \u001b[0m┃\u001b[1m \u001b[0m\u001b[1mgender\u001b[0m\u001b[1m   \u001b[0m\u001b[1m \u001b[0m┃\u001b[1m \u001b[0m\u001b[1mhomeworld\u001b[0m\u001b[1m \u001b[0m┃\u001b[1m \u001b[0m\u001b[1mspecies\u001b[0m\u001b[1m \u001b[0m┃\u001b[1m \u001b[0m\u001b[1mfilms\u001b[0m\u001b[1m \u001b[0m\u001b[1m \u001b[0m┃\u001b[1m \u001b[0m\u001b[1mvehicles\u001b[0m\u001b[1m \u001b[0m┃\u001b[1m \u001b[0m\u001b[1mstarships\u001b[0m\u001b[1m \u001b[0m┃\n",
       "┡━━━━━━━━━━━━━━━━╇━━━━━━━━╇━━━━━━━━━╇━━━━━━━━━━━━╇━━━━━━━━━━━━━╇━━━━━━━━━━━╇━━━━━━━━━━━━╇━━━━━━━━╇━━━━━━━━━━━╇━━━━━━━━━━━╇━━━━━━━━━╇━━━━━━━━╇━━━━━━━━━━╇━━━━━━━━━━━┩\n",
       "│ \u001b[2mstring\u001b[0m         │ \u001b[2mint64\u001b[0m  │ \u001b[2mfloat64\u001b[0m │ \u001b[2mstring\u001b[0m     │ \u001b[2mstring\u001b[0m      │ \u001b[2mstring\u001b[0m    │ \u001b[2mfloat64\u001b[0m    │ \u001b[2mstring\u001b[0m │ \u001b[2mstring\u001b[0m    │ \u001b[2mstring\u001b[0m    │ \u001b[2mstring\u001b[0m  │ \u001b[2mstring\u001b[0m │ \u001b[2mstring\u001b[0m   │ \u001b[2mstring\u001b[0m    │\n",
       "├────────────────┼────────┼─────────┼────────────┼─────────────┼───────────┼────────────┼────────┼───────────┼───────────┼─────────┼────────┼──────────┼───────────┤\n",
       "│ \u001b[32mLuke Skywalker\u001b[0m │    \u001b[1;36m172\u001b[0m │    \u001b[1;36m77.0\u001b[0m │ \u001b[32mblond     \u001b[0m │ \u001b[32mfair       \u001b[0m │ \u001b[32mblue     \u001b[0m │       \u001b[1;36m19.0\u001b[0m │ \u001b[32mmale  \u001b[0m │ \u001b[32mmasculine\u001b[0m │ \u001b[32mTatooine \u001b[0m │ \u001b[32mHuman  \u001b[0m │ \u001b[2mNULL\u001b[0m   │ \u001b[2mNULL\u001b[0m     │ \u001b[2mNULL\u001b[0m      │\n",
       "│ \u001b[32mC-3PO         \u001b[0m │    \u001b[1;36m167\u001b[0m │    \u001b[1;36m75.0\u001b[0m │ \u001b[2mNULL\u001b[0m       │ \u001b[32mgold       \u001b[0m │ \u001b[32myellow   \u001b[0m │      \u001b[1;36m112.0\u001b[0m │ \u001b[32mnone  \u001b[0m │ \u001b[32mmasculine\u001b[0m │ \u001b[32mTatooine \u001b[0m │ \u001b[32mDroid  \u001b[0m │ \u001b[2mNULL\u001b[0m   │ \u001b[2mNULL\u001b[0m     │ \u001b[2mNULL\u001b[0m      │\n",
       "│ \u001b[32mR2-D2         \u001b[0m │     \u001b[1;36m96\u001b[0m │    \u001b[1;36m32.0\u001b[0m │ \u001b[2mNULL\u001b[0m       │ \u001b[32mwhite, blue\u001b[0m │ \u001b[32mred      \u001b[0m │       \u001b[1;36m33.0\u001b[0m │ \u001b[32mnone  \u001b[0m │ \u001b[32mmasculine\u001b[0m │ \u001b[32mNaboo    \u001b[0m │ \u001b[32mDroid  \u001b[0m │ \u001b[2mNULL\u001b[0m   │ \u001b[2mNULL\u001b[0m     │ \u001b[2mNULL\u001b[0m      │\n",
       "└────────────────┴────────┴─────────┴────────────┴─────────────┴───────────┴────────────┴────────┴───────────┴───────────┴─────────┴────────┴──────────┴───────────┘"
      ]
     },
     "execution_count": 5,
     "metadata": {},
     "output_type": "execute_result"
    }
   ],
   "source": [
    "starwars.limit(3)"
   ]
  },
  {
   "attachments": {},
   "cell_type": "markdown",
   "metadata": {},
   "source": [
    "### Filtering rows with filter()"
   ]
  },
  {
   "attachments": {},
   "cell_type": "markdown",
   "metadata": {},
   "source": [
    "Ibis, like dplyr, has the `filter` method to select rows based on conditions.\n",
    "\n",
    "With dplyr:\n",
    "\n",
    "```r\n",
    "starwars |>\n",
    "  filter(skin_color == \"light\")\n",
    "```\n",
    "\n",
    "In Ibis:"
   ]
  },
  {
   "cell_type": "code",
   "execution_count": 6,
   "metadata": {},
   "outputs": [
    {
     "data": {
      "text/html": [
       "<pre style=\"white-space:pre;overflow-x:auto;line-height:normal;font-family:Menlo,'DejaVu Sans Mono',consolas,'Courier New',monospace\">┏━━━━━━━━━━━━━━━━━━━━┳━━━━━━━━┳━━━━━━━━━┳━━━━━━━━━━━━━┳━━━━━━━━━━━━┳━━━━━━━━━━━┳━━━━━━━━━━━━┳━━━━━━━━┳━━━━━━━━━━━┳━━━━━━━━━━━┳━━━━━━━━━┳━━━━━━━━┳━━━━━━━━━━┳━━━━━━━━━━━┓\n",
       "┃<span style=\"font-weight: bold\"> name               </span>┃<span style=\"font-weight: bold\"> height </span>┃<span style=\"font-weight: bold\"> mass    </span>┃<span style=\"font-weight: bold\"> hair_color  </span>┃<span style=\"font-weight: bold\"> skin_color </span>┃<span style=\"font-weight: bold\"> eye_color </span>┃<span style=\"font-weight: bold\"> birth_year </span>┃<span style=\"font-weight: bold\"> sex    </span>┃<span style=\"font-weight: bold\"> gender    </span>┃<span style=\"font-weight: bold\"> homeworld </span>┃<span style=\"font-weight: bold\"> species </span>┃<span style=\"font-weight: bold\"> films  </span>┃<span style=\"font-weight: bold\"> vehicles </span>┃<span style=\"font-weight: bold\"> starships </span>┃\n",
       "┡━━━━━━━━━━━━━━━━━━━━╇━━━━━━━━╇━━━━━━━━━╇━━━━━━━━━━━━━╇━━━━━━━━━━━━╇━━━━━━━━━━━╇━━━━━━━━━━━━╇━━━━━━━━╇━━━━━━━━━━━╇━━━━━━━━━━━╇━━━━━━━━━╇━━━━━━━━╇━━━━━━━━━━╇━━━━━━━━━━━┩\n",
       "│ <span style=\"color: #7f7f7f; text-decoration-color: #7f7f7f\">string</span>             │ <span style=\"color: #7f7f7f; text-decoration-color: #7f7f7f\">int64</span>  │ <span style=\"color: #7f7f7f; text-decoration-color: #7f7f7f\">float64</span> │ <span style=\"color: #7f7f7f; text-decoration-color: #7f7f7f\">string</span>      │ <span style=\"color: #7f7f7f; text-decoration-color: #7f7f7f\">string</span>     │ <span style=\"color: #7f7f7f; text-decoration-color: #7f7f7f\">string</span>    │ <span style=\"color: #7f7f7f; text-decoration-color: #7f7f7f\">float64</span>    │ <span style=\"color: #7f7f7f; text-decoration-color: #7f7f7f\">string</span> │ <span style=\"color: #7f7f7f; text-decoration-color: #7f7f7f\">string</span>    │ <span style=\"color: #7f7f7f; text-decoration-color: #7f7f7f\">string</span>    │ <span style=\"color: #7f7f7f; text-decoration-color: #7f7f7f\">string</span>  │ <span style=\"color: #7f7f7f; text-decoration-color: #7f7f7f\">string</span> │ <span style=\"color: #7f7f7f; text-decoration-color: #7f7f7f\">string</span>   │ <span style=\"color: #7f7f7f; text-decoration-color: #7f7f7f\">string</span>    │\n",
       "├────────────────────┼────────┼─────────┼─────────────┼────────────┼───────────┼────────────┼────────┼───────────┼───────────┼─────────┼────────┼──────────┼───────────┤\n",
       "│ <span style=\"color: #008000; text-decoration-color: #008000\">Leia Organa       </span> │    <span style=\"color: #008080; text-decoration-color: #008080; font-weight: bold\">150</span> │    <span style=\"color: #008080; text-decoration-color: #008080; font-weight: bold\">49.0</span> │ <span style=\"color: #008000; text-decoration-color: #008000\">brown      </span> │ <span style=\"color: #008000; text-decoration-color: #008000\">light     </span> │ <span style=\"color: #008000; text-decoration-color: #008000\">brown    </span> │       <span style=\"color: #008080; text-decoration-color: #008080; font-weight: bold\">19.0</span> │ <span style=\"color: #008000; text-decoration-color: #008000\">female</span> │ <span style=\"color: #008000; text-decoration-color: #008000\">feminine </span> │ <span style=\"color: #008000; text-decoration-color: #008000\">Alderaan </span> │ <span style=\"color: #008000; text-decoration-color: #008000\">Human  </span> │ <span style=\"color: #7f7f7f; text-decoration-color: #7f7f7f\">NULL</span>   │ <span style=\"color: #7f7f7f; text-decoration-color: #7f7f7f\">NULL</span>     │ <span style=\"color: #7f7f7f; text-decoration-color: #7f7f7f\">NULL</span>      │\n",
       "│ <span style=\"color: #008000; text-decoration-color: #008000\">Owen Lars         </span> │    <span style=\"color: #008080; text-decoration-color: #008080; font-weight: bold\">178</span> │   <span style=\"color: #008080; text-decoration-color: #008080; font-weight: bold\">120.0</span> │ <span style=\"color: #008000; text-decoration-color: #008000\">brown, grey</span> │ <span style=\"color: #008000; text-decoration-color: #008000\">light     </span> │ <span style=\"color: #008000; text-decoration-color: #008000\">blue     </span> │       <span style=\"color: #008080; text-decoration-color: #008080; font-weight: bold\">52.0</span> │ <span style=\"color: #008000; text-decoration-color: #008000\">male  </span> │ <span style=\"color: #008000; text-decoration-color: #008000\">masculine</span> │ <span style=\"color: #008000; text-decoration-color: #008000\">Tatooine </span> │ <span style=\"color: #008000; text-decoration-color: #008000\">Human  </span> │ <span style=\"color: #7f7f7f; text-decoration-color: #7f7f7f\">NULL</span>   │ <span style=\"color: #7f7f7f; text-decoration-color: #7f7f7f\">NULL</span>     │ <span style=\"color: #7f7f7f; text-decoration-color: #7f7f7f\">NULL</span>      │\n",
       "│ <span style=\"color: #008000; text-decoration-color: #008000\">Beru Whitesun lars</span> │    <span style=\"color: #008080; text-decoration-color: #008080; font-weight: bold\">165</span> │    <span style=\"color: #008080; text-decoration-color: #008080; font-weight: bold\">75.0</span> │ <span style=\"color: #008000; text-decoration-color: #008000\">brown      </span> │ <span style=\"color: #008000; text-decoration-color: #008000\">light     </span> │ <span style=\"color: #008000; text-decoration-color: #008000\">blue     </span> │       <span style=\"color: #008080; text-decoration-color: #008080; font-weight: bold\">47.0</span> │ <span style=\"color: #008000; text-decoration-color: #008000\">female</span> │ <span style=\"color: #008000; text-decoration-color: #008000\">feminine </span> │ <span style=\"color: #008000; text-decoration-color: #008000\">Tatooine </span> │ <span style=\"color: #008000; text-decoration-color: #008000\">Human  </span> │ <span style=\"color: #7f7f7f; text-decoration-color: #7f7f7f\">NULL</span>   │ <span style=\"color: #7f7f7f; text-decoration-color: #7f7f7f\">NULL</span>     │ <span style=\"color: #7f7f7f; text-decoration-color: #7f7f7f\">NULL</span>      │\n",
       "│ <span style=\"color: #008000; text-decoration-color: #008000\">Biggs Darklighter </span> │    <span style=\"color: #008080; text-decoration-color: #008080; font-weight: bold\">183</span> │    <span style=\"color: #008080; text-decoration-color: #008080; font-weight: bold\">84.0</span> │ <span style=\"color: #008000; text-decoration-color: #008000\">black      </span> │ <span style=\"color: #008000; text-decoration-color: #008000\">light     </span> │ <span style=\"color: #008000; text-decoration-color: #008000\">brown    </span> │       <span style=\"color: #008080; text-decoration-color: #008080; font-weight: bold\">24.0</span> │ <span style=\"color: #008000; text-decoration-color: #008000\">male  </span> │ <span style=\"color: #008000; text-decoration-color: #008000\">masculine</span> │ <span style=\"color: #008000; text-decoration-color: #008000\">Tatooine </span> │ <span style=\"color: #008000; text-decoration-color: #008000\">Human  </span> │ <span style=\"color: #7f7f7f; text-decoration-color: #7f7f7f\">NULL</span>   │ <span style=\"color: #7f7f7f; text-decoration-color: #7f7f7f\">NULL</span>     │ <span style=\"color: #7f7f7f; text-decoration-color: #7f7f7f\">NULL</span>      │\n",
       "│ <span style=\"color: #008000; text-decoration-color: #008000\">Lobot             </span> │    <span style=\"color: #008080; text-decoration-color: #008080; font-weight: bold\">175</span> │    <span style=\"color: #008080; text-decoration-color: #008080; font-weight: bold\">79.0</span> │ <span style=\"color: #008000; text-decoration-color: #008000\">none       </span> │ <span style=\"color: #008000; text-decoration-color: #008000\">light     </span> │ <span style=\"color: #008000; text-decoration-color: #008000\">blue     </span> │       <span style=\"color: #008080; text-decoration-color: #008080; font-weight: bold\">37.0</span> │ <span style=\"color: #008000; text-decoration-color: #008000\">male  </span> │ <span style=\"color: #008000; text-decoration-color: #008000\">masculine</span> │ <span style=\"color: #008000; text-decoration-color: #008000\">Bespin   </span> │ <span style=\"color: #008000; text-decoration-color: #008000\">Human  </span> │ <span style=\"color: #7f7f7f; text-decoration-color: #7f7f7f\">NULL</span>   │ <span style=\"color: #7f7f7f; text-decoration-color: #7f7f7f\">NULL</span>     │ <span style=\"color: #7f7f7f; text-decoration-color: #7f7f7f\">NULL</span>      │\n",
       "│ <span style=\"color: #008000; text-decoration-color: #008000\">Cordé             </span> │    <span style=\"color: #008080; text-decoration-color: #008080; font-weight: bold\">157</span> │     <span style=\"color: #008080; text-decoration-color: #008080; font-weight: bold\">nan</span> │ <span style=\"color: #008000; text-decoration-color: #008000\">brown      </span> │ <span style=\"color: #008000; text-decoration-color: #008000\">light     </span> │ <span style=\"color: #008000; text-decoration-color: #008000\">brown    </span> │        <span style=\"color: #008080; text-decoration-color: #008080; font-weight: bold\">nan</span> │ <span style=\"color: #008000; text-decoration-color: #008000\">female</span> │ <span style=\"color: #008000; text-decoration-color: #008000\">feminine </span> │ <span style=\"color: #008000; text-decoration-color: #008000\">Naboo    </span> │ <span style=\"color: #008000; text-decoration-color: #008000\">Human  </span> │ <span style=\"color: #7f7f7f; text-decoration-color: #7f7f7f\">NULL</span>   │ <span style=\"color: #7f7f7f; text-decoration-color: #7f7f7f\">NULL</span>     │ <span style=\"color: #7f7f7f; text-decoration-color: #7f7f7f\">NULL</span>      │\n",
       "│ <span style=\"color: #008000; text-decoration-color: #008000\">Dormé             </span> │    <span style=\"color: #008080; text-decoration-color: #008080; font-weight: bold\">165</span> │     <span style=\"color: #008080; text-decoration-color: #008080; font-weight: bold\">nan</span> │ <span style=\"color: #008000; text-decoration-color: #008000\">brown      </span> │ <span style=\"color: #008000; text-decoration-color: #008000\">light     </span> │ <span style=\"color: #008000; text-decoration-color: #008000\">brown    </span> │        <span style=\"color: #008080; text-decoration-color: #008080; font-weight: bold\">nan</span> │ <span style=\"color: #008000; text-decoration-color: #008000\">female</span> │ <span style=\"color: #008000; text-decoration-color: #008000\">feminine </span> │ <span style=\"color: #008000; text-decoration-color: #008000\">Naboo    </span> │ <span style=\"color: #008000; text-decoration-color: #008000\">Human  </span> │ <span style=\"color: #7f7f7f; text-decoration-color: #7f7f7f\">NULL</span>   │ <span style=\"color: #7f7f7f; text-decoration-color: #7f7f7f\">NULL</span>     │ <span style=\"color: #7f7f7f; text-decoration-color: #7f7f7f\">NULL</span>      │\n",
       "│ <span style=\"color: #008000; text-decoration-color: #008000\">Raymus Antilles   </span> │    <span style=\"color: #008080; text-decoration-color: #008080; font-weight: bold\">188</span> │    <span style=\"color: #008080; text-decoration-color: #008080; font-weight: bold\">79.0</span> │ <span style=\"color: #008000; text-decoration-color: #008000\">brown      </span> │ <span style=\"color: #008000; text-decoration-color: #008000\">light     </span> │ <span style=\"color: #008000; text-decoration-color: #008000\">brown    </span> │        <span style=\"color: #008080; text-decoration-color: #008080; font-weight: bold\">nan</span> │ <span style=\"color: #008000; text-decoration-color: #008000\">male  </span> │ <span style=\"color: #008000; text-decoration-color: #008000\">masculine</span> │ <span style=\"color: #008000; text-decoration-color: #008000\">Alderaan </span> │ <span style=\"color: #008000; text-decoration-color: #008000\">Human  </span> │ <span style=\"color: #7f7f7f; text-decoration-color: #7f7f7f\">NULL</span>   │ <span style=\"color: #7f7f7f; text-decoration-color: #7f7f7f\">NULL</span>     │ <span style=\"color: #7f7f7f; text-decoration-color: #7f7f7f\">NULL</span>      │\n",
       "│ <span style=\"color: #008000; text-decoration-color: #008000\">Rey               </span> │   <span style=\"color: #7f7f7f; text-decoration-color: #7f7f7f\">NULL</span> │     <span style=\"color: #008080; text-decoration-color: #008080; font-weight: bold\">nan</span> │ <span style=\"color: #008000; text-decoration-color: #008000\">brown      </span> │ <span style=\"color: #008000; text-decoration-color: #008000\">light     </span> │ <span style=\"color: #008000; text-decoration-color: #008000\">hazel    </span> │        <span style=\"color: #008080; text-decoration-color: #008080; font-weight: bold\">nan</span> │ <span style=\"color: #008000; text-decoration-color: #008000\">female</span> │ <span style=\"color: #008000; text-decoration-color: #008000\">feminine </span> │ <span style=\"color: #7f7f7f; text-decoration-color: #7f7f7f\">NULL</span>      │ <span style=\"color: #008000; text-decoration-color: #008000\">Human  </span> │ <span style=\"color: #7f7f7f; text-decoration-color: #7f7f7f\">NULL</span>   │ <span style=\"color: #7f7f7f; text-decoration-color: #7f7f7f\">NULL</span>     │ <span style=\"color: #7f7f7f; text-decoration-color: #7f7f7f\">NULL</span>      │\n",
       "│ <span style=\"color: #008000; text-decoration-color: #008000\">Poe Dameron       </span> │   <span style=\"color: #7f7f7f; text-decoration-color: #7f7f7f\">NULL</span> │     <span style=\"color: #008080; text-decoration-color: #008080; font-weight: bold\">nan</span> │ <span style=\"color: #008000; text-decoration-color: #008000\">brown      </span> │ <span style=\"color: #008000; text-decoration-color: #008000\">light     </span> │ <span style=\"color: #008000; text-decoration-color: #008000\">brown    </span> │        <span style=\"color: #008080; text-decoration-color: #008080; font-weight: bold\">nan</span> │ <span style=\"color: #008000; text-decoration-color: #008000\">male  </span> │ <span style=\"color: #008000; text-decoration-color: #008000\">masculine</span> │ <span style=\"color: #7f7f7f; text-decoration-color: #7f7f7f\">NULL</span>      │ <span style=\"color: #008000; text-decoration-color: #008000\">Human  </span> │ <span style=\"color: #7f7f7f; text-decoration-color: #7f7f7f\">NULL</span>   │ <span style=\"color: #7f7f7f; text-decoration-color: #7f7f7f\">NULL</span>     │ <span style=\"color: #7f7f7f; text-decoration-color: #7f7f7f\">NULL</span>      │\n",
       "│ <span style=\"color: #7f7f7f; text-decoration-color: #7f7f7f\">…</span>                  │      <span style=\"color: #7f7f7f; text-decoration-color: #7f7f7f\">…</span> │       <span style=\"color: #7f7f7f; text-decoration-color: #7f7f7f\">…</span> │ <span style=\"color: #7f7f7f; text-decoration-color: #7f7f7f\">…</span>           │ <span style=\"color: #7f7f7f; text-decoration-color: #7f7f7f\">…</span>          │ <span style=\"color: #7f7f7f; text-decoration-color: #7f7f7f\">…</span>         │          <span style=\"color: #7f7f7f; text-decoration-color: #7f7f7f\">…</span> │ <span style=\"color: #7f7f7f; text-decoration-color: #7f7f7f\">…</span>      │ <span style=\"color: #7f7f7f; text-decoration-color: #7f7f7f\">…</span>         │ <span style=\"color: #7f7f7f; text-decoration-color: #7f7f7f\">…</span>         │ <span style=\"color: #7f7f7f; text-decoration-color: #7f7f7f\">…</span>       │ <span style=\"color: #7f7f7f; text-decoration-color: #7f7f7f\">…</span>      │ <span style=\"color: #7f7f7f; text-decoration-color: #7f7f7f\">…</span>        │ <span style=\"color: #7f7f7f; text-decoration-color: #7f7f7f\">…</span>         │\n",
       "└────────────────────┴────────┴─────────┴─────────────┴────────────┴───────────┴────────────┴────────┴───────────┴───────────┴─────────┴────────┴──────────┴───────────┘\n",
       "</pre>\n"
      ],
      "text/plain": [
       "┏━━━━━━━━━━━━━━━━━━━━┳━━━━━━━━┳━━━━━━━━━┳━━━━━━━━━━━━━┳━━━━━━━━━━━━┳━━━━━━━━━━━┳━━━━━━━━━━━━┳━━━━━━━━┳━━━━━━━━━━━┳━━━━━━━━━━━┳━━━━━━━━━┳━━━━━━━━┳━━━━━━━━━━┳━━━━━━━━━━━┓\n",
       "┃\u001b[1m \u001b[0m\u001b[1mname\u001b[0m\u001b[1m              \u001b[0m\u001b[1m \u001b[0m┃\u001b[1m \u001b[0m\u001b[1mheight\u001b[0m\u001b[1m \u001b[0m┃\u001b[1m \u001b[0m\u001b[1mmass\u001b[0m\u001b[1m   \u001b[0m\u001b[1m \u001b[0m┃\u001b[1m \u001b[0m\u001b[1mhair_color\u001b[0m\u001b[1m \u001b[0m\u001b[1m \u001b[0m┃\u001b[1m \u001b[0m\u001b[1mskin_color\u001b[0m\u001b[1m \u001b[0m┃\u001b[1m \u001b[0m\u001b[1meye_color\u001b[0m\u001b[1m \u001b[0m┃\u001b[1m \u001b[0m\u001b[1mbirth_year\u001b[0m\u001b[1m \u001b[0m┃\u001b[1m \u001b[0m\u001b[1msex\u001b[0m\u001b[1m   \u001b[0m\u001b[1m \u001b[0m┃\u001b[1m \u001b[0m\u001b[1mgender\u001b[0m\u001b[1m   \u001b[0m\u001b[1m \u001b[0m┃\u001b[1m \u001b[0m\u001b[1mhomeworld\u001b[0m\u001b[1m \u001b[0m┃\u001b[1m \u001b[0m\u001b[1mspecies\u001b[0m\u001b[1m \u001b[0m┃\u001b[1m \u001b[0m\u001b[1mfilms\u001b[0m\u001b[1m \u001b[0m\u001b[1m \u001b[0m┃\u001b[1m \u001b[0m\u001b[1mvehicles\u001b[0m\u001b[1m \u001b[0m┃\u001b[1m \u001b[0m\u001b[1mstarships\u001b[0m\u001b[1m \u001b[0m┃\n",
       "┡━━━━━━━━━━━━━━━━━━━━╇━━━━━━━━╇━━━━━━━━━╇━━━━━━━━━━━━━╇━━━━━━━━━━━━╇━━━━━━━━━━━╇━━━━━━━━━━━━╇━━━━━━━━╇━━━━━━━━━━━╇━━━━━━━━━━━╇━━━━━━━━━╇━━━━━━━━╇━━━━━━━━━━╇━━━━━━━━━━━┩\n",
       "│ \u001b[2mstring\u001b[0m             │ \u001b[2mint64\u001b[0m  │ \u001b[2mfloat64\u001b[0m │ \u001b[2mstring\u001b[0m      │ \u001b[2mstring\u001b[0m     │ \u001b[2mstring\u001b[0m    │ \u001b[2mfloat64\u001b[0m    │ \u001b[2mstring\u001b[0m │ \u001b[2mstring\u001b[0m    │ \u001b[2mstring\u001b[0m    │ \u001b[2mstring\u001b[0m  │ \u001b[2mstring\u001b[0m │ \u001b[2mstring\u001b[0m   │ \u001b[2mstring\u001b[0m    │\n",
       "├────────────────────┼────────┼─────────┼─────────────┼────────────┼───────────┼────────────┼────────┼───────────┼───────────┼─────────┼────────┼──────────┼───────────┤\n",
       "│ \u001b[32mLeia Organa       \u001b[0m │    \u001b[1;36m150\u001b[0m │    \u001b[1;36m49.0\u001b[0m │ \u001b[32mbrown      \u001b[0m │ \u001b[32mlight     \u001b[0m │ \u001b[32mbrown    \u001b[0m │       \u001b[1;36m19.0\u001b[0m │ \u001b[32mfemale\u001b[0m │ \u001b[32mfeminine \u001b[0m │ \u001b[32mAlderaan \u001b[0m │ \u001b[32mHuman  \u001b[0m │ \u001b[2mNULL\u001b[0m   │ \u001b[2mNULL\u001b[0m     │ \u001b[2mNULL\u001b[0m      │\n",
       "│ \u001b[32mOwen Lars         \u001b[0m │    \u001b[1;36m178\u001b[0m │   \u001b[1;36m120.0\u001b[0m │ \u001b[32mbrown, grey\u001b[0m │ \u001b[32mlight     \u001b[0m │ \u001b[32mblue     \u001b[0m │       \u001b[1;36m52.0\u001b[0m │ \u001b[32mmale  \u001b[0m │ \u001b[32mmasculine\u001b[0m │ \u001b[32mTatooine \u001b[0m │ \u001b[32mHuman  \u001b[0m │ \u001b[2mNULL\u001b[0m   │ \u001b[2mNULL\u001b[0m     │ \u001b[2mNULL\u001b[0m      │\n",
       "│ \u001b[32mBeru Whitesun lars\u001b[0m │    \u001b[1;36m165\u001b[0m │    \u001b[1;36m75.0\u001b[0m │ \u001b[32mbrown      \u001b[0m │ \u001b[32mlight     \u001b[0m │ \u001b[32mblue     \u001b[0m │       \u001b[1;36m47.0\u001b[0m │ \u001b[32mfemale\u001b[0m │ \u001b[32mfeminine \u001b[0m │ \u001b[32mTatooine \u001b[0m │ \u001b[32mHuman  \u001b[0m │ \u001b[2mNULL\u001b[0m   │ \u001b[2mNULL\u001b[0m     │ \u001b[2mNULL\u001b[0m      │\n",
       "│ \u001b[32mBiggs Darklighter \u001b[0m │    \u001b[1;36m183\u001b[0m │    \u001b[1;36m84.0\u001b[0m │ \u001b[32mblack      \u001b[0m │ \u001b[32mlight     \u001b[0m │ \u001b[32mbrown    \u001b[0m │       \u001b[1;36m24.0\u001b[0m │ \u001b[32mmale  \u001b[0m │ \u001b[32mmasculine\u001b[0m │ \u001b[32mTatooine \u001b[0m │ \u001b[32mHuman  \u001b[0m │ \u001b[2mNULL\u001b[0m   │ \u001b[2mNULL\u001b[0m     │ \u001b[2mNULL\u001b[0m      │\n",
       "│ \u001b[32mLobot             \u001b[0m │    \u001b[1;36m175\u001b[0m │    \u001b[1;36m79.0\u001b[0m │ \u001b[32mnone       \u001b[0m │ \u001b[32mlight     \u001b[0m │ \u001b[32mblue     \u001b[0m │       \u001b[1;36m37.0\u001b[0m │ \u001b[32mmale  \u001b[0m │ \u001b[32mmasculine\u001b[0m │ \u001b[32mBespin   \u001b[0m │ \u001b[32mHuman  \u001b[0m │ \u001b[2mNULL\u001b[0m   │ \u001b[2mNULL\u001b[0m     │ \u001b[2mNULL\u001b[0m      │\n",
       "│ \u001b[32mCordé             \u001b[0m │    \u001b[1;36m157\u001b[0m │     \u001b[1;36mnan\u001b[0m │ \u001b[32mbrown      \u001b[0m │ \u001b[32mlight     \u001b[0m │ \u001b[32mbrown    \u001b[0m │        \u001b[1;36mnan\u001b[0m │ \u001b[32mfemale\u001b[0m │ \u001b[32mfeminine \u001b[0m │ \u001b[32mNaboo    \u001b[0m │ \u001b[32mHuman  \u001b[0m │ \u001b[2mNULL\u001b[0m   │ \u001b[2mNULL\u001b[0m     │ \u001b[2mNULL\u001b[0m      │\n",
       "│ \u001b[32mDormé             \u001b[0m │    \u001b[1;36m165\u001b[0m │     \u001b[1;36mnan\u001b[0m │ \u001b[32mbrown      \u001b[0m │ \u001b[32mlight     \u001b[0m │ \u001b[32mbrown    \u001b[0m │        \u001b[1;36mnan\u001b[0m │ \u001b[32mfemale\u001b[0m │ \u001b[32mfeminine \u001b[0m │ \u001b[32mNaboo    \u001b[0m │ \u001b[32mHuman  \u001b[0m │ \u001b[2mNULL\u001b[0m   │ \u001b[2mNULL\u001b[0m     │ \u001b[2mNULL\u001b[0m      │\n",
       "│ \u001b[32mRaymus Antilles   \u001b[0m │    \u001b[1;36m188\u001b[0m │    \u001b[1;36m79.0\u001b[0m │ \u001b[32mbrown      \u001b[0m │ \u001b[32mlight     \u001b[0m │ \u001b[32mbrown    \u001b[0m │        \u001b[1;36mnan\u001b[0m │ \u001b[32mmale  \u001b[0m │ \u001b[32mmasculine\u001b[0m │ \u001b[32mAlderaan \u001b[0m │ \u001b[32mHuman  \u001b[0m │ \u001b[2mNULL\u001b[0m   │ \u001b[2mNULL\u001b[0m     │ \u001b[2mNULL\u001b[0m      │\n",
       "│ \u001b[32mRey               \u001b[0m │   \u001b[2mNULL\u001b[0m │     \u001b[1;36mnan\u001b[0m │ \u001b[32mbrown      \u001b[0m │ \u001b[32mlight     \u001b[0m │ \u001b[32mhazel    \u001b[0m │        \u001b[1;36mnan\u001b[0m │ \u001b[32mfemale\u001b[0m │ \u001b[32mfeminine \u001b[0m │ \u001b[2mNULL\u001b[0m      │ \u001b[32mHuman  \u001b[0m │ \u001b[2mNULL\u001b[0m   │ \u001b[2mNULL\u001b[0m     │ \u001b[2mNULL\u001b[0m      │\n",
       "│ \u001b[32mPoe Dameron       \u001b[0m │   \u001b[2mNULL\u001b[0m │     \u001b[1;36mnan\u001b[0m │ \u001b[32mbrown      \u001b[0m │ \u001b[32mlight     \u001b[0m │ \u001b[32mbrown    \u001b[0m │        \u001b[1;36mnan\u001b[0m │ \u001b[32mmale  \u001b[0m │ \u001b[32mmasculine\u001b[0m │ \u001b[2mNULL\u001b[0m      │ \u001b[32mHuman  \u001b[0m │ \u001b[2mNULL\u001b[0m   │ \u001b[2mNULL\u001b[0m     │ \u001b[2mNULL\u001b[0m      │\n",
       "│ \u001b[2m…\u001b[0m                  │      \u001b[2m…\u001b[0m │       \u001b[2m…\u001b[0m │ \u001b[2m…\u001b[0m           │ \u001b[2m…\u001b[0m          │ \u001b[2m…\u001b[0m         │          \u001b[2m…\u001b[0m │ \u001b[2m…\u001b[0m      │ \u001b[2m…\u001b[0m         │ \u001b[2m…\u001b[0m         │ \u001b[2m…\u001b[0m       │ \u001b[2m…\u001b[0m      │ \u001b[2m…\u001b[0m        │ \u001b[2m…\u001b[0m         │\n",
       "└────────────────────┴────────┴─────────┴─────────────┴────────────┴───────────┴────────────┴────────┴───────────┴───────────┴─────────┴────────┴──────────┴───────────┘"
      ]
     },
     "execution_count": 6,
     "metadata": {},
     "output_type": "execute_result"
    }
   ],
   "source": [
    "starwars.filter(_.skin_color == \"light\")"
   ]
  },
  {
   "cell_type": "markdown",
   "metadata": {},
   "source": [
    "In dplyr, you can specify multiple conditions separated with `,` that are then combined with the `&` operator:\n",
    "\n",
    "```r\n",
    "starwars |>\n",
    "  filter(skin_color == \"light\", eye_color == \"brown\")\n",
    "```\n",
    "\n",
    "In Ibis, you can do the same by putting multiple conditions in a list:"
   ]
  },
  {
   "cell_type": "code",
   "execution_count": 7,
   "metadata": {},
   "outputs": [
    {
     "data": {
      "text/html": [
       "<pre style=\"white-space:pre;overflow-x:auto;line-height:normal;font-family:Menlo,'DejaVu Sans Mono',consolas,'Courier New',monospace\">┏━━━━━━━━━━━━━━━━━━━┳━━━━━━━━┳━━━━━━━━━┳━━━━━━━━━━━━┳━━━━━━━━━━━━┳━━━━━━━━━━━┳━━━━━━━━━━━━┳━━━━━━━━┳━━━━━━━━━━━┳━━━━━━━━━━━┳━━━━━━━━━┳━━━━━━━━┳━━━━━━━━━━┳━━━━━━━━━━━┓\n",
       "┃<span style=\"font-weight: bold\"> name              </span>┃<span style=\"font-weight: bold\"> height </span>┃<span style=\"font-weight: bold\"> mass    </span>┃<span style=\"font-weight: bold\"> hair_color </span>┃<span style=\"font-weight: bold\"> skin_color </span>┃<span style=\"font-weight: bold\"> eye_color </span>┃<span style=\"font-weight: bold\"> birth_year </span>┃<span style=\"font-weight: bold\"> sex    </span>┃<span style=\"font-weight: bold\"> gender    </span>┃<span style=\"font-weight: bold\"> homeworld </span>┃<span style=\"font-weight: bold\"> species </span>┃<span style=\"font-weight: bold\"> films  </span>┃<span style=\"font-weight: bold\"> vehicles </span>┃<span style=\"font-weight: bold\"> starships </span>┃\n",
       "┡━━━━━━━━━━━━━━━━━━━╇━━━━━━━━╇━━━━━━━━━╇━━━━━━━━━━━━╇━━━━━━━━━━━━╇━━━━━━━━━━━╇━━━━━━━━━━━━╇━━━━━━━━╇━━━━━━━━━━━╇━━━━━━━━━━━╇━━━━━━━━━╇━━━━━━━━╇━━━━━━━━━━╇━━━━━━━━━━━┩\n",
       "│ <span style=\"color: #7f7f7f; text-decoration-color: #7f7f7f\">string</span>            │ <span style=\"color: #7f7f7f; text-decoration-color: #7f7f7f\">int64</span>  │ <span style=\"color: #7f7f7f; text-decoration-color: #7f7f7f\">float64</span> │ <span style=\"color: #7f7f7f; text-decoration-color: #7f7f7f\">string</span>     │ <span style=\"color: #7f7f7f; text-decoration-color: #7f7f7f\">string</span>     │ <span style=\"color: #7f7f7f; text-decoration-color: #7f7f7f\">string</span>    │ <span style=\"color: #7f7f7f; text-decoration-color: #7f7f7f\">float64</span>    │ <span style=\"color: #7f7f7f; text-decoration-color: #7f7f7f\">string</span> │ <span style=\"color: #7f7f7f; text-decoration-color: #7f7f7f\">string</span>    │ <span style=\"color: #7f7f7f; text-decoration-color: #7f7f7f\">string</span>    │ <span style=\"color: #7f7f7f; text-decoration-color: #7f7f7f\">string</span>  │ <span style=\"color: #7f7f7f; text-decoration-color: #7f7f7f\">string</span> │ <span style=\"color: #7f7f7f; text-decoration-color: #7f7f7f\">string</span>   │ <span style=\"color: #7f7f7f; text-decoration-color: #7f7f7f\">string</span>    │\n",
       "├───────────────────┼────────┼─────────┼────────────┼────────────┼───────────┼────────────┼────────┼───────────┼───────────┼─────────┼────────┼──────────┼───────────┤\n",
       "│ <span style=\"color: #008000; text-decoration-color: #008000\">Leia Organa      </span> │    <span style=\"color: #008080; text-decoration-color: #008080; font-weight: bold\">150</span> │    <span style=\"color: #008080; text-decoration-color: #008080; font-weight: bold\">49.0</span> │ <span style=\"color: #008000; text-decoration-color: #008000\">brown     </span> │ <span style=\"color: #008000; text-decoration-color: #008000\">light     </span> │ <span style=\"color: #008000; text-decoration-color: #008000\">brown    </span> │       <span style=\"color: #008080; text-decoration-color: #008080; font-weight: bold\">19.0</span> │ <span style=\"color: #008000; text-decoration-color: #008000\">female</span> │ <span style=\"color: #008000; text-decoration-color: #008000\">feminine </span> │ <span style=\"color: #008000; text-decoration-color: #008000\">Alderaan </span> │ <span style=\"color: #008000; text-decoration-color: #008000\">Human  </span> │ <span style=\"color: #7f7f7f; text-decoration-color: #7f7f7f\">NULL</span>   │ <span style=\"color: #7f7f7f; text-decoration-color: #7f7f7f\">NULL</span>     │ <span style=\"color: #7f7f7f; text-decoration-color: #7f7f7f\">NULL</span>      │\n",
       "│ <span style=\"color: #008000; text-decoration-color: #008000\">Biggs Darklighter</span> │    <span style=\"color: #008080; text-decoration-color: #008080; font-weight: bold\">183</span> │    <span style=\"color: #008080; text-decoration-color: #008080; font-weight: bold\">84.0</span> │ <span style=\"color: #008000; text-decoration-color: #008000\">black     </span> │ <span style=\"color: #008000; text-decoration-color: #008000\">light     </span> │ <span style=\"color: #008000; text-decoration-color: #008000\">brown    </span> │       <span style=\"color: #008080; text-decoration-color: #008080; font-weight: bold\">24.0</span> │ <span style=\"color: #008000; text-decoration-color: #008000\">male  </span> │ <span style=\"color: #008000; text-decoration-color: #008000\">masculine</span> │ <span style=\"color: #008000; text-decoration-color: #008000\">Tatooine </span> │ <span style=\"color: #008000; text-decoration-color: #008000\">Human  </span> │ <span style=\"color: #7f7f7f; text-decoration-color: #7f7f7f\">NULL</span>   │ <span style=\"color: #7f7f7f; text-decoration-color: #7f7f7f\">NULL</span>     │ <span style=\"color: #7f7f7f; text-decoration-color: #7f7f7f\">NULL</span>      │\n",
       "│ <span style=\"color: #008000; text-decoration-color: #008000\">Cordé            </span> │    <span style=\"color: #008080; text-decoration-color: #008080; font-weight: bold\">157</span> │     <span style=\"color: #008080; text-decoration-color: #008080; font-weight: bold\">nan</span> │ <span style=\"color: #008000; text-decoration-color: #008000\">brown     </span> │ <span style=\"color: #008000; text-decoration-color: #008000\">light     </span> │ <span style=\"color: #008000; text-decoration-color: #008000\">brown    </span> │        <span style=\"color: #008080; text-decoration-color: #008080; font-weight: bold\">nan</span> │ <span style=\"color: #008000; text-decoration-color: #008000\">female</span> │ <span style=\"color: #008000; text-decoration-color: #008000\">feminine </span> │ <span style=\"color: #008000; text-decoration-color: #008000\">Naboo    </span> │ <span style=\"color: #008000; text-decoration-color: #008000\">Human  </span> │ <span style=\"color: #7f7f7f; text-decoration-color: #7f7f7f\">NULL</span>   │ <span style=\"color: #7f7f7f; text-decoration-color: #7f7f7f\">NULL</span>     │ <span style=\"color: #7f7f7f; text-decoration-color: #7f7f7f\">NULL</span>      │\n",
       "│ <span style=\"color: #008000; text-decoration-color: #008000\">Dormé            </span> │    <span style=\"color: #008080; text-decoration-color: #008080; font-weight: bold\">165</span> │     <span style=\"color: #008080; text-decoration-color: #008080; font-weight: bold\">nan</span> │ <span style=\"color: #008000; text-decoration-color: #008000\">brown     </span> │ <span style=\"color: #008000; text-decoration-color: #008000\">light     </span> │ <span style=\"color: #008000; text-decoration-color: #008000\">brown    </span> │        <span style=\"color: #008080; text-decoration-color: #008080; font-weight: bold\">nan</span> │ <span style=\"color: #008000; text-decoration-color: #008000\">female</span> │ <span style=\"color: #008000; text-decoration-color: #008000\">feminine </span> │ <span style=\"color: #008000; text-decoration-color: #008000\">Naboo    </span> │ <span style=\"color: #008000; text-decoration-color: #008000\">Human  </span> │ <span style=\"color: #7f7f7f; text-decoration-color: #7f7f7f\">NULL</span>   │ <span style=\"color: #7f7f7f; text-decoration-color: #7f7f7f\">NULL</span>     │ <span style=\"color: #7f7f7f; text-decoration-color: #7f7f7f\">NULL</span>      │\n",
       "│ <span style=\"color: #008000; text-decoration-color: #008000\">Raymus Antilles  </span> │    <span style=\"color: #008080; text-decoration-color: #008080; font-weight: bold\">188</span> │    <span style=\"color: #008080; text-decoration-color: #008080; font-weight: bold\">79.0</span> │ <span style=\"color: #008000; text-decoration-color: #008000\">brown     </span> │ <span style=\"color: #008000; text-decoration-color: #008000\">light     </span> │ <span style=\"color: #008000; text-decoration-color: #008000\">brown    </span> │        <span style=\"color: #008080; text-decoration-color: #008080; font-weight: bold\">nan</span> │ <span style=\"color: #008000; text-decoration-color: #008000\">male  </span> │ <span style=\"color: #008000; text-decoration-color: #008000\">masculine</span> │ <span style=\"color: #008000; text-decoration-color: #008000\">Alderaan </span> │ <span style=\"color: #008000; text-decoration-color: #008000\">Human  </span> │ <span style=\"color: #7f7f7f; text-decoration-color: #7f7f7f\">NULL</span>   │ <span style=\"color: #7f7f7f; text-decoration-color: #7f7f7f\">NULL</span>     │ <span style=\"color: #7f7f7f; text-decoration-color: #7f7f7f\">NULL</span>      │\n",
       "│ <span style=\"color: #008000; text-decoration-color: #008000\">Poe Dameron      </span> │   <span style=\"color: #7f7f7f; text-decoration-color: #7f7f7f\">NULL</span> │     <span style=\"color: #008080; text-decoration-color: #008080; font-weight: bold\">nan</span> │ <span style=\"color: #008000; text-decoration-color: #008000\">brown     </span> │ <span style=\"color: #008000; text-decoration-color: #008000\">light     </span> │ <span style=\"color: #008000; text-decoration-color: #008000\">brown    </span> │        <span style=\"color: #008080; text-decoration-color: #008080; font-weight: bold\">nan</span> │ <span style=\"color: #008000; text-decoration-color: #008000\">male  </span> │ <span style=\"color: #008000; text-decoration-color: #008000\">masculine</span> │ <span style=\"color: #7f7f7f; text-decoration-color: #7f7f7f\">NULL</span>      │ <span style=\"color: #008000; text-decoration-color: #008000\">Human  </span> │ <span style=\"color: #7f7f7f; text-decoration-color: #7f7f7f\">NULL</span>   │ <span style=\"color: #7f7f7f; text-decoration-color: #7f7f7f\">NULL</span>     │ <span style=\"color: #7f7f7f; text-decoration-color: #7f7f7f\">NULL</span>      │\n",
       "│ <span style=\"color: #008000; text-decoration-color: #008000\">Padmé Amidala    </span> │    <span style=\"color: #008080; text-decoration-color: #008080; font-weight: bold\">165</span> │    <span style=\"color: #008080; text-decoration-color: #008080; font-weight: bold\">45.0</span> │ <span style=\"color: #008000; text-decoration-color: #008000\">brown     </span> │ <span style=\"color: #008000; text-decoration-color: #008000\">light     </span> │ <span style=\"color: #008000; text-decoration-color: #008000\">brown    </span> │       <span style=\"color: #008080; text-decoration-color: #008080; font-weight: bold\">46.0</span> │ <span style=\"color: #008000; text-decoration-color: #008000\">female</span> │ <span style=\"color: #008000; text-decoration-color: #008000\">feminine </span> │ <span style=\"color: #008000; text-decoration-color: #008000\">Naboo    </span> │ <span style=\"color: #008000; text-decoration-color: #008000\">Human  </span> │ <span style=\"color: #7f7f7f; text-decoration-color: #7f7f7f\">NULL</span>   │ <span style=\"color: #7f7f7f; text-decoration-color: #7f7f7f\">NULL</span>     │ <span style=\"color: #7f7f7f; text-decoration-color: #7f7f7f\">NULL</span>      │\n",
       "└───────────────────┴────────┴─────────┴────────────┴────────────┴───────────┴────────────┴────────┴───────────┴───────────┴─────────┴────────┴──────────┴───────────┘\n",
       "</pre>\n"
      ],
      "text/plain": [
       "┏━━━━━━━━━━━━━━━━━━━┳━━━━━━━━┳━━━━━━━━━┳━━━━━━━━━━━━┳━━━━━━━━━━━━┳━━━━━━━━━━━┳━━━━━━━━━━━━┳━━━━━━━━┳━━━━━━━━━━━┳━━━━━━━━━━━┳━━━━━━━━━┳━━━━━━━━┳━━━━━━━━━━┳━━━━━━━━━━━┓\n",
       "┃\u001b[1m \u001b[0m\u001b[1mname\u001b[0m\u001b[1m             \u001b[0m\u001b[1m \u001b[0m┃\u001b[1m \u001b[0m\u001b[1mheight\u001b[0m\u001b[1m \u001b[0m┃\u001b[1m \u001b[0m\u001b[1mmass\u001b[0m\u001b[1m   \u001b[0m\u001b[1m \u001b[0m┃\u001b[1m \u001b[0m\u001b[1mhair_color\u001b[0m\u001b[1m \u001b[0m┃\u001b[1m \u001b[0m\u001b[1mskin_color\u001b[0m\u001b[1m \u001b[0m┃\u001b[1m \u001b[0m\u001b[1meye_color\u001b[0m\u001b[1m \u001b[0m┃\u001b[1m \u001b[0m\u001b[1mbirth_year\u001b[0m\u001b[1m \u001b[0m┃\u001b[1m \u001b[0m\u001b[1msex\u001b[0m\u001b[1m   \u001b[0m\u001b[1m \u001b[0m┃\u001b[1m \u001b[0m\u001b[1mgender\u001b[0m\u001b[1m   \u001b[0m\u001b[1m \u001b[0m┃\u001b[1m \u001b[0m\u001b[1mhomeworld\u001b[0m\u001b[1m \u001b[0m┃\u001b[1m \u001b[0m\u001b[1mspecies\u001b[0m\u001b[1m \u001b[0m┃\u001b[1m \u001b[0m\u001b[1mfilms\u001b[0m\u001b[1m \u001b[0m\u001b[1m \u001b[0m┃\u001b[1m \u001b[0m\u001b[1mvehicles\u001b[0m\u001b[1m \u001b[0m┃\u001b[1m \u001b[0m\u001b[1mstarships\u001b[0m\u001b[1m \u001b[0m┃\n",
       "┡━━━━━━━━━━━━━━━━━━━╇━━━━━━━━╇━━━━━━━━━╇━━━━━━━━━━━━╇━━━━━━━━━━━━╇━━━━━━━━━━━╇━━━━━━━━━━━━╇━━━━━━━━╇━━━━━━━━━━━╇━━━━━━━━━━━╇━━━━━━━━━╇━━━━━━━━╇━━━━━━━━━━╇━━━━━━━━━━━┩\n",
       "│ \u001b[2mstring\u001b[0m            │ \u001b[2mint64\u001b[0m  │ \u001b[2mfloat64\u001b[0m │ \u001b[2mstring\u001b[0m     │ \u001b[2mstring\u001b[0m     │ \u001b[2mstring\u001b[0m    │ \u001b[2mfloat64\u001b[0m    │ \u001b[2mstring\u001b[0m │ \u001b[2mstring\u001b[0m    │ \u001b[2mstring\u001b[0m    │ \u001b[2mstring\u001b[0m  │ \u001b[2mstring\u001b[0m │ \u001b[2mstring\u001b[0m   │ \u001b[2mstring\u001b[0m    │\n",
       "├───────────────────┼────────┼─────────┼────────────┼────────────┼───────────┼────────────┼────────┼───────────┼───────────┼─────────┼────────┼──────────┼───────────┤\n",
       "│ \u001b[32mLeia Organa      \u001b[0m │    \u001b[1;36m150\u001b[0m │    \u001b[1;36m49.0\u001b[0m │ \u001b[32mbrown     \u001b[0m │ \u001b[32mlight     \u001b[0m │ \u001b[32mbrown    \u001b[0m │       \u001b[1;36m19.0\u001b[0m │ \u001b[32mfemale\u001b[0m │ \u001b[32mfeminine \u001b[0m │ \u001b[32mAlderaan \u001b[0m │ \u001b[32mHuman  \u001b[0m │ \u001b[2mNULL\u001b[0m   │ \u001b[2mNULL\u001b[0m     │ \u001b[2mNULL\u001b[0m      │\n",
       "│ \u001b[32mBiggs Darklighter\u001b[0m │    \u001b[1;36m183\u001b[0m │    \u001b[1;36m84.0\u001b[0m │ \u001b[32mblack     \u001b[0m │ \u001b[32mlight     \u001b[0m │ \u001b[32mbrown    \u001b[0m │       \u001b[1;36m24.0\u001b[0m │ \u001b[32mmale  \u001b[0m │ \u001b[32mmasculine\u001b[0m │ \u001b[32mTatooine \u001b[0m │ \u001b[32mHuman  \u001b[0m │ \u001b[2mNULL\u001b[0m   │ \u001b[2mNULL\u001b[0m     │ \u001b[2mNULL\u001b[0m      │\n",
       "│ \u001b[32mCordé            \u001b[0m │    \u001b[1;36m157\u001b[0m │     \u001b[1;36mnan\u001b[0m │ \u001b[32mbrown     \u001b[0m │ \u001b[32mlight     \u001b[0m │ \u001b[32mbrown    \u001b[0m │        \u001b[1;36mnan\u001b[0m │ \u001b[32mfemale\u001b[0m │ \u001b[32mfeminine \u001b[0m │ \u001b[32mNaboo    \u001b[0m │ \u001b[32mHuman  \u001b[0m │ \u001b[2mNULL\u001b[0m   │ \u001b[2mNULL\u001b[0m     │ \u001b[2mNULL\u001b[0m      │\n",
       "│ \u001b[32mDormé            \u001b[0m │    \u001b[1;36m165\u001b[0m │     \u001b[1;36mnan\u001b[0m │ \u001b[32mbrown     \u001b[0m │ \u001b[32mlight     \u001b[0m │ \u001b[32mbrown    \u001b[0m │        \u001b[1;36mnan\u001b[0m │ \u001b[32mfemale\u001b[0m │ \u001b[32mfeminine \u001b[0m │ \u001b[32mNaboo    \u001b[0m │ \u001b[32mHuman  \u001b[0m │ \u001b[2mNULL\u001b[0m   │ \u001b[2mNULL\u001b[0m     │ \u001b[2mNULL\u001b[0m      │\n",
       "│ \u001b[32mRaymus Antilles  \u001b[0m │    \u001b[1;36m188\u001b[0m │    \u001b[1;36m79.0\u001b[0m │ \u001b[32mbrown     \u001b[0m │ \u001b[32mlight     \u001b[0m │ \u001b[32mbrown    \u001b[0m │        \u001b[1;36mnan\u001b[0m │ \u001b[32mmale  \u001b[0m │ \u001b[32mmasculine\u001b[0m │ \u001b[32mAlderaan \u001b[0m │ \u001b[32mHuman  \u001b[0m │ \u001b[2mNULL\u001b[0m   │ \u001b[2mNULL\u001b[0m     │ \u001b[2mNULL\u001b[0m      │\n",
       "│ \u001b[32mPoe Dameron      \u001b[0m │   \u001b[2mNULL\u001b[0m │     \u001b[1;36mnan\u001b[0m │ \u001b[32mbrown     \u001b[0m │ \u001b[32mlight     \u001b[0m │ \u001b[32mbrown    \u001b[0m │        \u001b[1;36mnan\u001b[0m │ \u001b[32mmale  \u001b[0m │ \u001b[32mmasculine\u001b[0m │ \u001b[2mNULL\u001b[0m      │ \u001b[32mHuman  \u001b[0m │ \u001b[2mNULL\u001b[0m   │ \u001b[2mNULL\u001b[0m     │ \u001b[2mNULL\u001b[0m      │\n",
       "│ \u001b[32mPadmé Amidala    \u001b[0m │    \u001b[1;36m165\u001b[0m │    \u001b[1;36m45.0\u001b[0m │ \u001b[32mbrown     \u001b[0m │ \u001b[32mlight     \u001b[0m │ \u001b[32mbrown    \u001b[0m │       \u001b[1;36m46.0\u001b[0m │ \u001b[32mfemale\u001b[0m │ \u001b[32mfeminine \u001b[0m │ \u001b[32mNaboo    \u001b[0m │ \u001b[32mHuman  \u001b[0m │ \u001b[2mNULL\u001b[0m   │ \u001b[2mNULL\u001b[0m     │ \u001b[2mNULL\u001b[0m      │\n",
       "└───────────────────┴────────┴─────────┴────────────┴────────────┴───────────┴────────────┴────────┴───────────┴───────────┴─────────┴────────┴──────────┴───────────┘"
      ]
     },
     "execution_count": 7,
     "metadata": {},
     "output_type": "execute_result"
    }
   ],
   "source": [
    "starwars.filter([_.skin_color == \"light\", _.eye_color == \"brown\"])"
   ]
  },
  {
   "attachments": {},
   "cell_type": "markdown",
   "metadata": {},
   "source": [
    "In previous code, we used the `_` helper we imported earlier. The `_` is shorthand for the table we referenced at the beginning of the expression (in this case, `starwars`). We could have also written the more verbose form,\n",
    "\n",
    "```python\n",
    "starwars.filter([starwars.skin_color == \"light\", starwars.eye_color == \"brown\"])\n",
    "```"
   ]
  },
  {
   "attachments": {},
   "cell_type": "markdown",
   "metadata": {},
   "source": [
    "If you want to combine multiple conditions, in dplyr, you could do:\n",
    "\n",
    "```r\n",
    "starwars |>\n",
    "  filter(\n",
    "      (skin_color == \"light\" & eye_color == \"brown\") |\n",
    "       species == \"Droid\"\n",
    "  )\n",
    "```\n",
    "\n",
    "In Ibis, this would be:"
   ]
  },
  {
   "cell_type": "code",
   "execution_count": 8,
   "metadata": {},
   "outputs": [
    {
     "data": {
      "text/html": [
       "<pre style=\"white-space:pre;overflow-x:auto;line-height:normal;font-family:Menlo,'DejaVu Sans Mono',consolas,'Courier New',monospace\">┏━━━━━━━━━━━━━━━━━━━┳━━━━━━━━┳━━━━━━━━━┳━━━━━━━━━━━━┳━━━━━━━━━━━━━┳━━━━━━━━━━━┳━━━━━━━━━━━━┳━━━━━━━━┳━━━━━━━━━━━┳━━━━━━━━━━━┳━━━━━━━━━┳━━━━━━━━┳━━━━━━━━━━┳━━━━━━━━━━━┓\n",
       "┃<span style=\"font-weight: bold\"> name              </span>┃<span style=\"font-weight: bold\"> height </span>┃<span style=\"font-weight: bold\"> mass    </span>┃<span style=\"font-weight: bold\"> hair_color </span>┃<span style=\"font-weight: bold\"> skin_color  </span>┃<span style=\"font-weight: bold\"> eye_color </span>┃<span style=\"font-weight: bold\"> birth_year </span>┃<span style=\"font-weight: bold\"> sex    </span>┃<span style=\"font-weight: bold\"> gender    </span>┃<span style=\"font-weight: bold\"> homeworld </span>┃<span style=\"font-weight: bold\"> species </span>┃<span style=\"font-weight: bold\"> films  </span>┃<span style=\"font-weight: bold\"> vehicles </span>┃<span style=\"font-weight: bold\"> starships </span>┃\n",
       "┡━━━━━━━━━━━━━━━━━━━╇━━━━━━━━╇━━━━━━━━━╇━━━━━━━━━━━━╇━━━━━━━━━━━━━╇━━━━━━━━━━━╇━━━━━━━━━━━━╇━━━━━━━━╇━━━━━━━━━━━╇━━━━━━━━━━━╇━━━━━━━━━╇━━━━━━━━╇━━━━━━━━━━╇━━━━━━━━━━━┩\n",
       "│ <span style=\"color: #7f7f7f; text-decoration-color: #7f7f7f\">string</span>            │ <span style=\"color: #7f7f7f; text-decoration-color: #7f7f7f\">int64</span>  │ <span style=\"color: #7f7f7f; text-decoration-color: #7f7f7f\">float64</span> │ <span style=\"color: #7f7f7f; text-decoration-color: #7f7f7f\">string</span>     │ <span style=\"color: #7f7f7f; text-decoration-color: #7f7f7f\">string</span>      │ <span style=\"color: #7f7f7f; text-decoration-color: #7f7f7f\">string</span>    │ <span style=\"color: #7f7f7f; text-decoration-color: #7f7f7f\">float64</span>    │ <span style=\"color: #7f7f7f; text-decoration-color: #7f7f7f\">string</span> │ <span style=\"color: #7f7f7f; text-decoration-color: #7f7f7f\">string</span>    │ <span style=\"color: #7f7f7f; text-decoration-color: #7f7f7f\">string</span>    │ <span style=\"color: #7f7f7f; text-decoration-color: #7f7f7f\">string</span>  │ <span style=\"color: #7f7f7f; text-decoration-color: #7f7f7f\">string</span> │ <span style=\"color: #7f7f7f; text-decoration-color: #7f7f7f\">string</span>   │ <span style=\"color: #7f7f7f; text-decoration-color: #7f7f7f\">string</span>    │\n",
       "├───────────────────┼────────┼─────────┼────────────┼─────────────┼───────────┼────────────┼────────┼───────────┼───────────┼─────────┼────────┼──────────┼───────────┤\n",
       "│ <span style=\"color: #008000; text-decoration-color: #008000\">C-3PO            </span> │    <span style=\"color: #008080; text-decoration-color: #008080; font-weight: bold\">167</span> │    <span style=\"color: #008080; text-decoration-color: #008080; font-weight: bold\">75.0</span> │ <span style=\"color: #7f7f7f; text-decoration-color: #7f7f7f\">NULL</span>       │ <span style=\"color: #008000; text-decoration-color: #008000\">gold       </span> │ <span style=\"color: #008000; text-decoration-color: #008000\">yellow   </span> │      <span style=\"color: #008080; text-decoration-color: #008080; font-weight: bold\">112.0</span> │ <span style=\"color: #008000; text-decoration-color: #008000\">none  </span> │ <span style=\"color: #008000; text-decoration-color: #008000\">masculine</span> │ <span style=\"color: #008000; text-decoration-color: #008000\">Tatooine </span> │ <span style=\"color: #008000; text-decoration-color: #008000\">Droid  </span> │ <span style=\"color: #7f7f7f; text-decoration-color: #7f7f7f\">NULL</span>   │ <span style=\"color: #7f7f7f; text-decoration-color: #7f7f7f\">NULL</span>     │ <span style=\"color: #7f7f7f; text-decoration-color: #7f7f7f\">NULL</span>      │\n",
       "│ <span style=\"color: #008000; text-decoration-color: #008000\">R2-D2            </span> │     <span style=\"color: #008080; text-decoration-color: #008080; font-weight: bold\">96</span> │    <span style=\"color: #008080; text-decoration-color: #008080; font-weight: bold\">32.0</span> │ <span style=\"color: #7f7f7f; text-decoration-color: #7f7f7f\">NULL</span>       │ <span style=\"color: #008000; text-decoration-color: #008000\">white, blue</span> │ <span style=\"color: #008000; text-decoration-color: #008000\">red      </span> │       <span style=\"color: #008080; text-decoration-color: #008080; font-weight: bold\">33.0</span> │ <span style=\"color: #008000; text-decoration-color: #008000\">none  </span> │ <span style=\"color: #008000; text-decoration-color: #008000\">masculine</span> │ <span style=\"color: #008000; text-decoration-color: #008000\">Naboo    </span> │ <span style=\"color: #008000; text-decoration-color: #008000\">Droid  </span> │ <span style=\"color: #7f7f7f; text-decoration-color: #7f7f7f\">NULL</span>   │ <span style=\"color: #7f7f7f; text-decoration-color: #7f7f7f\">NULL</span>     │ <span style=\"color: #7f7f7f; text-decoration-color: #7f7f7f\">NULL</span>      │\n",
       "│ <span style=\"color: #008000; text-decoration-color: #008000\">R5-D4            </span> │     <span style=\"color: #008080; text-decoration-color: #008080; font-weight: bold\">97</span> │    <span style=\"color: #008080; text-decoration-color: #008080; font-weight: bold\">32.0</span> │ <span style=\"color: #7f7f7f; text-decoration-color: #7f7f7f\">NULL</span>       │ <span style=\"color: #008000; text-decoration-color: #008000\">white, red </span> │ <span style=\"color: #008000; text-decoration-color: #008000\">red      </span> │        <span style=\"color: #008080; text-decoration-color: #008080; font-weight: bold\">nan</span> │ <span style=\"color: #008000; text-decoration-color: #008000\">none  </span> │ <span style=\"color: #008000; text-decoration-color: #008000\">masculine</span> │ <span style=\"color: #008000; text-decoration-color: #008000\">Tatooine </span> │ <span style=\"color: #008000; text-decoration-color: #008000\">Droid  </span> │ <span style=\"color: #7f7f7f; text-decoration-color: #7f7f7f\">NULL</span>   │ <span style=\"color: #7f7f7f; text-decoration-color: #7f7f7f\">NULL</span>     │ <span style=\"color: #7f7f7f; text-decoration-color: #7f7f7f\">NULL</span>      │\n",
       "│ <span style=\"color: #008000; text-decoration-color: #008000\">IG-88            </span> │    <span style=\"color: #008080; text-decoration-color: #008080; font-weight: bold\">200</span> │   <span style=\"color: #008080; text-decoration-color: #008080; font-weight: bold\">140.0</span> │ <span style=\"color: #008000; text-decoration-color: #008000\">none      </span> │ <span style=\"color: #008000; text-decoration-color: #008000\">metal      </span> │ <span style=\"color: #008000; text-decoration-color: #008000\">red      </span> │       <span style=\"color: #008080; text-decoration-color: #008080; font-weight: bold\">15.0</span> │ <span style=\"color: #008000; text-decoration-color: #008000\">none  </span> │ <span style=\"color: #008000; text-decoration-color: #008000\">masculine</span> │ <span style=\"color: #7f7f7f; text-decoration-color: #7f7f7f\">NULL</span>      │ <span style=\"color: #008000; text-decoration-color: #008000\">Droid  </span> │ <span style=\"color: #7f7f7f; text-decoration-color: #7f7f7f\">NULL</span>   │ <span style=\"color: #7f7f7f; text-decoration-color: #7f7f7f\">NULL</span>     │ <span style=\"color: #7f7f7f; text-decoration-color: #7f7f7f\">NULL</span>      │\n",
       "│ <span style=\"color: #008000; text-decoration-color: #008000\">R4-P17           </span> │     <span style=\"color: #008080; text-decoration-color: #008080; font-weight: bold\">96</span> │     <span style=\"color: #008080; text-decoration-color: #008080; font-weight: bold\">nan</span> │ <span style=\"color: #008000; text-decoration-color: #008000\">none      </span> │ <span style=\"color: #008000; text-decoration-color: #008000\">silver, red</span> │ <span style=\"color: #008000; text-decoration-color: #008000\">red, blue</span> │        <span style=\"color: #008080; text-decoration-color: #008080; font-weight: bold\">nan</span> │ <span style=\"color: #008000; text-decoration-color: #008000\">none  </span> │ <span style=\"color: #008000; text-decoration-color: #008000\">feminine </span> │ <span style=\"color: #7f7f7f; text-decoration-color: #7f7f7f\">NULL</span>      │ <span style=\"color: #008000; text-decoration-color: #008000\">Droid  </span> │ <span style=\"color: #7f7f7f; text-decoration-color: #7f7f7f\">NULL</span>   │ <span style=\"color: #7f7f7f; text-decoration-color: #7f7f7f\">NULL</span>     │ <span style=\"color: #7f7f7f; text-decoration-color: #7f7f7f\">NULL</span>      │\n",
       "│ <span style=\"color: #008000; text-decoration-color: #008000\">BB8              </span> │   <span style=\"color: #7f7f7f; text-decoration-color: #7f7f7f\">NULL</span> │     <span style=\"color: #008080; text-decoration-color: #008080; font-weight: bold\">nan</span> │ <span style=\"color: #008000; text-decoration-color: #008000\">none      </span> │ <span style=\"color: #008000; text-decoration-color: #008000\">none       </span> │ <span style=\"color: #008000; text-decoration-color: #008000\">black    </span> │        <span style=\"color: #008080; text-decoration-color: #008080; font-weight: bold\">nan</span> │ <span style=\"color: #008000; text-decoration-color: #008000\">none  </span> │ <span style=\"color: #008000; text-decoration-color: #008000\">masculine</span> │ <span style=\"color: #7f7f7f; text-decoration-color: #7f7f7f\">NULL</span>      │ <span style=\"color: #008000; text-decoration-color: #008000\">Droid  </span> │ <span style=\"color: #7f7f7f; text-decoration-color: #7f7f7f\">NULL</span>   │ <span style=\"color: #7f7f7f; text-decoration-color: #7f7f7f\">NULL</span>     │ <span style=\"color: #7f7f7f; text-decoration-color: #7f7f7f\">NULL</span>      │\n",
       "│ <span style=\"color: #008000; text-decoration-color: #008000\">Leia Organa      </span> │    <span style=\"color: #008080; text-decoration-color: #008080; font-weight: bold\">150</span> │    <span style=\"color: #008080; text-decoration-color: #008080; font-weight: bold\">49.0</span> │ <span style=\"color: #008000; text-decoration-color: #008000\">brown     </span> │ <span style=\"color: #008000; text-decoration-color: #008000\">light      </span> │ <span style=\"color: #008000; text-decoration-color: #008000\">brown    </span> │       <span style=\"color: #008080; text-decoration-color: #008080; font-weight: bold\">19.0</span> │ <span style=\"color: #008000; text-decoration-color: #008000\">female</span> │ <span style=\"color: #008000; text-decoration-color: #008000\">feminine </span> │ <span style=\"color: #008000; text-decoration-color: #008000\">Alderaan </span> │ <span style=\"color: #008000; text-decoration-color: #008000\">Human  </span> │ <span style=\"color: #7f7f7f; text-decoration-color: #7f7f7f\">NULL</span>   │ <span style=\"color: #7f7f7f; text-decoration-color: #7f7f7f\">NULL</span>     │ <span style=\"color: #7f7f7f; text-decoration-color: #7f7f7f\">NULL</span>      │\n",
       "│ <span style=\"color: #008000; text-decoration-color: #008000\">Biggs Darklighter</span> │    <span style=\"color: #008080; text-decoration-color: #008080; font-weight: bold\">183</span> │    <span style=\"color: #008080; text-decoration-color: #008080; font-weight: bold\">84.0</span> │ <span style=\"color: #008000; text-decoration-color: #008000\">black     </span> │ <span style=\"color: #008000; text-decoration-color: #008000\">light      </span> │ <span style=\"color: #008000; text-decoration-color: #008000\">brown    </span> │       <span style=\"color: #008080; text-decoration-color: #008080; font-weight: bold\">24.0</span> │ <span style=\"color: #008000; text-decoration-color: #008000\">male  </span> │ <span style=\"color: #008000; text-decoration-color: #008000\">masculine</span> │ <span style=\"color: #008000; text-decoration-color: #008000\">Tatooine </span> │ <span style=\"color: #008000; text-decoration-color: #008000\">Human  </span> │ <span style=\"color: #7f7f7f; text-decoration-color: #7f7f7f\">NULL</span>   │ <span style=\"color: #7f7f7f; text-decoration-color: #7f7f7f\">NULL</span>     │ <span style=\"color: #7f7f7f; text-decoration-color: #7f7f7f\">NULL</span>      │\n",
       "│ <span style=\"color: #008000; text-decoration-color: #008000\">Cordé            </span> │    <span style=\"color: #008080; text-decoration-color: #008080; font-weight: bold\">157</span> │     <span style=\"color: #008080; text-decoration-color: #008080; font-weight: bold\">nan</span> │ <span style=\"color: #008000; text-decoration-color: #008000\">brown     </span> │ <span style=\"color: #008000; text-decoration-color: #008000\">light      </span> │ <span style=\"color: #008000; text-decoration-color: #008000\">brown    </span> │        <span style=\"color: #008080; text-decoration-color: #008080; font-weight: bold\">nan</span> │ <span style=\"color: #008000; text-decoration-color: #008000\">female</span> │ <span style=\"color: #008000; text-decoration-color: #008000\">feminine </span> │ <span style=\"color: #008000; text-decoration-color: #008000\">Naboo    </span> │ <span style=\"color: #008000; text-decoration-color: #008000\">Human  </span> │ <span style=\"color: #7f7f7f; text-decoration-color: #7f7f7f\">NULL</span>   │ <span style=\"color: #7f7f7f; text-decoration-color: #7f7f7f\">NULL</span>     │ <span style=\"color: #7f7f7f; text-decoration-color: #7f7f7f\">NULL</span>      │\n",
       "│ <span style=\"color: #008000; text-decoration-color: #008000\">Dormé            </span> │    <span style=\"color: #008080; text-decoration-color: #008080; font-weight: bold\">165</span> │     <span style=\"color: #008080; text-decoration-color: #008080; font-weight: bold\">nan</span> │ <span style=\"color: #008000; text-decoration-color: #008000\">brown     </span> │ <span style=\"color: #008000; text-decoration-color: #008000\">light      </span> │ <span style=\"color: #008000; text-decoration-color: #008000\">brown    </span> │        <span style=\"color: #008080; text-decoration-color: #008080; font-weight: bold\">nan</span> │ <span style=\"color: #008000; text-decoration-color: #008000\">female</span> │ <span style=\"color: #008000; text-decoration-color: #008000\">feminine </span> │ <span style=\"color: #008000; text-decoration-color: #008000\">Naboo    </span> │ <span style=\"color: #008000; text-decoration-color: #008000\">Human  </span> │ <span style=\"color: #7f7f7f; text-decoration-color: #7f7f7f\">NULL</span>   │ <span style=\"color: #7f7f7f; text-decoration-color: #7f7f7f\">NULL</span>     │ <span style=\"color: #7f7f7f; text-decoration-color: #7f7f7f\">NULL</span>      │\n",
       "│ <span style=\"color: #7f7f7f; text-decoration-color: #7f7f7f\">…</span>                 │      <span style=\"color: #7f7f7f; text-decoration-color: #7f7f7f\">…</span> │       <span style=\"color: #7f7f7f; text-decoration-color: #7f7f7f\">…</span> │ <span style=\"color: #7f7f7f; text-decoration-color: #7f7f7f\">…</span>          │ <span style=\"color: #7f7f7f; text-decoration-color: #7f7f7f\">…</span>           │ <span style=\"color: #7f7f7f; text-decoration-color: #7f7f7f\">…</span>         │          <span style=\"color: #7f7f7f; text-decoration-color: #7f7f7f\">…</span> │ <span style=\"color: #7f7f7f; text-decoration-color: #7f7f7f\">…</span>      │ <span style=\"color: #7f7f7f; text-decoration-color: #7f7f7f\">…</span>         │ <span style=\"color: #7f7f7f; text-decoration-color: #7f7f7f\">…</span>         │ <span style=\"color: #7f7f7f; text-decoration-color: #7f7f7f\">…</span>       │ <span style=\"color: #7f7f7f; text-decoration-color: #7f7f7f\">…</span>      │ <span style=\"color: #7f7f7f; text-decoration-color: #7f7f7f\">…</span>        │ <span style=\"color: #7f7f7f; text-decoration-color: #7f7f7f\">…</span>         │\n",
       "└───────────────────┴────────┴─────────┴────────────┴─────────────┴───────────┴────────────┴────────┴───────────┴───────────┴─────────┴────────┴──────────┴───────────┘\n",
       "</pre>\n"
      ],
      "text/plain": [
       "┏━━━━━━━━━━━━━━━━━━━┳━━━━━━━━┳━━━━━━━━━┳━━━━━━━━━━━━┳━━━━━━━━━━━━━┳━━━━━━━━━━━┳━━━━━━━━━━━━┳━━━━━━━━┳━━━━━━━━━━━┳━━━━━━━━━━━┳━━━━━━━━━┳━━━━━━━━┳━━━━━━━━━━┳━━━━━━━━━━━┓\n",
       "┃\u001b[1m \u001b[0m\u001b[1mname\u001b[0m\u001b[1m             \u001b[0m\u001b[1m \u001b[0m┃\u001b[1m \u001b[0m\u001b[1mheight\u001b[0m\u001b[1m \u001b[0m┃\u001b[1m \u001b[0m\u001b[1mmass\u001b[0m\u001b[1m   \u001b[0m\u001b[1m \u001b[0m┃\u001b[1m \u001b[0m\u001b[1mhair_color\u001b[0m\u001b[1m \u001b[0m┃\u001b[1m \u001b[0m\u001b[1mskin_color\u001b[0m\u001b[1m \u001b[0m\u001b[1m \u001b[0m┃\u001b[1m \u001b[0m\u001b[1meye_color\u001b[0m\u001b[1m \u001b[0m┃\u001b[1m \u001b[0m\u001b[1mbirth_year\u001b[0m\u001b[1m \u001b[0m┃\u001b[1m \u001b[0m\u001b[1msex\u001b[0m\u001b[1m   \u001b[0m\u001b[1m \u001b[0m┃\u001b[1m \u001b[0m\u001b[1mgender\u001b[0m\u001b[1m   \u001b[0m\u001b[1m \u001b[0m┃\u001b[1m \u001b[0m\u001b[1mhomeworld\u001b[0m\u001b[1m \u001b[0m┃\u001b[1m \u001b[0m\u001b[1mspecies\u001b[0m\u001b[1m \u001b[0m┃\u001b[1m \u001b[0m\u001b[1mfilms\u001b[0m\u001b[1m \u001b[0m\u001b[1m \u001b[0m┃\u001b[1m \u001b[0m\u001b[1mvehicles\u001b[0m\u001b[1m \u001b[0m┃\u001b[1m \u001b[0m\u001b[1mstarships\u001b[0m\u001b[1m \u001b[0m┃\n",
       "┡━━━━━━━━━━━━━━━━━━━╇━━━━━━━━╇━━━━━━━━━╇━━━━━━━━━━━━╇━━━━━━━━━━━━━╇━━━━━━━━━━━╇━━━━━━━━━━━━╇━━━━━━━━╇━━━━━━━━━━━╇━━━━━━━━━━━╇━━━━━━━━━╇━━━━━━━━╇━━━━━━━━━━╇━━━━━━━━━━━┩\n",
       "│ \u001b[2mstring\u001b[0m            │ \u001b[2mint64\u001b[0m  │ \u001b[2mfloat64\u001b[0m │ \u001b[2mstring\u001b[0m     │ \u001b[2mstring\u001b[0m      │ \u001b[2mstring\u001b[0m    │ \u001b[2mfloat64\u001b[0m    │ \u001b[2mstring\u001b[0m │ \u001b[2mstring\u001b[0m    │ \u001b[2mstring\u001b[0m    │ \u001b[2mstring\u001b[0m  │ \u001b[2mstring\u001b[0m │ \u001b[2mstring\u001b[0m   │ \u001b[2mstring\u001b[0m    │\n",
       "├───────────────────┼────────┼─────────┼────────────┼─────────────┼───────────┼────────────┼────────┼───────────┼───────────┼─────────┼────────┼──────────┼───────────┤\n",
       "│ \u001b[32mC-3PO            \u001b[0m │    \u001b[1;36m167\u001b[0m │    \u001b[1;36m75.0\u001b[0m │ \u001b[2mNULL\u001b[0m       │ \u001b[32mgold       \u001b[0m │ \u001b[32myellow   \u001b[0m │      \u001b[1;36m112.0\u001b[0m │ \u001b[32mnone  \u001b[0m │ \u001b[32mmasculine\u001b[0m │ \u001b[32mTatooine \u001b[0m │ \u001b[32mDroid  \u001b[0m │ \u001b[2mNULL\u001b[0m   │ \u001b[2mNULL\u001b[0m     │ \u001b[2mNULL\u001b[0m      │\n",
       "│ \u001b[32mR2-D2            \u001b[0m │     \u001b[1;36m96\u001b[0m │    \u001b[1;36m32.0\u001b[0m │ \u001b[2mNULL\u001b[0m       │ \u001b[32mwhite, blue\u001b[0m │ \u001b[32mred      \u001b[0m │       \u001b[1;36m33.0\u001b[0m │ \u001b[32mnone  \u001b[0m │ \u001b[32mmasculine\u001b[0m │ \u001b[32mNaboo    \u001b[0m │ \u001b[32mDroid  \u001b[0m │ \u001b[2mNULL\u001b[0m   │ \u001b[2mNULL\u001b[0m     │ \u001b[2mNULL\u001b[0m      │\n",
       "│ \u001b[32mR5-D4            \u001b[0m │     \u001b[1;36m97\u001b[0m │    \u001b[1;36m32.0\u001b[0m │ \u001b[2mNULL\u001b[0m       │ \u001b[32mwhite, red \u001b[0m │ \u001b[32mred      \u001b[0m │        \u001b[1;36mnan\u001b[0m │ \u001b[32mnone  \u001b[0m │ \u001b[32mmasculine\u001b[0m │ \u001b[32mTatooine \u001b[0m │ \u001b[32mDroid  \u001b[0m │ \u001b[2mNULL\u001b[0m   │ \u001b[2mNULL\u001b[0m     │ \u001b[2mNULL\u001b[0m      │\n",
       "│ \u001b[32mIG-88            \u001b[0m │    \u001b[1;36m200\u001b[0m │   \u001b[1;36m140.0\u001b[0m │ \u001b[32mnone      \u001b[0m │ \u001b[32mmetal      \u001b[0m │ \u001b[32mred      \u001b[0m │       \u001b[1;36m15.0\u001b[0m │ \u001b[32mnone  \u001b[0m │ \u001b[32mmasculine\u001b[0m │ \u001b[2mNULL\u001b[0m      │ \u001b[32mDroid  \u001b[0m │ \u001b[2mNULL\u001b[0m   │ \u001b[2mNULL\u001b[0m     │ \u001b[2mNULL\u001b[0m      │\n",
       "│ \u001b[32mR4-P17           \u001b[0m │     \u001b[1;36m96\u001b[0m │     \u001b[1;36mnan\u001b[0m │ \u001b[32mnone      \u001b[0m │ \u001b[32msilver, red\u001b[0m │ \u001b[32mred, blue\u001b[0m │        \u001b[1;36mnan\u001b[0m │ \u001b[32mnone  \u001b[0m │ \u001b[32mfeminine \u001b[0m │ \u001b[2mNULL\u001b[0m      │ \u001b[32mDroid  \u001b[0m │ \u001b[2mNULL\u001b[0m   │ \u001b[2mNULL\u001b[0m     │ \u001b[2mNULL\u001b[0m      │\n",
       "│ \u001b[32mBB8              \u001b[0m │   \u001b[2mNULL\u001b[0m │     \u001b[1;36mnan\u001b[0m │ \u001b[32mnone      \u001b[0m │ \u001b[32mnone       \u001b[0m │ \u001b[32mblack    \u001b[0m │        \u001b[1;36mnan\u001b[0m │ \u001b[32mnone  \u001b[0m │ \u001b[32mmasculine\u001b[0m │ \u001b[2mNULL\u001b[0m      │ \u001b[32mDroid  \u001b[0m │ \u001b[2mNULL\u001b[0m   │ \u001b[2mNULL\u001b[0m     │ \u001b[2mNULL\u001b[0m      │\n",
       "│ \u001b[32mLeia Organa      \u001b[0m │    \u001b[1;36m150\u001b[0m │    \u001b[1;36m49.0\u001b[0m │ \u001b[32mbrown     \u001b[0m │ \u001b[32mlight      \u001b[0m │ \u001b[32mbrown    \u001b[0m │       \u001b[1;36m19.0\u001b[0m │ \u001b[32mfemale\u001b[0m │ \u001b[32mfeminine \u001b[0m │ \u001b[32mAlderaan \u001b[0m │ \u001b[32mHuman  \u001b[0m │ \u001b[2mNULL\u001b[0m   │ \u001b[2mNULL\u001b[0m     │ \u001b[2mNULL\u001b[0m      │\n",
       "│ \u001b[32mBiggs Darklighter\u001b[0m │    \u001b[1;36m183\u001b[0m │    \u001b[1;36m84.0\u001b[0m │ \u001b[32mblack     \u001b[0m │ \u001b[32mlight      \u001b[0m │ \u001b[32mbrown    \u001b[0m │       \u001b[1;36m24.0\u001b[0m │ \u001b[32mmale  \u001b[0m │ \u001b[32mmasculine\u001b[0m │ \u001b[32mTatooine \u001b[0m │ \u001b[32mHuman  \u001b[0m │ \u001b[2mNULL\u001b[0m   │ \u001b[2mNULL\u001b[0m     │ \u001b[2mNULL\u001b[0m      │\n",
       "│ \u001b[32mCordé            \u001b[0m │    \u001b[1;36m157\u001b[0m │     \u001b[1;36mnan\u001b[0m │ \u001b[32mbrown     \u001b[0m │ \u001b[32mlight      \u001b[0m │ \u001b[32mbrown    \u001b[0m │        \u001b[1;36mnan\u001b[0m │ \u001b[32mfemale\u001b[0m │ \u001b[32mfeminine \u001b[0m │ \u001b[32mNaboo    \u001b[0m │ \u001b[32mHuman  \u001b[0m │ \u001b[2mNULL\u001b[0m   │ \u001b[2mNULL\u001b[0m     │ \u001b[2mNULL\u001b[0m      │\n",
       "│ \u001b[32mDormé            \u001b[0m │    \u001b[1;36m165\u001b[0m │     \u001b[1;36mnan\u001b[0m │ \u001b[32mbrown     \u001b[0m │ \u001b[32mlight      \u001b[0m │ \u001b[32mbrown    \u001b[0m │        \u001b[1;36mnan\u001b[0m │ \u001b[32mfemale\u001b[0m │ \u001b[32mfeminine \u001b[0m │ \u001b[32mNaboo    \u001b[0m │ \u001b[32mHuman  \u001b[0m │ \u001b[2mNULL\u001b[0m   │ \u001b[2mNULL\u001b[0m     │ \u001b[2mNULL\u001b[0m      │\n",
       "│ \u001b[2m…\u001b[0m                 │      \u001b[2m…\u001b[0m │       \u001b[2m…\u001b[0m │ \u001b[2m…\u001b[0m          │ \u001b[2m…\u001b[0m           │ \u001b[2m…\u001b[0m         │          \u001b[2m…\u001b[0m │ \u001b[2m…\u001b[0m      │ \u001b[2m…\u001b[0m         │ \u001b[2m…\u001b[0m         │ \u001b[2m…\u001b[0m       │ \u001b[2m…\u001b[0m      │ \u001b[2m…\u001b[0m        │ \u001b[2m…\u001b[0m         │\n",
       "└───────────────────┴────────┴─────────┴────────────┴─────────────┴───────────┴────────────┴────────┴───────────┴───────────┴─────────┴────────┴──────────┴───────────┘"
      ]
     },
     "execution_count": 8,
     "metadata": {},
     "output_type": "execute_result"
    }
   ],
   "source": [
    "starwars.filter(\n",
    "    ((_.skin_color == \"light\") & (_.eye_color == \"brown\")) |\n",
    "    (_.species == \"Droid\")\n",
    ")"
   ]
  },
  {
   "attachments": {},
   "cell_type": "markdown",
   "metadata": {},
   "source": [
    "### Sorting your data with order_by()"
   ]
  },
  {
   "attachments": {},
   "cell_type": "markdown",
   "metadata": {},
   "source": [
    "To sort a column, dplyr has the verb `arrange`. For instance, to sort the column `height` using dplyr:\n",
    "\n",
    "```r\n",
    "starwars |>\n",
    "   arrange(height)\n",
    "```\n",
    "\n",
    "In Ibis:"
   ]
  },
  {
   "cell_type": "code",
   "execution_count": 9,
   "metadata": {},
   "outputs": [
    {
     "data": {
      "text/html": [
       "<pre style=\"white-space:pre;overflow-x:auto;line-height:normal;font-family:Menlo,'DejaVu Sans Mono',consolas,'Courier New',monospace\">┏━━━━━━━━━━━━━━━━━━━━━━━┳━━━━━━━━┳━━━━━━━━━┳━━━━━━━━━━━━┳━━━━━━━━━━━━┳━━━━━━━━━━━┳━━━━━━━━━━━━┳━━━━━━━━┳━━━━━━━━━━━┳━━━━━━━━━━━━━┳━━━━━━━━━━━━━━━━┳━━━━━━━━┳━━━━━━━━━━┳━━━━━━━━━━━┓\n",
       "┃<span style=\"font-weight: bold\"> name                  </span>┃<span style=\"font-weight: bold\"> height </span>┃<span style=\"font-weight: bold\"> mass    </span>┃<span style=\"font-weight: bold\"> hair_color </span>┃<span style=\"font-weight: bold\"> skin_color </span>┃<span style=\"font-weight: bold\"> eye_color </span>┃<span style=\"font-weight: bold\"> birth_year </span>┃<span style=\"font-weight: bold\"> sex    </span>┃<span style=\"font-weight: bold\"> gender    </span>┃<span style=\"font-weight: bold\"> homeworld   </span>┃<span style=\"font-weight: bold\"> species        </span>┃<span style=\"font-weight: bold\"> films  </span>┃<span style=\"font-weight: bold\"> vehicles </span>┃<span style=\"font-weight: bold\"> starships </span>┃\n",
       "┡━━━━━━━━━━━━━━━━━━━━━━━╇━━━━━━━━╇━━━━━━━━━╇━━━━━━━━━━━━╇━━━━━━━━━━━━╇━━━━━━━━━━━╇━━━━━━━━━━━━╇━━━━━━━━╇━━━━━━━━━━━╇━━━━━━━━━━━━━╇━━━━━━━━━━━━━━━━╇━━━━━━━━╇━━━━━━━━━━╇━━━━━━━━━━━┩\n",
       "│ <span style=\"color: #7f7f7f; text-decoration-color: #7f7f7f\">string</span>                │ <span style=\"color: #7f7f7f; text-decoration-color: #7f7f7f\">int64</span>  │ <span style=\"color: #7f7f7f; text-decoration-color: #7f7f7f\">float64</span> │ <span style=\"color: #7f7f7f; text-decoration-color: #7f7f7f\">string</span>     │ <span style=\"color: #7f7f7f; text-decoration-color: #7f7f7f\">string</span>     │ <span style=\"color: #7f7f7f; text-decoration-color: #7f7f7f\">string</span>    │ <span style=\"color: #7f7f7f; text-decoration-color: #7f7f7f\">float64</span>    │ <span style=\"color: #7f7f7f; text-decoration-color: #7f7f7f\">string</span> │ <span style=\"color: #7f7f7f; text-decoration-color: #7f7f7f\">string</span>    │ <span style=\"color: #7f7f7f; text-decoration-color: #7f7f7f\">string</span>      │ <span style=\"color: #7f7f7f; text-decoration-color: #7f7f7f\">string</span>         │ <span style=\"color: #7f7f7f; text-decoration-color: #7f7f7f\">string</span> │ <span style=\"color: #7f7f7f; text-decoration-color: #7f7f7f\">string</span>   │ <span style=\"color: #7f7f7f; text-decoration-color: #7f7f7f\">string</span>    │\n",
       "├───────────────────────┼────────┼─────────┼────────────┼────────────┼───────────┼────────────┼────────┼───────────┼─────────────┼────────────────┼────────┼──────────┼───────────┤\n",
       "│ <span style=\"color: #008000; text-decoration-color: #008000\">Arvel Crynyd         </span> │   <span style=\"color: #7f7f7f; text-decoration-color: #7f7f7f\">NULL</span> │     <span style=\"color: #008080; text-decoration-color: #008080; font-weight: bold\">nan</span> │ <span style=\"color: #008000; text-decoration-color: #008000\">brown     </span> │ <span style=\"color: #008000; text-decoration-color: #008000\">fair      </span> │ <span style=\"color: #008000; text-decoration-color: #008000\">brown    </span> │        <span style=\"color: #008080; text-decoration-color: #008080; font-weight: bold\">nan</span> │ <span style=\"color: #008000; text-decoration-color: #008000\">male  </span> │ <span style=\"color: #008000; text-decoration-color: #008000\">masculine</span> │ <span style=\"color: #7f7f7f; text-decoration-color: #7f7f7f\">NULL</span>        │ <span style=\"color: #008000; text-decoration-color: #008000\">Human         </span> │ <span style=\"color: #7f7f7f; text-decoration-color: #7f7f7f\">NULL</span>   │ <span style=\"color: #7f7f7f; text-decoration-color: #7f7f7f\">NULL</span>     │ <span style=\"color: #7f7f7f; text-decoration-color: #7f7f7f\">NULL</span>      │\n",
       "│ <span style=\"color: #008000; text-decoration-color: #008000\">Finn                 </span> │   <span style=\"color: #7f7f7f; text-decoration-color: #7f7f7f\">NULL</span> │     <span style=\"color: #008080; text-decoration-color: #008080; font-weight: bold\">nan</span> │ <span style=\"color: #008000; text-decoration-color: #008000\">black     </span> │ <span style=\"color: #008000; text-decoration-color: #008000\">dark      </span> │ <span style=\"color: #008000; text-decoration-color: #008000\">dark     </span> │        <span style=\"color: #008080; text-decoration-color: #008080; font-weight: bold\">nan</span> │ <span style=\"color: #008000; text-decoration-color: #008000\">male  </span> │ <span style=\"color: #008000; text-decoration-color: #008000\">masculine</span> │ <span style=\"color: #7f7f7f; text-decoration-color: #7f7f7f\">NULL</span>        │ <span style=\"color: #008000; text-decoration-color: #008000\">Human         </span> │ <span style=\"color: #7f7f7f; text-decoration-color: #7f7f7f\">NULL</span>   │ <span style=\"color: #7f7f7f; text-decoration-color: #7f7f7f\">NULL</span>     │ <span style=\"color: #7f7f7f; text-decoration-color: #7f7f7f\">NULL</span>      │\n",
       "│ <span style=\"color: #008000; text-decoration-color: #008000\">Rey                  </span> │   <span style=\"color: #7f7f7f; text-decoration-color: #7f7f7f\">NULL</span> │     <span style=\"color: #008080; text-decoration-color: #008080; font-weight: bold\">nan</span> │ <span style=\"color: #008000; text-decoration-color: #008000\">brown     </span> │ <span style=\"color: #008000; text-decoration-color: #008000\">light     </span> │ <span style=\"color: #008000; text-decoration-color: #008000\">hazel    </span> │        <span style=\"color: #008080; text-decoration-color: #008080; font-weight: bold\">nan</span> │ <span style=\"color: #008000; text-decoration-color: #008000\">female</span> │ <span style=\"color: #008000; text-decoration-color: #008000\">feminine </span> │ <span style=\"color: #7f7f7f; text-decoration-color: #7f7f7f\">NULL</span>        │ <span style=\"color: #008000; text-decoration-color: #008000\">Human         </span> │ <span style=\"color: #7f7f7f; text-decoration-color: #7f7f7f\">NULL</span>   │ <span style=\"color: #7f7f7f; text-decoration-color: #7f7f7f\">NULL</span>     │ <span style=\"color: #7f7f7f; text-decoration-color: #7f7f7f\">NULL</span>      │\n",
       "│ <span style=\"color: #008000; text-decoration-color: #008000\">Poe Dameron          </span> │   <span style=\"color: #7f7f7f; text-decoration-color: #7f7f7f\">NULL</span> │     <span style=\"color: #008080; text-decoration-color: #008080; font-weight: bold\">nan</span> │ <span style=\"color: #008000; text-decoration-color: #008000\">brown     </span> │ <span style=\"color: #008000; text-decoration-color: #008000\">light     </span> │ <span style=\"color: #008000; text-decoration-color: #008000\">brown    </span> │        <span style=\"color: #008080; text-decoration-color: #008080; font-weight: bold\">nan</span> │ <span style=\"color: #008000; text-decoration-color: #008000\">male  </span> │ <span style=\"color: #008000; text-decoration-color: #008000\">masculine</span> │ <span style=\"color: #7f7f7f; text-decoration-color: #7f7f7f\">NULL</span>        │ <span style=\"color: #008000; text-decoration-color: #008000\">Human         </span> │ <span style=\"color: #7f7f7f; text-decoration-color: #7f7f7f\">NULL</span>   │ <span style=\"color: #7f7f7f; text-decoration-color: #7f7f7f\">NULL</span>     │ <span style=\"color: #7f7f7f; text-decoration-color: #7f7f7f\">NULL</span>      │\n",
       "│ <span style=\"color: #008000; text-decoration-color: #008000\">BB8                  </span> │   <span style=\"color: #7f7f7f; text-decoration-color: #7f7f7f\">NULL</span> │     <span style=\"color: #008080; text-decoration-color: #008080; font-weight: bold\">nan</span> │ <span style=\"color: #008000; text-decoration-color: #008000\">none      </span> │ <span style=\"color: #008000; text-decoration-color: #008000\">none      </span> │ <span style=\"color: #008000; text-decoration-color: #008000\">black    </span> │        <span style=\"color: #008080; text-decoration-color: #008080; font-weight: bold\">nan</span> │ <span style=\"color: #008000; text-decoration-color: #008000\">none  </span> │ <span style=\"color: #008000; text-decoration-color: #008000\">masculine</span> │ <span style=\"color: #7f7f7f; text-decoration-color: #7f7f7f\">NULL</span>        │ <span style=\"color: #008000; text-decoration-color: #008000\">Droid         </span> │ <span style=\"color: #7f7f7f; text-decoration-color: #7f7f7f\">NULL</span>   │ <span style=\"color: #7f7f7f; text-decoration-color: #7f7f7f\">NULL</span>     │ <span style=\"color: #7f7f7f; text-decoration-color: #7f7f7f\">NULL</span>      │\n",
       "│ <span style=\"color: #008000; text-decoration-color: #008000\">Captain Phasma       </span> │   <span style=\"color: #7f7f7f; text-decoration-color: #7f7f7f\">NULL</span> │     <span style=\"color: #008080; text-decoration-color: #008080; font-weight: bold\">nan</span> │ <span style=\"color: #008000; text-decoration-color: #008000\">unknown   </span> │ <span style=\"color: #008000; text-decoration-color: #008000\">unknown   </span> │ <span style=\"color: #008000; text-decoration-color: #008000\">unknown  </span> │        <span style=\"color: #008080; text-decoration-color: #008080; font-weight: bold\">nan</span> │ <span style=\"color: #7f7f7f; text-decoration-color: #7f7f7f\">NULL</span>   │ <span style=\"color: #7f7f7f; text-decoration-color: #7f7f7f\">NULL</span>      │ <span style=\"color: #7f7f7f; text-decoration-color: #7f7f7f\">NULL</span>        │ <span style=\"color: #7f7f7f; text-decoration-color: #7f7f7f\">NULL</span>           │ <span style=\"color: #7f7f7f; text-decoration-color: #7f7f7f\">NULL</span>   │ <span style=\"color: #7f7f7f; text-decoration-color: #7f7f7f\">NULL</span>     │ <span style=\"color: #7f7f7f; text-decoration-color: #7f7f7f\">NULL</span>      │\n",
       "│ <span style=\"color: #008000; text-decoration-color: #008000\">Yoda                 </span> │     <span style=\"color: #008080; text-decoration-color: #008080; font-weight: bold\">66</span> │    <span style=\"color: #008080; text-decoration-color: #008080; font-weight: bold\">17.0</span> │ <span style=\"color: #008000; text-decoration-color: #008000\">white     </span> │ <span style=\"color: #008000; text-decoration-color: #008000\">green     </span> │ <span style=\"color: #008000; text-decoration-color: #008000\">brown    </span> │      <span style=\"color: #008080; text-decoration-color: #008080; font-weight: bold\">896.0</span> │ <span style=\"color: #008000; text-decoration-color: #008000\">male  </span> │ <span style=\"color: #008000; text-decoration-color: #008000\">masculine</span> │ <span style=\"color: #7f7f7f; text-decoration-color: #7f7f7f\">NULL</span>        │ <span style=\"color: #008000; text-decoration-color: #008000\">Yoda's species</span> │ <span style=\"color: #7f7f7f; text-decoration-color: #7f7f7f\">NULL</span>   │ <span style=\"color: #7f7f7f; text-decoration-color: #7f7f7f\">NULL</span>     │ <span style=\"color: #7f7f7f; text-decoration-color: #7f7f7f\">NULL</span>      │\n",
       "│ <span style=\"color: #008000; text-decoration-color: #008000\">Ratts Tyerell        </span> │     <span style=\"color: #008080; text-decoration-color: #008080; font-weight: bold\">79</span> │    <span style=\"color: #008080; text-decoration-color: #008080; font-weight: bold\">15.0</span> │ <span style=\"color: #008000; text-decoration-color: #008000\">none      </span> │ <span style=\"color: #008000; text-decoration-color: #008000\">grey, blue</span> │ <span style=\"color: #008000; text-decoration-color: #008000\">unknown  </span> │        <span style=\"color: #008080; text-decoration-color: #008080; font-weight: bold\">nan</span> │ <span style=\"color: #008000; text-decoration-color: #008000\">male  </span> │ <span style=\"color: #008000; text-decoration-color: #008000\">masculine</span> │ <span style=\"color: #008000; text-decoration-color: #008000\">Aleen Minor</span> │ <span style=\"color: #008000; text-decoration-color: #008000\">Aleena        </span> │ <span style=\"color: #7f7f7f; text-decoration-color: #7f7f7f\">NULL</span>   │ <span style=\"color: #7f7f7f; text-decoration-color: #7f7f7f\">NULL</span>     │ <span style=\"color: #7f7f7f; text-decoration-color: #7f7f7f\">NULL</span>      │\n",
       "│ <span style=\"color: #008000; text-decoration-color: #008000\">Wicket Systri Warrick</span> │     <span style=\"color: #008080; text-decoration-color: #008080; font-weight: bold\">88</span> │    <span style=\"color: #008080; text-decoration-color: #008080; font-weight: bold\">20.0</span> │ <span style=\"color: #008000; text-decoration-color: #008000\">brown     </span> │ <span style=\"color: #008000; text-decoration-color: #008000\">brown     </span> │ <span style=\"color: #008000; text-decoration-color: #008000\">brown    </span> │        <span style=\"color: #008080; text-decoration-color: #008080; font-weight: bold\">8.0</span> │ <span style=\"color: #008000; text-decoration-color: #008000\">male  </span> │ <span style=\"color: #008000; text-decoration-color: #008000\">masculine</span> │ <span style=\"color: #008000; text-decoration-color: #008000\">Endor      </span> │ <span style=\"color: #008000; text-decoration-color: #008000\">Ewok          </span> │ <span style=\"color: #7f7f7f; text-decoration-color: #7f7f7f\">NULL</span>   │ <span style=\"color: #7f7f7f; text-decoration-color: #7f7f7f\">NULL</span>     │ <span style=\"color: #7f7f7f; text-decoration-color: #7f7f7f\">NULL</span>      │\n",
       "│ <span style=\"color: #008000; text-decoration-color: #008000\">Dud Bolt             </span> │     <span style=\"color: #008080; text-decoration-color: #008080; font-weight: bold\">94</span> │    <span style=\"color: #008080; text-decoration-color: #008080; font-weight: bold\">45.0</span> │ <span style=\"color: #008000; text-decoration-color: #008000\">none      </span> │ <span style=\"color: #008000; text-decoration-color: #008000\">blue, grey</span> │ <span style=\"color: #008000; text-decoration-color: #008000\">yellow   </span> │        <span style=\"color: #008080; text-decoration-color: #008080; font-weight: bold\">nan</span> │ <span style=\"color: #008000; text-decoration-color: #008000\">male  </span> │ <span style=\"color: #008000; text-decoration-color: #008000\">masculine</span> │ <span style=\"color: #008000; text-decoration-color: #008000\">Vulpter    </span> │ <span style=\"color: #008000; text-decoration-color: #008000\">Vulptereen    </span> │ <span style=\"color: #7f7f7f; text-decoration-color: #7f7f7f\">NULL</span>   │ <span style=\"color: #7f7f7f; text-decoration-color: #7f7f7f\">NULL</span>     │ <span style=\"color: #7f7f7f; text-decoration-color: #7f7f7f\">NULL</span>      │\n",
       "│ <span style=\"color: #7f7f7f; text-decoration-color: #7f7f7f\">…</span>                     │      <span style=\"color: #7f7f7f; text-decoration-color: #7f7f7f\">…</span> │       <span style=\"color: #7f7f7f; text-decoration-color: #7f7f7f\">…</span> │ <span style=\"color: #7f7f7f; text-decoration-color: #7f7f7f\">…</span>          │ <span style=\"color: #7f7f7f; text-decoration-color: #7f7f7f\">…</span>          │ <span style=\"color: #7f7f7f; text-decoration-color: #7f7f7f\">…</span>         │          <span style=\"color: #7f7f7f; text-decoration-color: #7f7f7f\">…</span> │ <span style=\"color: #7f7f7f; text-decoration-color: #7f7f7f\">…</span>      │ <span style=\"color: #7f7f7f; text-decoration-color: #7f7f7f\">…</span>         │ <span style=\"color: #7f7f7f; text-decoration-color: #7f7f7f\">…</span>           │ <span style=\"color: #7f7f7f; text-decoration-color: #7f7f7f\">…</span>              │ <span style=\"color: #7f7f7f; text-decoration-color: #7f7f7f\">…</span>      │ <span style=\"color: #7f7f7f; text-decoration-color: #7f7f7f\">…</span>        │ <span style=\"color: #7f7f7f; text-decoration-color: #7f7f7f\">…</span>         │\n",
       "└───────────────────────┴────────┴─────────┴────────────┴────────────┴───────────┴────────────┴────────┴───────────┴─────────────┴────────────────┴────────┴──────────┴───────────┘\n",
       "</pre>\n"
      ],
      "text/plain": [
       "┏━━━━━━━━━━━━━━━━━━━━━━━┳━━━━━━━━┳━━━━━━━━━┳━━━━━━━━━━━━┳━━━━━━━━━━━━┳━━━━━━━━━━━┳━━━━━━━━━━━━┳━━━━━━━━┳━━━━━━━━━━━┳━━━━━━━━━━━━━┳━━━━━━━━━━━━━━━━┳━━━━━━━━┳━━━━━━━━━━┳━━━━━━━━━━━┓\n",
       "┃\u001b[1m \u001b[0m\u001b[1mname\u001b[0m\u001b[1m                 \u001b[0m\u001b[1m \u001b[0m┃\u001b[1m \u001b[0m\u001b[1mheight\u001b[0m\u001b[1m \u001b[0m┃\u001b[1m \u001b[0m\u001b[1mmass\u001b[0m\u001b[1m   \u001b[0m\u001b[1m \u001b[0m┃\u001b[1m \u001b[0m\u001b[1mhair_color\u001b[0m\u001b[1m \u001b[0m┃\u001b[1m \u001b[0m\u001b[1mskin_color\u001b[0m\u001b[1m \u001b[0m┃\u001b[1m \u001b[0m\u001b[1meye_color\u001b[0m\u001b[1m \u001b[0m┃\u001b[1m \u001b[0m\u001b[1mbirth_year\u001b[0m\u001b[1m \u001b[0m┃\u001b[1m \u001b[0m\u001b[1msex\u001b[0m\u001b[1m   \u001b[0m\u001b[1m \u001b[0m┃\u001b[1m \u001b[0m\u001b[1mgender\u001b[0m\u001b[1m   \u001b[0m\u001b[1m \u001b[0m┃\u001b[1m \u001b[0m\u001b[1mhomeworld\u001b[0m\u001b[1m  \u001b[0m\u001b[1m \u001b[0m┃\u001b[1m \u001b[0m\u001b[1mspecies\u001b[0m\u001b[1m       \u001b[0m\u001b[1m \u001b[0m┃\u001b[1m \u001b[0m\u001b[1mfilms\u001b[0m\u001b[1m \u001b[0m\u001b[1m \u001b[0m┃\u001b[1m \u001b[0m\u001b[1mvehicles\u001b[0m\u001b[1m \u001b[0m┃\u001b[1m \u001b[0m\u001b[1mstarships\u001b[0m\u001b[1m \u001b[0m┃\n",
       "┡━━━━━━━━━━━━━━━━━━━━━━━╇━━━━━━━━╇━━━━━━━━━╇━━━━━━━━━━━━╇━━━━━━━━━━━━╇━━━━━━━━━━━╇━━━━━━━━━━━━╇━━━━━━━━╇━━━━━━━━━━━╇━━━━━━━━━━━━━╇━━━━━━━━━━━━━━━━╇━━━━━━━━╇━━━━━━━━━━╇━━━━━━━━━━━┩\n",
       "│ \u001b[2mstring\u001b[0m                │ \u001b[2mint64\u001b[0m  │ \u001b[2mfloat64\u001b[0m │ \u001b[2mstring\u001b[0m     │ \u001b[2mstring\u001b[0m     │ \u001b[2mstring\u001b[0m    │ \u001b[2mfloat64\u001b[0m    │ \u001b[2mstring\u001b[0m │ \u001b[2mstring\u001b[0m    │ \u001b[2mstring\u001b[0m      │ \u001b[2mstring\u001b[0m         │ \u001b[2mstring\u001b[0m │ \u001b[2mstring\u001b[0m   │ \u001b[2mstring\u001b[0m    │\n",
       "├───────────────────────┼────────┼─────────┼────────────┼────────────┼───────────┼────────────┼────────┼───────────┼─────────────┼────────────────┼────────┼──────────┼───────────┤\n",
       "│ \u001b[32mArvel Crynyd         \u001b[0m │   \u001b[2mNULL\u001b[0m │     \u001b[1;36mnan\u001b[0m │ \u001b[32mbrown     \u001b[0m │ \u001b[32mfair      \u001b[0m │ \u001b[32mbrown    \u001b[0m │        \u001b[1;36mnan\u001b[0m │ \u001b[32mmale  \u001b[0m │ \u001b[32mmasculine\u001b[0m │ \u001b[2mNULL\u001b[0m        │ \u001b[32mHuman         \u001b[0m │ \u001b[2mNULL\u001b[0m   │ \u001b[2mNULL\u001b[0m     │ \u001b[2mNULL\u001b[0m      │\n",
       "│ \u001b[32mFinn                 \u001b[0m │   \u001b[2mNULL\u001b[0m │     \u001b[1;36mnan\u001b[0m │ \u001b[32mblack     \u001b[0m │ \u001b[32mdark      \u001b[0m │ \u001b[32mdark     \u001b[0m │        \u001b[1;36mnan\u001b[0m │ \u001b[32mmale  \u001b[0m │ \u001b[32mmasculine\u001b[0m │ \u001b[2mNULL\u001b[0m        │ \u001b[32mHuman         \u001b[0m │ \u001b[2mNULL\u001b[0m   │ \u001b[2mNULL\u001b[0m     │ \u001b[2mNULL\u001b[0m      │\n",
       "│ \u001b[32mRey                  \u001b[0m │   \u001b[2mNULL\u001b[0m │     \u001b[1;36mnan\u001b[0m │ \u001b[32mbrown     \u001b[0m │ \u001b[32mlight     \u001b[0m │ \u001b[32mhazel    \u001b[0m │        \u001b[1;36mnan\u001b[0m │ \u001b[32mfemale\u001b[0m │ \u001b[32mfeminine \u001b[0m │ \u001b[2mNULL\u001b[0m        │ \u001b[32mHuman         \u001b[0m │ \u001b[2mNULL\u001b[0m   │ \u001b[2mNULL\u001b[0m     │ \u001b[2mNULL\u001b[0m      │\n",
       "│ \u001b[32mPoe Dameron          \u001b[0m │   \u001b[2mNULL\u001b[0m │     \u001b[1;36mnan\u001b[0m │ \u001b[32mbrown     \u001b[0m │ \u001b[32mlight     \u001b[0m │ \u001b[32mbrown    \u001b[0m │        \u001b[1;36mnan\u001b[0m │ \u001b[32mmale  \u001b[0m │ \u001b[32mmasculine\u001b[0m │ \u001b[2mNULL\u001b[0m        │ \u001b[32mHuman         \u001b[0m │ \u001b[2mNULL\u001b[0m   │ \u001b[2mNULL\u001b[0m     │ \u001b[2mNULL\u001b[0m      │\n",
       "│ \u001b[32mBB8                  \u001b[0m │   \u001b[2mNULL\u001b[0m │     \u001b[1;36mnan\u001b[0m │ \u001b[32mnone      \u001b[0m │ \u001b[32mnone      \u001b[0m │ \u001b[32mblack    \u001b[0m │        \u001b[1;36mnan\u001b[0m │ \u001b[32mnone  \u001b[0m │ \u001b[32mmasculine\u001b[0m │ \u001b[2mNULL\u001b[0m        │ \u001b[32mDroid         \u001b[0m │ \u001b[2mNULL\u001b[0m   │ \u001b[2mNULL\u001b[0m     │ \u001b[2mNULL\u001b[0m      │\n",
       "│ \u001b[32mCaptain Phasma       \u001b[0m │   \u001b[2mNULL\u001b[0m │     \u001b[1;36mnan\u001b[0m │ \u001b[32munknown   \u001b[0m │ \u001b[32munknown   \u001b[0m │ \u001b[32munknown  \u001b[0m │        \u001b[1;36mnan\u001b[0m │ \u001b[2mNULL\u001b[0m   │ \u001b[2mNULL\u001b[0m      │ \u001b[2mNULL\u001b[0m        │ \u001b[2mNULL\u001b[0m           │ \u001b[2mNULL\u001b[0m   │ \u001b[2mNULL\u001b[0m     │ \u001b[2mNULL\u001b[0m      │\n",
       "│ \u001b[32mYoda                 \u001b[0m │     \u001b[1;36m66\u001b[0m │    \u001b[1;36m17.0\u001b[0m │ \u001b[32mwhite     \u001b[0m │ \u001b[32mgreen     \u001b[0m │ \u001b[32mbrown    \u001b[0m │      \u001b[1;36m896.0\u001b[0m │ \u001b[32mmale  \u001b[0m │ \u001b[32mmasculine\u001b[0m │ \u001b[2mNULL\u001b[0m        │ \u001b[32mYoda's species\u001b[0m │ \u001b[2mNULL\u001b[0m   │ \u001b[2mNULL\u001b[0m     │ \u001b[2mNULL\u001b[0m      │\n",
       "│ \u001b[32mRatts Tyerell        \u001b[0m │     \u001b[1;36m79\u001b[0m │    \u001b[1;36m15.0\u001b[0m │ \u001b[32mnone      \u001b[0m │ \u001b[32mgrey, blue\u001b[0m │ \u001b[32munknown  \u001b[0m │        \u001b[1;36mnan\u001b[0m │ \u001b[32mmale  \u001b[0m │ \u001b[32mmasculine\u001b[0m │ \u001b[32mAleen Minor\u001b[0m │ \u001b[32mAleena        \u001b[0m │ \u001b[2mNULL\u001b[0m   │ \u001b[2mNULL\u001b[0m     │ \u001b[2mNULL\u001b[0m      │\n",
       "│ \u001b[32mWicket Systri Warrick\u001b[0m │     \u001b[1;36m88\u001b[0m │    \u001b[1;36m20.0\u001b[0m │ \u001b[32mbrown     \u001b[0m │ \u001b[32mbrown     \u001b[0m │ \u001b[32mbrown    \u001b[0m │        \u001b[1;36m8.0\u001b[0m │ \u001b[32mmale  \u001b[0m │ \u001b[32mmasculine\u001b[0m │ \u001b[32mEndor      \u001b[0m │ \u001b[32mEwok          \u001b[0m │ \u001b[2mNULL\u001b[0m   │ \u001b[2mNULL\u001b[0m     │ \u001b[2mNULL\u001b[0m      │\n",
       "│ \u001b[32mDud Bolt             \u001b[0m │     \u001b[1;36m94\u001b[0m │    \u001b[1;36m45.0\u001b[0m │ \u001b[32mnone      \u001b[0m │ \u001b[32mblue, grey\u001b[0m │ \u001b[32myellow   \u001b[0m │        \u001b[1;36mnan\u001b[0m │ \u001b[32mmale  \u001b[0m │ \u001b[32mmasculine\u001b[0m │ \u001b[32mVulpter    \u001b[0m │ \u001b[32mVulptereen    \u001b[0m │ \u001b[2mNULL\u001b[0m   │ \u001b[2mNULL\u001b[0m     │ \u001b[2mNULL\u001b[0m      │\n",
       "│ \u001b[2m…\u001b[0m                     │      \u001b[2m…\u001b[0m │       \u001b[2m…\u001b[0m │ \u001b[2m…\u001b[0m          │ \u001b[2m…\u001b[0m          │ \u001b[2m…\u001b[0m         │          \u001b[2m…\u001b[0m │ \u001b[2m…\u001b[0m      │ \u001b[2m…\u001b[0m         │ \u001b[2m…\u001b[0m           │ \u001b[2m…\u001b[0m              │ \u001b[2m…\u001b[0m      │ \u001b[2m…\u001b[0m        │ \u001b[2m…\u001b[0m         │\n",
       "└───────────────────────┴────────┴─────────┴────────────┴────────────┴───────────┴────────────┴────────┴───────────┴─────────────┴────────────────┴────────┴──────────┴───────────┘"
      ]
     },
     "execution_count": 9,
     "metadata": {},
     "output_type": "execute_result"
    }
   ],
   "source": [
    "starwars.order_by(_.height)"
   ]
  },
  {
   "cell_type": "markdown",
   "metadata": {},
   "source": [
    "You might notice that while dplyr puts missing values at the end, Ibis places them at the top.\n",
    "\n",
    "If you want to order using multiple variables, you can pass them as a list:"
   ]
  },
  {
   "cell_type": "code",
   "execution_count": 51,
   "metadata": {},
   "outputs": [
    {
     "data": {
      "text/html": [
       "<pre style=\"white-space:pre;overflow-x:auto;line-height:normal;font-family:Menlo,'DejaVu Sans Mono',consolas,'Courier New',monospace\">┏━━━━━━━━━━━━━━━━━━━━━━━┳━━━━━━━━┳━━━━━━━━━┳━━━━━━━━━━━━┳━━━━━━━━━━━━┳━━━━━━━━━━━┳━━━━━━━━━━━━┳━━━━━━━━┳━━━━━━━━━━━┳━━━━━━━━━━━━━┳━━━━━━━━━━━━━━━━┳━━━━━━━━┳━━━━━━━━━━┳━━━━━━━━━━━┓\n",
       "┃<span style=\"font-weight: bold\"> name                  </span>┃<span style=\"font-weight: bold\"> height </span>┃<span style=\"font-weight: bold\"> mass    </span>┃<span style=\"font-weight: bold\"> hair_color </span>┃<span style=\"font-weight: bold\"> skin_color </span>┃<span style=\"font-weight: bold\"> eye_color </span>┃<span style=\"font-weight: bold\"> birth_year </span>┃<span style=\"font-weight: bold\"> sex    </span>┃<span style=\"font-weight: bold\"> gender    </span>┃<span style=\"font-weight: bold\"> homeworld   </span>┃<span style=\"font-weight: bold\"> species        </span>┃<span style=\"font-weight: bold\"> films  </span>┃<span style=\"font-weight: bold\"> vehicles </span>┃<span style=\"font-weight: bold\"> starships </span>┃\n",
       "┡━━━━━━━━━━━━━━━━━━━━━━━╇━━━━━━━━╇━━━━━━━━━╇━━━━━━━━━━━━╇━━━━━━━━━━━━╇━━━━━━━━━━━╇━━━━━━━━━━━━╇━━━━━━━━╇━━━━━━━━━━━╇━━━━━━━━━━━━━╇━━━━━━━━━━━━━━━━╇━━━━━━━━╇━━━━━━━━━━╇━━━━━━━━━━━┩\n",
       "│ <span style=\"color: #7f7f7f; text-decoration-color: #7f7f7f\">string</span>                │ <span style=\"color: #7f7f7f; text-decoration-color: #7f7f7f\">int64</span>  │ <span style=\"color: #7f7f7f; text-decoration-color: #7f7f7f\">float64</span> │ <span style=\"color: #7f7f7f; text-decoration-color: #7f7f7f\">string</span>     │ <span style=\"color: #7f7f7f; text-decoration-color: #7f7f7f\">string</span>     │ <span style=\"color: #7f7f7f; text-decoration-color: #7f7f7f\">string</span>    │ <span style=\"color: #7f7f7f; text-decoration-color: #7f7f7f\">float64</span>    │ <span style=\"color: #7f7f7f; text-decoration-color: #7f7f7f\">string</span> │ <span style=\"color: #7f7f7f; text-decoration-color: #7f7f7f\">string</span>    │ <span style=\"color: #7f7f7f; text-decoration-color: #7f7f7f\">string</span>      │ <span style=\"color: #7f7f7f; text-decoration-color: #7f7f7f\">string</span>         │ <span style=\"color: #7f7f7f; text-decoration-color: #7f7f7f\">string</span> │ <span style=\"color: #7f7f7f; text-decoration-color: #7f7f7f\">string</span>   │ <span style=\"color: #7f7f7f; text-decoration-color: #7f7f7f\">string</span>    │\n",
       "├───────────────────────┼────────┼─────────┼────────────┼────────────┼───────────┼────────────┼────────┼───────────┼─────────────┼────────────────┼────────┼──────────┼───────────┤\n",
       "│ <span style=\"color: #008000; text-decoration-color: #008000\">Arvel Crynyd         </span> │   <span style=\"color: #7f7f7f; text-decoration-color: #7f7f7f\">NULL</span> │     <span style=\"color: #008080; text-decoration-color: #008080; font-weight: bold\">nan</span> │ <span style=\"color: #008000; text-decoration-color: #008000\">brown     </span> │ <span style=\"color: #008000; text-decoration-color: #008000\">fair      </span> │ <span style=\"color: #008000; text-decoration-color: #008000\">brown    </span> │        <span style=\"color: #008080; text-decoration-color: #008080; font-weight: bold\">nan</span> │ <span style=\"color: #008000; text-decoration-color: #008000\">male  </span> │ <span style=\"color: #008000; text-decoration-color: #008000\">masculine</span> │ <span style=\"color: #7f7f7f; text-decoration-color: #7f7f7f\">NULL</span>        │ <span style=\"color: #008000; text-decoration-color: #008000\">Human         </span> │ <span style=\"color: #7f7f7f; text-decoration-color: #7f7f7f\">NULL</span>   │ <span style=\"color: #7f7f7f; text-decoration-color: #7f7f7f\">NULL</span>     │ <span style=\"color: #7f7f7f; text-decoration-color: #7f7f7f\">NULL</span>      │\n",
       "│ <span style=\"color: #008000; text-decoration-color: #008000\">Finn                 </span> │   <span style=\"color: #7f7f7f; text-decoration-color: #7f7f7f\">NULL</span> │     <span style=\"color: #008080; text-decoration-color: #008080; font-weight: bold\">nan</span> │ <span style=\"color: #008000; text-decoration-color: #008000\">black     </span> │ <span style=\"color: #008000; text-decoration-color: #008000\">dark      </span> │ <span style=\"color: #008000; text-decoration-color: #008000\">dark     </span> │        <span style=\"color: #008080; text-decoration-color: #008080; font-weight: bold\">nan</span> │ <span style=\"color: #008000; text-decoration-color: #008000\">male  </span> │ <span style=\"color: #008000; text-decoration-color: #008000\">masculine</span> │ <span style=\"color: #7f7f7f; text-decoration-color: #7f7f7f\">NULL</span>        │ <span style=\"color: #008000; text-decoration-color: #008000\">Human         </span> │ <span style=\"color: #7f7f7f; text-decoration-color: #7f7f7f\">NULL</span>   │ <span style=\"color: #7f7f7f; text-decoration-color: #7f7f7f\">NULL</span>     │ <span style=\"color: #7f7f7f; text-decoration-color: #7f7f7f\">NULL</span>      │\n",
       "│ <span style=\"color: #008000; text-decoration-color: #008000\">Rey                  </span> │   <span style=\"color: #7f7f7f; text-decoration-color: #7f7f7f\">NULL</span> │     <span style=\"color: #008080; text-decoration-color: #008080; font-weight: bold\">nan</span> │ <span style=\"color: #008000; text-decoration-color: #008000\">brown     </span> │ <span style=\"color: #008000; text-decoration-color: #008000\">light     </span> │ <span style=\"color: #008000; text-decoration-color: #008000\">hazel    </span> │        <span style=\"color: #008080; text-decoration-color: #008080; font-weight: bold\">nan</span> │ <span style=\"color: #008000; text-decoration-color: #008000\">female</span> │ <span style=\"color: #008000; text-decoration-color: #008000\">feminine </span> │ <span style=\"color: #7f7f7f; text-decoration-color: #7f7f7f\">NULL</span>        │ <span style=\"color: #008000; text-decoration-color: #008000\">Human         </span> │ <span style=\"color: #7f7f7f; text-decoration-color: #7f7f7f\">NULL</span>   │ <span style=\"color: #7f7f7f; text-decoration-color: #7f7f7f\">NULL</span>     │ <span style=\"color: #7f7f7f; text-decoration-color: #7f7f7f\">NULL</span>      │\n",
       "│ <span style=\"color: #008000; text-decoration-color: #008000\">Poe Dameron          </span> │   <span style=\"color: #7f7f7f; text-decoration-color: #7f7f7f\">NULL</span> │     <span style=\"color: #008080; text-decoration-color: #008080; font-weight: bold\">nan</span> │ <span style=\"color: #008000; text-decoration-color: #008000\">brown     </span> │ <span style=\"color: #008000; text-decoration-color: #008000\">light     </span> │ <span style=\"color: #008000; text-decoration-color: #008000\">brown    </span> │        <span style=\"color: #008080; text-decoration-color: #008080; font-weight: bold\">nan</span> │ <span style=\"color: #008000; text-decoration-color: #008000\">male  </span> │ <span style=\"color: #008000; text-decoration-color: #008000\">masculine</span> │ <span style=\"color: #7f7f7f; text-decoration-color: #7f7f7f\">NULL</span>        │ <span style=\"color: #008000; text-decoration-color: #008000\">Human         </span> │ <span style=\"color: #7f7f7f; text-decoration-color: #7f7f7f\">NULL</span>   │ <span style=\"color: #7f7f7f; text-decoration-color: #7f7f7f\">NULL</span>     │ <span style=\"color: #7f7f7f; text-decoration-color: #7f7f7f\">NULL</span>      │\n",
       "│ <span style=\"color: #008000; text-decoration-color: #008000\">BB8                  </span> │   <span style=\"color: #7f7f7f; text-decoration-color: #7f7f7f\">NULL</span> │     <span style=\"color: #008080; text-decoration-color: #008080; font-weight: bold\">nan</span> │ <span style=\"color: #008000; text-decoration-color: #008000\">none      </span> │ <span style=\"color: #008000; text-decoration-color: #008000\">none      </span> │ <span style=\"color: #008000; text-decoration-color: #008000\">black    </span> │        <span style=\"color: #008080; text-decoration-color: #008080; font-weight: bold\">nan</span> │ <span style=\"color: #008000; text-decoration-color: #008000\">none  </span> │ <span style=\"color: #008000; text-decoration-color: #008000\">masculine</span> │ <span style=\"color: #7f7f7f; text-decoration-color: #7f7f7f\">NULL</span>        │ <span style=\"color: #008000; text-decoration-color: #008000\">Droid         </span> │ <span style=\"color: #7f7f7f; text-decoration-color: #7f7f7f\">NULL</span>   │ <span style=\"color: #7f7f7f; text-decoration-color: #7f7f7f\">NULL</span>     │ <span style=\"color: #7f7f7f; text-decoration-color: #7f7f7f\">NULL</span>      │\n",
       "│ <span style=\"color: #008000; text-decoration-color: #008000\">Captain Phasma       </span> │   <span style=\"color: #7f7f7f; text-decoration-color: #7f7f7f\">NULL</span> │     <span style=\"color: #008080; text-decoration-color: #008080; font-weight: bold\">nan</span> │ <span style=\"color: #008000; text-decoration-color: #008000\">unknown   </span> │ <span style=\"color: #008000; text-decoration-color: #008000\">unknown   </span> │ <span style=\"color: #008000; text-decoration-color: #008000\">unknown  </span> │        <span style=\"color: #008080; text-decoration-color: #008080; font-weight: bold\">nan</span> │ <span style=\"color: #7f7f7f; text-decoration-color: #7f7f7f\">NULL</span>   │ <span style=\"color: #7f7f7f; text-decoration-color: #7f7f7f\">NULL</span>      │ <span style=\"color: #7f7f7f; text-decoration-color: #7f7f7f\">NULL</span>        │ <span style=\"color: #7f7f7f; text-decoration-color: #7f7f7f\">NULL</span>           │ <span style=\"color: #7f7f7f; text-decoration-color: #7f7f7f\">NULL</span>   │ <span style=\"color: #7f7f7f; text-decoration-color: #7f7f7f\">NULL</span>     │ <span style=\"color: #7f7f7f; text-decoration-color: #7f7f7f\">NULL</span>      │\n",
       "│ <span style=\"color: #008000; text-decoration-color: #008000\">Yoda                 </span> │     <span style=\"color: #008080; text-decoration-color: #008080; font-weight: bold\">66</span> │    <span style=\"color: #008080; text-decoration-color: #008080; font-weight: bold\">17.0</span> │ <span style=\"color: #008000; text-decoration-color: #008000\">white     </span> │ <span style=\"color: #008000; text-decoration-color: #008000\">green     </span> │ <span style=\"color: #008000; text-decoration-color: #008000\">brown    </span> │      <span style=\"color: #008080; text-decoration-color: #008080; font-weight: bold\">896.0</span> │ <span style=\"color: #008000; text-decoration-color: #008000\">male  </span> │ <span style=\"color: #008000; text-decoration-color: #008000\">masculine</span> │ <span style=\"color: #7f7f7f; text-decoration-color: #7f7f7f\">NULL</span>        │ <span style=\"color: #008000; text-decoration-color: #008000\">Yoda's species</span> │ <span style=\"color: #7f7f7f; text-decoration-color: #7f7f7f\">NULL</span>   │ <span style=\"color: #7f7f7f; text-decoration-color: #7f7f7f\">NULL</span>     │ <span style=\"color: #7f7f7f; text-decoration-color: #7f7f7f\">NULL</span>      │\n",
       "│ <span style=\"color: #008000; text-decoration-color: #008000\">Ratts Tyerell        </span> │     <span style=\"color: #008080; text-decoration-color: #008080; font-weight: bold\">79</span> │    <span style=\"color: #008080; text-decoration-color: #008080; font-weight: bold\">15.0</span> │ <span style=\"color: #008000; text-decoration-color: #008000\">none      </span> │ <span style=\"color: #008000; text-decoration-color: #008000\">grey, blue</span> │ <span style=\"color: #008000; text-decoration-color: #008000\">unknown  </span> │        <span style=\"color: #008080; text-decoration-color: #008080; font-weight: bold\">nan</span> │ <span style=\"color: #008000; text-decoration-color: #008000\">male  </span> │ <span style=\"color: #008000; text-decoration-color: #008000\">masculine</span> │ <span style=\"color: #008000; text-decoration-color: #008000\">Aleen Minor</span> │ <span style=\"color: #008000; text-decoration-color: #008000\">Aleena        </span> │ <span style=\"color: #7f7f7f; text-decoration-color: #7f7f7f\">NULL</span>   │ <span style=\"color: #7f7f7f; text-decoration-color: #7f7f7f\">NULL</span>     │ <span style=\"color: #7f7f7f; text-decoration-color: #7f7f7f\">NULL</span>      │\n",
       "│ <span style=\"color: #008000; text-decoration-color: #008000\">Wicket Systri Warrick</span> │     <span style=\"color: #008080; text-decoration-color: #008080; font-weight: bold\">88</span> │    <span style=\"color: #008080; text-decoration-color: #008080; font-weight: bold\">20.0</span> │ <span style=\"color: #008000; text-decoration-color: #008000\">brown     </span> │ <span style=\"color: #008000; text-decoration-color: #008000\">brown     </span> │ <span style=\"color: #008000; text-decoration-color: #008000\">brown    </span> │        <span style=\"color: #008080; text-decoration-color: #008080; font-weight: bold\">8.0</span> │ <span style=\"color: #008000; text-decoration-color: #008000\">male  </span> │ <span style=\"color: #008000; text-decoration-color: #008000\">masculine</span> │ <span style=\"color: #008000; text-decoration-color: #008000\">Endor      </span> │ <span style=\"color: #008000; text-decoration-color: #008000\">Ewok          </span> │ <span style=\"color: #7f7f7f; text-decoration-color: #7f7f7f\">NULL</span>   │ <span style=\"color: #7f7f7f; text-decoration-color: #7f7f7f\">NULL</span>     │ <span style=\"color: #7f7f7f; text-decoration-color: #7f7f7f\">NULL</span>      │\n",
       "│ <span style=\"color: #008000; text-decoration-color: #008000\">Dud Bolt             </span> │     <span style=\"color: #008080; text-decoration-color: #008080; font-weight: bold\">94</span> │    <span style=\"color: #008080; text-decoration-color: #008080; font-weight: bold\">45.0</span> │ <span style=\"color: #008000; text-decoration-color: #008000\">none      </span> │ <span style=\"color: #008000; text-decoration-color: #008000\">blue, grey</span> │ <span style=\"color: #008000; text-decoration-color: #008000\">yellow   </span> │        <span style=\"color: #008080; text-decoration-color: #008080; font-weight: bold\">nan</span> │ <span style=\"color: #008000; text-decoration-color: #008000\">male  </span> │ <span style=\"color: #008000; text-decoration-color: #008000\">masculine</span> │ <span style=\"color: #008000; text-decoration-color: #008000\">Vulpter    </span> │ <span style=\"color: #008000; text-decoration-color: #008000\">Vulptereen    </span> │ <span style=\"color: #7f7f7f; text-decoration-color: #7f7f7f\">NULL</span>   │ <span style=\"color: #7f7f7f; text-decoration-color: #7f7f7f\">NULL</span>     │ <span style=\"color: #7f7f7f; text-decoration-color: #7f7f7f\">NULL</span>      │\n",
       "│ <span style=\"color: #7f7f7f; text-decoration-color: #7f7f7f\">…</span>                     │      <span style=\"color: #7f7f7f; text-decoration-color: #7f7f7f\">…</span> │       <span style=\"color: #7f7f7f; text-decoration-color: #7f7f7f\">…</span> │ <span style=\"color: #7f7f7f; text-decoration-color: #7f7f7f\">…</span>          │ <span style=\"color: #7f7f7f; text-decoration-color: #7f7f7f\">…</span>          │ <span style=\"color: #7f7f7f; text-decoration-color: #7f7f7f\">…</span>         │          <span style=\"color: #7f7f7f; text-decoration-color: #7f7f7f\">…</span> │ <span style=\"color: #7f7f7f; text-decoration-color: #7f7f7f\">…</span>      │ <span style=\"color: #7f7f7f; text-decoration-color: #7f7f7f\">…</span>         │ <span style=\"color: #7f7f7f; text-decoration-color: #7f7f7f\">…</span>           │ <span style=\"color: #7f7f7f; text-decoration-color: #7f7f7f\">…</span>              │ <span style=\"color: #7f7f7f; text-decoration-color: #7f7f7f\">…</span>      │ <span style=\"color: #7f7f7f; text-decoration-color: #7f7f7f\">…</span>        │ <span style=\"color: #7f7f7f; text-decoration-color: #7f7f7f\">…</span>         │\n",
       "└───────────────────────┴────────┴─────────┴────────────┴────────────┴───────────┴────────────┴────────┴───────────┴─────────────┴────────────────┴────────┴──────────┴───────────┘\n",
       "</pre>\n"
      ],
      "text/plain": [
       "┏━━━━━━━━━━━━━━━━━━━━━━━┳━━━━━━━━┳━━━━━━━━━┳━━━━━━━━━━━━┳━━━━━━━━━━━━┳━━━━━━━━━━━┳━━━━━━━━━━━━┳━━━━━━━━┳━━━━━━━━━━━┳━━━━━━━━━━━━━┳━━━━━━━━━━━━━━━━┳━━━━━━━━┳━━━━━━━━━━┳━━━━━━━━━━━┓\n",
       "┃\u001b[1m \u001b[0m\u001b[1mname\u001b[0m\u001b[1m                 \u001b[0m\u001b[1m \u001b[0m┃\u001b[1m \u001b[0m\u001b[1mheight\u001b[0m\u001b[1m \u001b[0m┃\u001b[1m \u001b[0m\u001b[1mmass\u001b[0m\u001b[1m   \u001b[0m\u001b[1m \u001b[0m┃\u001b[1m \u001b[0m\u001b[1mhair_color\u001b[0m\u001b[1m \u001b[0m┃\u001b[1m \u001b[0m\u001b[1mskin_color\u001b[0m\u001b[1m \u001b[0m┃\u001b[1m \u001b[0m\u001b[1meye_color\u001b[0m\u001b[1m \u001b[0m┃\u001b[1m \u001b[0m\u001b[1mbirth_year\u001b[0m\u001b[1m \u001b[0m┃\u001b[1m \u001b[0m\u001b[1msex\u001b[0m\u001b[1m   \u001b[0m\u001b[1m \u001b[0m┃\u001b[1m \u001b[0m\u001b[1mgender\u001b[0m\u001b[1m   \u001b[0m\u001b[1m \u001b[0m┃\u001b[1m \u001b[0m\u001b[1mhomeworld\u001b[0m\u001b[1m  \u001b[0m\u001b[1m \u001b[0m┃\u001b[1m \u001b[0m\u001b[1mspecies\u001b[0m\u001b[1m       \u001b[0m\u001b[1m \u001b[0m┃\u001b[1m \u001b[0m\u001b[1mfilms\u001b[0m\u001b[1m \u001b[0m\u001b[1m \u001b[0m┃\u001b[1m \u001b[0m\u001b[1mvehicles\u001b[0m\u001b[1m \u001b[0m┃\u001b[1m \u001b[0m\u001b[1mstarships\u001b[0m\u001b[1m \u001b[0m┃\n",
       "┡━━━━━━━━━━━━━━━━━━━━━━━╇━━━━━━━━╇━━━━━━━━━╇━━━━━━━━━━━━╇━━━━━━━━━━━━╇━━━━━━━━━━━╇━━━━━━━━━━━━╇━━━━━━━━╇━━━━━━━━━━━╇━━━━━━━━━━━━━╇━━━━━━━━━━━━━━━━╇━━━━━━━━╇━━━━━━━━━━╇━━━━━━━━━━━┩\n",
       "│ \u001b[2mstring\u001b[0m                │ \u001b[2mint64\u001b[0m  │ \u001b[2mfloat64\u001b[0m │ \u001b[2mstring\u001b[0m     │ \u001b[2mstring\u001b[0m     │ \u001b[2mstring\u001b[0m    │ \u001b[2mfloat64\u001b[0m    │ \u001b[2mstring\u001b[0m │ \u001b[2mstring\u001b[0m    │ \u001b[2mstring\u001b[0m      │ \u001b[2mstring\u001b[0m         │ \u001b[2mstring\u001b[0m │ \u001b[2mstring\u001b[0m   │ \u001b[2mstring\u001b[0m    │\n",
       "├───────────────────────┼────────┼─────────┼────────────┼────────────┼───────────┼────────────┼────────┼───────────┼─────────────┼────────────────┼────────┼──────────┼───────────┤\n",
       "│ \u001b[32mArvel Crynyd         \u001b[0m │   \u001b[2mNULL\u001b[0m │     \u001b[1;36mnan\u001b[0m │ \u001b[32mbrown     \u001b[0m │ \u001b[32mfair      \u001b[0m │ \u001b[32mbrown    \u001b[0m │        \u001b[1;36mnan\u001b[0m │ \u001b[32mmale  \u001b[0m │ \u001b[32mmasculine\u001b[0m │ \u001b[2mNULL\u001b[0m        │ \u001b[32mHuman         \u001b[0m │ \u001b[2mNULL\u001b[0m   │ \u001b[2mNULL\u001b[0m     │ \u001b[2mNULL\u001b[0m      │\n",
       "│ \u001b[32mFinn                 \u001b[0m │   \u001b[2mNULL\u001b[0m │     \u001b[1;36mnan\u001b[0m │ \u001b[32mblack     \u001b[0m │ \u001b[32mdark      \u001b[0m │ \u001b[32mdark     \u001b[0m │        \u001b[1;36mnan\u001b[0m │ \u001b[32mmale  \u001b[0m │ \u001b[32mmasculine\u001b[0m │ \u001b[2mNULL\u001b[0m        │ \u001b[32mHuman         \u001b[0m │ \u001b[2mNULL\u001b[0m   │ \u001b[2mNULL\u001b[0m     │ \u001b[2mNULL\u001b[0m      │\n",
       "│ \u001b[32mRey                  \u001b[0m │   \u001b[2mNULL\u001b[0m │     \u001b[1;36mnan\u001b[0m │ \u001b[32mbrown     \u001b[0m │ \u001b[32mlight     \u001b[0m │ \u001b[32mhazel    \u001b[0m │        \u001b[1;36mnan\u001b[0m │ \u001b[32mfemale\u001b[0m │ \u001b[32mfeminine \u001b[0m │ \u001b[2mNULL\u001b[0m        │ \u001b[32mHuman         \u001b[0m │ \u001b[2mNULL\u001b[0m   │ \u001b[2mNULL\u001b[0m     │ \u001b[2mNULL\u001b[0m      │\n",
       "│ \u001b[32mPoe Dameron          \u001b[0m │   \u001b[2mNULL\u001b[0m │     \u001b[1;36mnan\u001b[0m │ \u001b[32mbrown     \u001b[0m │ \u001b[32mlight     \u001b[0m │ \u001b[32mbrown    \u001b[0m │        \u001b[1;36mnan\u001b[0m │ \u001b[32mmale  \u001b[0m │ \u001b[32mmasculine\u001b[0m │ \u001b[2mNULL\u001b[0m        │ \u001b[32mHuman         \u001b[0m │ \u001b[2mNULL\u001b[0m   │ \u001b[2mNULL\u001b[0m     │ \u001b[2mNULL\u001b[0m      │\n",
       "│ \u001b[32mBB8                  \u001b[0m │   \u001b[2mNULL\u001b[0m │     \u001b[1;36mnan\u001b[0m │ \u001b[32mnone      \u001b[0m │ \u001b[32mnone      \u001b[0m │ \u001b[32mblack    \u001b[0m │        \u001b[1;36mnan\u001b[0m │ \u001b[32mnone  \u001b[0m │ \u001b[32mmasculine\u001b[0m │ \u001b[2mNULL\u001b[0m        │ \u001b[32mDroid         \u001b[0m │ \u001b[2mNULL\u001b[0m   │ \u001b[2mNULL\u001b[0m     │ \u001b[2mNULL\u001b[0m      │\n",
       "│ \u001b[32mCaptain Phasma       \u001b[0m │   \u001b[2mNULL\u001b[0m │     \u001b[1;36mnan\u001b[0m │ \u001b[32munknown   \u001b[0m │ \u001b[32munknown   \u001b[0m │ \u001b[32munknown  \u001b[0m │        \u001b[1;36mnan\u001b[0m │ \u001b[2mNULL\u001b[0m   │ \u001b[2mNULL\u001b[0m      │ \u001b[2mNULL\u001b[0m        │ \u001b[2mNULL\u001b[0m           │ \u001b[2mNULL\u001b[0m   │ \u001b[2mNULL\u001b[0m     │ \u001b[2mNULL\u001b[0m      │\n",
       "│ \u001b[32mYoda                 \u001b[0m │     \u001b[1;36m66\u001b[0m │    \u001b[1;36m17.0\u001b[0m │ \u001b[32mwhite     \u001b[0m │ \u001b[32mgreen     \u001b[0m │ \u001b[32mbrown    \u001b[0m │      \u001b[1;36m896.0\u001b[0m │ \u001b[32mmale  \u001b[0m │ \u001b[32mmasculine\u001b[0m │ \u001b[2mNULL\u001b[0m        │ \u001b[32mYoda's species\u001b[0m │ \u001b[2mNULL\u001b[0m   │ \u001b[2mNULL\u001b[0m     │ \u001b[2mNULL\u001b[0m      │\n",
       "│ \u001b[32mRatts Tyerell        \u001b[0m │     \u001b[1;36m79\u001b[0m │    \u001b[1;36m15.0\u001b[0m │ \u001b[32mnone      \u001b[0m │ \u001b[32mgrey, blue\u001b[0m │ \u001b[32munknown  \u001b[0m │        \u001b[1;36mnan\u001b[0m │ \u001b[32mmale  \u001b[0m │ \u001b[32mmasculine\u001b[0m │ \u001b[32mAleen Minor\u001b[0m │ \u001b[32mAleena        \u001b[0m │ \u001b[2mNULL\u001b[0m   │ \u001b[2mNULL\u001b[0m     │ \u001b[2mNULL\u001b[0m      │\n",
       "│ \u001b[32mWicket Systri Warrick\u001b[0m │     \u001b[1;36m88\u001b[0m │    \u001b[1;36m20.0\u001b[0m │ \u001b[32mbrown     \u001b[0m │ \u001b[32mbrown     \u001b[0m │ \u001b[32mbrown    \u001b[0m │        \u001b[1;36m8.0\u001b[0m │ \u001b[32mmale  \u001b[0m │ \u001b[32mmasculine\u001b[0m │ \u001b[32mEndor      \u001b[0m │ \u001b[32mEwok          \u001b[0m │ \u001b[2mNULL\u001b[0m   │ \u001b[2mNULL\u001b[0m     │ \u001b[2mNULL\u001b[0m      │\n",
       "│ \u001b[32mDud Bolt             \u001b[0m │     \u001b[1;36m94\u001b[0m │    \u001b[1;36m45.0\u001b[0m │ \u001b[32mnone      \u001b[0m │ \u001b[32mblue, grey\u001b[0m │ \u001b[32myellow   \u001b[0m │        \u001b[1;36mnan\u001b[0m │ \u001b[32mmale  \u001b[0m │ \u001b[32mmasculine\u001b[0m │ \u001b[32mVulpter    \u001b[0m │ \u001b[32mVulptereen    \u001b[0m │ \u001b[2mNULL\u001b[0m   │ \u001b[2mNULL\u001b[0m     │ \u001b[2mNULL\u001b[0m      │\n",
       "│ \u001b[2m…\u001b[0m                     │      \u001b[2m…\u001b[0m │       \u001b[2m…\u001b[0m │ \u001b[2m…\u001b[0m          │ \u001b[2m…\u001b[0m          │ \u001b[2m…\u001b[0m         │          \u001b[2m…\u001b[0m │ \u001b[2m…\u001b[0m      │ \u001b[2m…\u001b[0m         │ \u001b[2m…\u001b[0m           │ \u001b[2m…\u001b[0m              │ \u001b[2m…\u001b[0m      │ \u001b[2m…\u001b[0m        │ \u001b[2m…\u001b[0m         │\n",
       "└───────────────────────┴────────┴─────────┴────────────┴────────────┴───────────┴────────────┴────────┴───────────┴─────────────┴────────────────┴────────┴──────────┴───────────┘"
      ]
     },
     "execution_count": 51,
     "metadata": {},
     "output_type": "execute_result"
    }
   ],
   "source": [
    "starwars.order_by([_.height, _.mass]) # or starwars.order_by([\"heigh\", \"mass\"])"
   ]
  },
  {
   "attachments": {},
   "cell_type": "markdown",
   "metadata": {},
   "source": [
    "To order a column in descending order, there are two ways to do it. Note that missing values remain at the top."
   ]
  },
  {
   "cell_type": "code",
   "execution_count": 11,
   "metadata": {},
   "outputs": [
    {
     "data": {
      "text/html": [
       "<pre style=\"white-space:pre;overflow-x:auto;line-height:normal;font-family:Menlo,'DejaVu Sans Mono',consolas,'Courier New',monospace\">┏━━━━━━━━━━━━━━━━┳━━━━━━━━┳━━━━━━━━━┳━━━━━━━━━━━━┳━━━━━━━━━━━━┳━━━━━━━━━━━┳━━━━━━━━━━━━┳━━━━━━━━┳━━━━━━━━━━━┳━━━━━━━━━━━┳━━━━━━━━━━┳━━━━━━━━┳━━━━━━━━━━┳━━━━━━━━━━━┓\n",
       "┃<span style=\"font-weight: bold\"> name           </span>┃<span style=\"font-weight: bold\"> height </span>┃<span style=\"font-weight: bold\"> mass    </span>┃<span style=\"font-weight: bold\"> hair_color </span>┃<span style=\"font-weight: bold\"> skin_color </span>┃<span style=\"font-weight: bold\"> eye_color </span>┃<span style=\"font-weight: bold\"> birth_year </span>┃<span style=\"font-weight: bold\"> sex    </span>┃<span style=\"font-weight: bold\"> gender    </span>┃<span style=\"font-weight: bold\"> homeworld </span>┃<span style=\"font-weight: bold\"> species  </span>┃<span style=\"font-weight: bold\"> films  </span>┃<span style=\"font-weight: bold\"> vehicles </span>┃<span style=\"font-weight: bold\"> starships </span>┃\n",
       "┡━━━━━━━━━━━━━━━━╇━━━━━━━━╇━━━━━━━━━╇━━━━━━━━━━━━╇━━━━━━━━━━━━╇━━━━━━━━━━━╇━━━━━━━━━━━━╇━━━━━━━━╇━━━━━━━━━━━╇━━━━━━━━━━━╇━━━━━━━━━━╇━━━━━━━━╇━━━━━━━━━━╇━━━━━━━━━━━┩\n",
       "│ <span style=\"color: #7f7f7f; text-decoration-color: #7f7f7f\">string</span>         │ <span style=\"color: #7f7f7f; text-decoration-color: #7f7f7f\">int64</span>  │ <span style=\"color: #7f7f7f; text-decoration-color: #7f7f7f\">float64</span> │ <span style=\"color: #7f7f7f; text-decoration-color: #7f7f7f\">string</span>     │ <span style=\"color: #7f7f7f; text-decoration-color: #7f7f7f\">string</span>     │ <span style=\"color: #7f7f7f; text-decoration-color: #7f7f7f\">string</span>    │ <span style=\"color: #7f7f7f; text-decoration-color: #7f7f7f\">float64</span>    │ <span style=\"color: #7f7f7f; text-decoration-color: #7f7f7f\">string</span> │ <span style=\"color: #7f7f7f; text-decoration-color: #7f7f7f\">string</span>    │ <span style=\"color: #7f7f7f; text-decoration-color: #7f7f7f\">string</span>    │ <span style=\"color: #7f7f7f; text-decoration-color: #7f7f7f\">string</span>   │ <span style=\"color: #7f7f7f; text-decoration-color: #7f7f7f\">string</span> │ <span style=\"color: #7f7f7f; text-decoration-color: #7f7f7f\">string</span>   │ <span style=\"color: #7f7f7f; text-decoration-color: #7f7f7f\">string</span>    │\n",
       "├────────────────┼────────┼─────────┼────────────┼────────────┼───────────┼────────────┼────────┼───────────┼───────────┼──────────┼────────┼──────────┼───────────┤\n",
       "│ <span style=\"color: #008000; text-decoration-color: #008000\">Arvel Crynyd  </span> │   <span style=\"color: #7f7f7f; text-decoration-color: #7f7f7f\">NULL</span> │     <span style=\"color: #008080; text-decoration-color: #008080; font-weight: bold\">nan</span> │ <span style=\"color: #008000; text-decoration-color: #008000\">brown     </span> │ <span style=\"color: #008000; text-decoration-color: #008000\">fair      </span> │ <span style=\"color: #008000; text-decoration-color: #008000\">brown    </span> │        <span style=\"color: #008080; text-decoration-color: #008080; font-weight: bold\">nan</span> │ <span style=\"color: #008000; text-decoration-color: #008000\">male  </span> │ <span style=\"color: #008000; text-decoration-color: #008000\">masculine</span> │ <span style=\"color: #7f7f7f; text-decoration-color: #7f7f7f\">NULL</span>      │ <span style=\"color: #008000; text-decoration-color: #008000\">Human   </span> │ <span style=\"color: #7f7f7f; text-decoration-color: #7f7f7f\">NULL</span>   │ <span style=\"color: #7f7f7f; text-decoration-color: #7f7f7f\">NULL</span>     │ <span style=\"color: #7f7f7f; text-decoration-color: #7f7f7f\">NULL</span>      │\n",
       "│ <span style=\"color: #008000; text-decoration-color: #008000\">Finn          </span> │   <span style=\"color: #7f7f7f; text-decoration-color: #7f7f7f\">NULL</span> │     <span style=\"color: #008080; text-decoration-color: #008080; font-weight: bold\">nan</span> │ <span style=\"color: #008000; text-decoration-color: #008000\">black     </span> │ <span style=\"color: #008000; text-decoration-color: #008000\">dark      </span> │ <span style=\"color: #008000; text-decoration-color: #008000\">dark     </span> │        <span style=\"color: #008080; text-decoration-color: #008080; font-weight: bold\">nan</span> │ <span style=\"color: #008000; text-decoration-color: #008000\">male  </span> │ <span style=\"color: #008000; text-decoration-color: #008000\">masculine</span> │ <span style=\"color: #7f7f7f; text-decoration-color: #7f7f7f\">NULL</span>      │ <span style=\"color: #008000; text-decoration-color: #008000\">Human   </span> │ <span style=\"color: #7f7f7f; text-decoration-color: #7f7f7f\">NULL</span>   │ <span style=\"color: #7f7f7f; text-decoration-color: #7f7f7f\">NULL</span>     │ <span style=\"color: #7f7f7f; text-decoration-color: #7f7f7f\">NULL</span>      │\n",
       "│ <span style=\"color: #008000; text-decoration-color: #008000\">Rey           </span> │   <span style=\"color: #7f7f7f; text-decoration-color: #7f7f7f\">NULL</span> │     <span style=\"color: #008080; text-decoration-color: #008080; font-weight: bold\">nan</span> │ <span style=\"color: #008000; text-decoration-color: #008000\">brown     </span> │ <span style=\"color: #008000; text-decoration-color: #008000\">light     </span> │ <span style=\"color: #008000; text-decoration-color: #008000\">hazel    </span> │        <span style=\"color: #008080; text-decoration-color: #008080; font-weight: bold\">nan</span> │ <span style=\"color: #008000; text-decoration-color: #008000\">female</span> │ <span style=\"color: #008000; text-decoration-color: #008000\">feminine </span> │ <span style=\"color: #7f7f7f; text-decoration-color: #7f7f7f\">NULL</span>      │ <span style=\"color: #008000; text-decoration-color: #008000\">Human   </span> │ <span style=\"color: #7f7f7f; text-decoration-color: #7f7f7f\">NULL</span>   │ <span style=\"color: #7f7f7f; text-decoration-color: #7f7f7f\">NULL</span>     │ <span style=\"color: #7f7f7f; text-decoration-color: #7f7f7f\">NULL</span>      │\n",
       "│ <span style=\"color: #008000; text-decoration-color: #008000\">Poe Dameron   </span> │   <span style=\"color: #7f7f7f; text-decoration-color: #7f7f7f\">NULL</span> │     <span style=\"color: #008080; text-decoration-color: #008080; font-weight: bold\">nan</span> │ <span style=\"color: #008000; text-decoration-color: #008000\">brown     </span> │ <span style=\"color: #008000; text-decoration-color: #008000\">light     </span> │ <span style=\"color: #008000; text-decoration-color: #008000\">brown    </span> │        <span style=\"color: #008080; text-decoration-color: #008080; font-weight: bold\">nan</span> │ <span style=\"color: #008000; text-decoration-color: #008000\">male  </span> │ <span style=\"color: #008000; text-decoration-color: #008000\">masculine</span> │ <span style=\"color: #7f7f7f; text-decoration-color: #7f7f7f\">NULL</span>      │ <span style=\"color: #008000; text-decoration-color: #008000\">Human   </span> │ <span style=\"color: #7f7f7f; text-decoration-color: #7f7f7f\">NULL</span>   │ <span style=\"color: #7f7f7f; text-decoration-color: #7f7f7f\">NULL</span>     │ <span style=\"color: #7f7f7f; text-decoration-color: #7f7f7f\">NULL</span>      │\n",
       "│ <span style=\"color: #008000; text-decoration-color: #008000\">BB8           </span> │   <span style=\"color: #7f7f7f; text-decoration-color: #7f7f7f\">NULL</span> │     <span style=\"color: #008080; text-decoration-color: #008080; font-weight: bold\">nan</span> │ <span style=\"color: #008000; text-decoration-color: #008000\">none      </span> │ <span style=\"color: #008000; text-decoration-color: #008000\">none      </span> │ <span style=\"color: #008000; text-decoration-color: #008000\">black    </span> │        <span style=\"color: #008080; text-decoration-color: #008080; font-weight: bold\">nan</span> │ <span style=\"color: #008000; text-decoration-color: #008000\">none  </span> │ <span style=\"color: #008000; text-decoration-color: #008000\">masculine</span> │ <span style=\"color: #7f7f7f; text-decoration-color: #7f7f7f\">NULL</span>      │ <span style=\"color: #008000; text-decoration-color: #008000\">Droid   </span> │ <span style=\"color: #7f7f7f; text-decoration-color: #7f7f7f\">NULL</span>   │ <span style=\"color: #7f7f7f; text-decoration-color: #7f7f7f\">NULL</span>     │ <span style=\"color: #7f7f7f; text-decoration-color: #7f7f7f\">NULL</span>      │\n",
       "│ <span style=\"color: #008000; text-decoration-color: #008000\">Captain Phasma</span> │   <span style=\"color: #7f7f7f; text-decoration-color: #7f7f7f\">NULL</span> │     <span style=\"color: #008080; text-decoration-color: #008080; font-weight: bold\">nan</span> │ <span style=\"color: #008000; text-decoration-color: #008000\">unknown   </span> │ <span style=\"color: #008000; text-decoration-color: #008000\">unknown   </span> │ <span style=\"color: #008000; text-decoration-color: #008000\">unknown  </span> │        <span style=\"color: #008080; text-decoration-color: #008080; font-weight: bold\">nan</span> │ <span style=\"color: #7f7f7f; text-decoration-color: #7f7f7f\">NULL</span>   │ <span style=\"color: #7f7f7f; text-decoration-color: #7f7f7f\">NULL</span>      │ <span style=\"color: #7f7f7f; text-decoration-color: #7f7f7f\">NULL</span>      │ <span style=\"color: #7f7f7f; text-decoration-color: #7f7f7f\">NULL</span>     │ <span style=\"color: #7f7f7f; text-decoration-color: #7f7f7f\">NULL</span>   │ <span style=\"color: #7f7f7f; text-decoration-color: #7f7f7f\">NULL</span>     │ <span style=\"color: #7f7f7f; text-decoration-color: #7f7f7f\">NULL</span>      │\n",
       "│ <span style=\"color: #008000; text-decoration-color: #008000\">Yarael Poof   </span> │    <span style=\"color: #008080; text-decoration-color: #008080; font-weight: bold\">264</span> │     <span style=\"color: #008080; text-decoration-color: #008080; font-weight: bold\">nan</span> │ <span style=\"color: #008000; text-decoration-color: #008000\">none      </span> │ <span style=\"color: #008000; text-decoration-color: #008000\">white     </span> │ <span style=\"color: #008000; text-decoration-color: #008000\">yellow   </span> │        <span style=\"color: #008080; text-decoration-color: #008080; font-weight: bold\">nan</span> │ <span style=\"color: #008000; text-decoration-color: #008000\">male  </span> │ <span style=\"color: #008000; text-decoration-color: #008000\">masculine</span> │ <span style=\"color: #008000; text-decoration-color: #008000\">Quermia  </span> │ <span style=\"color: #008000; text-decoration-color: #008000\">Quermian</span> │ <span style=\"color: #7f7f7f; text-decoration-color: #7f7f7f\">NULL</span>   │ <span style=\"color: #7f7f7f; text-decoration-color: #7f7f7f\">NULL</span>     │ <span style=\"color: #7f7f7f; text-decoration-color: #7f7f7f\">NULL</span>      │\n",
       "│ <span style=\"color: #008000; text-decoration-color: #008000\">Tarfful       </span> │    <span style=\"color: #008080; text-decoration-color: #008080; font-weight: bold\">234</span> │   <span style=\"color: #008080; text-decoration-color: #008080; font-weight: bold\">136.0</span> │ <span style=\"color: #008000; text-decoration-color: #008000\">brown     </span> │ <span style=\"color: #008000; text-decoration-color: #008000\">brown     </span> │ <span style=\"color: #008000; text-decoration-color: #008000\">blue     </span> │        <span style=\"color: #008080; text-decoration-color: #008080; font-weight: bold\">nan</span> │ <span style=\"color: #008000; text-decoration-color: #008000\">male  </span> │ <span style=\"color: #008000; text-decoration-color: #008000\">masculine</span> │ <span style=\"color: #008000; text-decoration-color: #008000\">Kashyyyk </span> │ <span style=\"color: #008000; text-decoration-color: #008000\">Wookiee </span> │ <span style=\"color: #7f7f7f; text-decoration-color: #7f7f7f\">NULL</span>   │ <span style=\"color: #7f7f7f; text-decoration-color: #7f7f7f\">NULL</span>     │ <span style=\"color: #7f7f7f; text-decoration-color: #7f7f7f\">NULL</span>      │\n",
       "│ <span style=\"color: #008000; text-decoration-color: #008000\">Lama Su       </span> │    <span style=\"color: #008080; text-decoration-color: #008080; font-weight: bold\">229</span> │    <span style=\"color: #008080; text-decoration-color: #008080; font-weight: bold\">88.0</span> │ <span style=\"color: #008000; text-decoration-color: #008000\">none      </span> │ <span style=\"color: #008000; text-decoration-color: #008000\">grey      </span> │ <span style=\"color: #008000; text-decoration-color: #008000\">black    </span> │        <span style=\"color: #008080; text-decoration-color: #008080; font-weight: bold\">nan</span> │ <span style=\"color: #008000; text-decoration-color: #008000\">male  </span> │ <span style=\"color: #008000; text-decoration-color: #008000\">masculine</span> │ <span style=\"color: #008000; text-decoration-color: #008000\">Kamino   </span> │ <span style=\"color: #008000; text-decoration-color: #008000\">Kaminoan</span> │ <span style=\"color: #7f7f7f; text-decoration-color: #7f7f7f\">NULL</span>   │ <span style=\"color: #7f7f7f; text-decoration-color: #7f7f7f\">NULL</span>     │ <span style=\"color: #7f7f7f; text-decoration-color: #7f7f7f\">NULL</span>      │\n",
       "│ <span style=\"color: #008000; text-decoration-color: #008000\">Chewbacca     </span> │    <span style=\"color: #008080; text-decoration-color: #008080; font-weight: bold\">228</span> │   <span style=\"color: #008080; text-decoration-color: #008080; font-weight: bold\">112.0</span> │ <span style=\"color: #008000; text-decoration-color: #008000\">brown     </span> │ <span style=\"color: #008000; text-decoration-color: #008000\">unknown   </span> │ <span style=\"color: #008000; text-decoration-color: #008000\">blue     </span> │      <span style=\"color: #008080; text-decoration-color: #008080; font-weight: bold\">200.0</span> │ <span style=\"color: #008000; text-decoration-color: #008000\">male  </span> │ <span style=\"color: #008000; text-decoration-color: #008000\">masculine</span> │ <span style=\"color: #008000; text-decoration-color: #008000\">Kashyyyk </span> │ <span style=\"color: #008000; text-decoration-color: #008000\">Wookiee </span> │ <span style=\"color: #7f7f7f; text-decoration-color: #7f7f7f\">NULL</span>   │ <span style=\"color: #7f7f7f; text-decoration-color: #7f7f7f\">NULL</span>     │ <span style=\"color: #7f7f7f; text-decoration-color: #7f7f7f\">NULL</span>      │\n",
       "│ <span style=\"color: #7f7f7f; text-decoration-color: #7f7f7f\">…</span>              │      <span style=\"color: #7f7f7f; text-decoration-color: #7f7f7f\">…</span> │       <span style=\"color: #7f7f7f; text-decoration-color: #7f7f7f\">…</span> │ <span style=\"color: #7f7f7f; text-decoration-color: #7f7f7f\">…</span>          │ <span style=\"color: #7f7f7f; text-decoration-color: #7f7f7f\">…</span>          │ <span style=\"color: #7f7f7f; text-decoration-color: #7f7f7f\">…</span>         │          <span style=\"color: #7f7f7f; text-decoration-color: #7f7f7f\">…</span> │ <span style=\"color: #7f7f7f; text-decoration-color: #7f7f7f\">…</span>      │ <span style=\"color: #7f7f7f; text-decoration-color: #7f7f7f\">…</span>         │ <span style=\"color: #7f7f7f; text-decoration-color: #7f7f7f\">…</span>         │ <span style=\"color: #7f7f7f; text-decoration-color: #7f7f7f\">…</span>        │ <span style=\"color: #7f7f7f; text-decoration-color: #7f7f7f\">…</span>      │ <span style=\"color: #7f7f7f; text-decoration-color: #7f7f7f\">…</span>        │ <span style=\"color: #7f7f7f; text-decoration-color: #7f7f7f\">…</span>         │\n",
       "└────────────────┴────────┴─────────┴────────────┴────────────┴───────────┴────────────┴────────┴───────────┴───────────┴──────────┴────────┴──────────┴───────────┘\n",
       "</pre>\n"
      ],
      "text/plain": [
       "┏━━━━━━━━━━━━━━━━┳━━━━━━━━┳━━━━━━━━━┳━━━━━━━━━━━━┳━━━━━━━━━━━━┳━━━━━━━━━━━┳━━━━━━━━━━━━┳━━━━━━━━┳━━━━━━━━━━━┳━━━━━━━━━━━┳━━━━━━━━━━┳━━━━━━━━┳━━━━━━━━━━┳━━━━━━━━━━━┓\n",
       "┃\u001b[1m \u001b[0m\u001b[1mname\u001b[0m\u001b[1m          \u001b[0m\u001b[1m \u001b[0m┃\u001b[1m \u001b[0m\u001b[1mheight\u001b[0m\u001b[1m \u001b[0m┃\u001b[1m \u001b[0m\u001b[1mmass\u001b[0m\u001b[1m   \u001b[0m\u001b[1m \u001b[0m┃\u001b[1m \u001b[0m\u001b[1mhair_color\u001b[0m\u001b[1m \u001b[0m┃\u001b[1m \u001b[0m\u001b[1mskin_color\u001b[0m\u001b[1m \u001b[0m┃\u001b[1m \u001b[0m\u001b[1meye_color\u001b[0m\u001b[1m \u001b[0m┃\u001b[1m \u001b[0m\u001b[1mbirth_year\u001b[0m\u001b[1m \u001b[0m┃\u001b[1m \u001b[0m\u001b[1msex\u001b[0m\u001b[1m   \u001b[0m\u001b[1m \u001b[0m┃\u001b[1m \u001b[0m\u001b[1mgender\u001b[0m\u001b[1m   \u001b[0m\u001b[1m \u001b[0m┃\u001b[1m \u001b[0m\u001b[1mhomeworld\u001b[0m\u001b[1m \u001b[0m┃\u001b[1m \u001b[0m\u001b[1mspecies\u001b[0m\u001b[1m \u001b[0m\u001b[1m \u001b[0m┃\u001b[1m \u001b[0m\u001b[1mfilms\u001b[0m\u001b[1m \u001b[0m\u001b[1m \u001b[0m┃\u001b[1m \u001b[0m\u001b[1mvehicles\u001b[0m\u001b[1m \u001b[0m┃\u001b[1m \u001b[0m\u001b[1mstarships\u001b[0m\u001b[1m \u001b[0m┃\n",
       "┡━━━━━━━━━━━━━━━━╇━━━━━━━━╇━━━━━━━━━╇━━━━━━━━━━━━╇━━━━━━━━━━━━╇━━━━━━━━━━━╇━━━━━━━━━━━━╇━━━━━━━━╇━━━━━━━━━━━╇━━━━━━━━━━━╇━━━━━━━━━━╇━━━━━━━━╇━━━━━━━━━━╇━━━━━━━━━━━┩\n",
       "│ \u001b[2mstring\u001b[0m         │ \u001b[2mint64\u001b[0m  │ \u001b[2mfloat64\u001b[0m │ \u001b[2mstring\u001b[0m     │ \u001b[2mstring\u001b[0m     │ \u001b[2mstring\u001b[0m    │ \u001b[2mfloat64\u001b[0m    │ \u001b[2mstring\u001b[0m │ \u001b[2mstring\u001b[0m    │ \u001b[2mstring\u001b[0m    │ \u001b[2mstring\u001b[0m   │ \u001b[2mstring\u001b[0m │ \u001b[2mstring\u001b[0m   │ \u001b[2mstring\u001b[0m    │\n",
       "├────────────────┼────────┼─────────┼────────────┼────────────┼───────────┼────────────┼────────┼───────────┼───────────┼──────────┼────────┼──────────┼───────────┤\n",
       "│ \u001b[32mArvel Crynyd  \u001b[0m │   \u001b[2mNULL\u001b[0m │     \u001b[1;36mnan\u001b[0m │ \u001b[32mbrown     \u001b[0m │ \u001b[32mfair      \u001b[0m │ \u001b[32mbrown    \u001b[0m │        \u001b[1;36mnan\u001b[0m │ \u001b[32mmale  \u001b[0m │ \u001b[32mmasculine\u001b[0m │ \u001b[2mNULL\u001b[0m      │ \u001b[32mHuman   \u001b[0m │ \u001b[2mNULL\u001b[0m   │ \u001b[2mNULL\u001b[0m     │ \u001b[2mNULL\u001b[0m      │\n",
       "│ \u001b[32mFinn          \u001b[0m │   \u001b[2mNULL\u001b[0m │     \u001b[1;36mnan\u001b[0m │ \u001b[32mblack     \u001b[0m │ \u001b[32mdark      \u001b[0m │ \u001b[32mdark     \u001b[0m │        \u001b[1;36mnan\u001b[0m │ \u001b[32mmale  \u001b[0m │ \u001b[32mmasculine\u001b[0m │ \u001b[2mNULL\u001b[0m      │ \u001b[32mHuman   \u001b[0m │ \u001b[2mNULL\u001b[0m   │ \u001b[2mNULL\u001b[0m     │ \u001b[2mNULL\u001b[0m      │\n",
       "│ \u001b[32mRey           \u001b[0m │   \u001b[2mNULL\u001b[0m │     \u001b[1;36mnan\u001b[0m │ \u001b[32mbrown     \u001b[0m │ \u001b[32mlight     \u001b[0m │ \u001b[32mhazel    \u001b[0m │        \u001b[1;36mnan\u001b[0m │ \u001b[32mfemale\u001b[0m │ \u001b[32mfeminine \u001b[0m │ \u001b[2mNULL\u001b[0m      │ \u001b[32mHuman   \u001b[0m │ \u001b[2mNULL\u001b[0m   │ \u001b[2mNULL\u001b[0m     │ \u001b[2mNULL\u001b[0m      │\n",
       "│ \u001b[32mPoe Dameron   \u001b[0m │   \u001b[2mNULL\u001b[0m │     \u001b[1;36mnan\u001b[0m │ \u001b[32mbrown     \u001b[0m │ \u001b[32mlight     \u001b[0m │ \u001b[32mbrown    \u001b[0m │        \u001b[1;36mnan\u001b[0m │ \u001b[32mmale  \u001b[0m │ \u001b[32mmasculine\u001b[0m │ \u001b[2mNULL\u001b[0m      │ \u001b[32mHuman   \u001b[0m │ \u001b[2mNULL\u001b[0m   │ \u001b[2mNULL\u001b[0m     │ \u001b[2mNULL\u001b[0m      │\n",
       "│ \u001b[32mBB8           \u001b[0m │   \u001b[2mNULL\u001b[0m │     \u001b[1;36mnan\u001b[0m │ \u001b[32mnone      \u001b[0m │ \u001b[32mnone      \u001b[0m │ \u001b[32mblack    \u001b[0m │        \u001b[1;36mnan\u001b[0m │ \u001b[32mnone  \u001b[0m │ \u001b[32mmasculine\u001b[0m │ \u001b[2mNULL\u001b[0m      │ \u001b[32mDroid   \u001b[0m │ \u001b[2mNULL\u001b[0m   │ \u001b[2mNULL\u001b[0m     │ \u001b[2mNULL\u001b[0m      │\n",
       "│ \u001b[32mCaptain Phasma\u001b[0m │   \u001b[2mNULL\u001b[0m │     \u001b[1;36mnan\u001b[0m │ \u001b[32munknown   \u001b[0m │ \u001b[32munknown   \u001b[0m │ \u001b[32munknown  \u001b[0m │        \u001b[1;36mnan\u001b[0m │ \u001b[2mNULL\u001b[0m   │ \u001b[2mNULL\u001b[0m      │ \u001b[2mNULL\u001b[0m      │ \u001b[2mNULL\u001b[0m     │ \u001b[2mNULL\u001b[0m   │ \u001b[2mNULL\u001b[0m     │ \u001b[2mNULL\u001b[0m      │\n",
       "│ \u001b[32mYarael Poof   \u001b[0m │    \u001b[1;36m264\u001b[0m │     \u001b[1;36mnan\u001b[0m │ \u001b[32mnone      \u001b[0m │ \u001b[32mwhite     \u001b[0m │ \u001b[32myellow   \u001b[0m │        \u001b[1;36mnan\u001b[0m │ \u001b[32mmale  \u001b[0m │ \u001b[32mmasculine\u001b[0m │ \u001b[32mQuermia  \u001b[0m │ \u001b[32mQuermian\u001b[0m │ \u001b[2mNULL\u001b[0m   │ \u001b[2mNULL\u001b[0m     │ \u001b[2mNULL\u001b[0m      │\n",
       "│ \u001b[32mTarfful       \u001b[0m │    \u001b[1;36m234\u001b[0m │   \u001b[1;36m136.0\u001b[0m │ \u001b[32mbrown     \u001b[0m │ \u001b[32mbrown     \u001b[0m │ \u001b[32mblue     \u001b[0m │        \u001b[1;36mnan\u001b[0m │ \u001b[32mmale  \u001b[0m │ \u001b[32mmasculine\u001b[0m │ \u001b[32mKashyyyk \u001b[0m │ \u001b[32mWookiee \u001b[0m │ \u001b[2mNULL\u001b[0m   │ \u001b[2mNULL\u001b[0m     │ \u001b[2mNULL\u001b[0m      │\n",
       "│ \u001b[32mLama Su       \u001b[0m │    \u001b[1;36m229\u001b[0m │    \u001b[1;36m88.0\u001b[0m │ \u001b[32mnone      \u001b[0m │ \u001b[32mgrey      \u001b[0m │ \u001b[32mblack    \u001b[0m │        \u001b[1;36mnan\u001b[0m │ \u001b[32mmale  \u001b[0m │ \u001b[32mmasculine\u001b[0m │ \u001b[32mKamino   \u001b[0m │ \u001b[32mKaminoan\u001b[0m │ \u001b[2mNULL\u001b[0m   │ \u001b[2mNULL\u001b[0m     │ \u001b[2mNULL\u001b[0m      │\n",
       "│ \u001b[32mChewbacca     \u001b[0m │    \u001b[1;36m228\u001b[0m │   \u001b[1;36m112.0\u001b[0m │ \u001b[32mbrown     \u001b[0m │ \u001b[32munknown   \u001b[0m │ \u001b[32mblue     \u001b[0m │      \u001b[1;36m200.0\u001b[0m │ \u001b[32mmale  \u001b[0m │ \u001b[32mmasculine\u001b[0m │ \u001b[32mKashyyyk \u001b[0m │ \u001b[32mWookiee \u001b[0m │ \u001b[2mNULL\u001b[0m   │ \u001b[2mNULL\u001b[0m     │ \u001b[2mNULL\u001b[0m      │\n",
       "│ \u001b[2m…\u001b[0m              │      \u001b[2m…\u001b[0m │       \u001b[2m…\u001b[0m │ \u001b[2m…\u001b[0m          │ \u001b[2m…\u001b[0m          │ \u001b[2m…\u001b[0m         │          \u001b[2m…\u001b[0m │ \u001b[2m…\u001b[0m      │ \u001b[2m…\u001b[0m         │ \u001b[2m…\u001b[0m         │ \u001b[2m…\u001b[0m        │ \u001b[2m…\u001b[0m      │ \u001b[2m…\u001b[0m        │ \u001b[2m…\u001b[0m         │\n",
       "└────────────────┴────────┴─────────┴────────────┴────────────┴───────────┴────────────┴────────┴───────────┴───────────┴──────────┴────────┴──────────┴───────────┘"
      ]
     },
     "execution_count": 11,
     "metadata": {},
     "output_type": "execute_result"
    }
   ],
   "source": [
    "starwars.order_by(_.height.desc()) # or: starwars.order_by(ibis.desc(\"height\"))"
   ]
  },
  {
   "attachments": {},
   "cell_type": "markdown",
   "metadata": {},
   "source": [
    "### Selecting columns with select()"
   ]
  },
  {
   "attachments": {},
   "cell_type": "markdown",
   "metadata": {},
   "source": [
    "Ibis, like dplyr, has a `select` method to include or exclude columns:\n",
    "\n",
    "With dplyr:\n",
    "\n",
    "```r\n",
    "starwars |> \n",
    "    select(hair_color)\n",
    "```\n",
    "\n",
    "In Ibis:"
   ]
  },
  {
   "cell_type": "code",
   "execution_count": 12,
   "metadata": {},
   "outputs": [
    {
     "data": {
      "text/html": [
       "<pre style=\"white-space:pre;overflow-x:auto;line-height:normal;font-family:Menlo,'DejaVu Sans Mono',consolas,'Courier New',monospace\">┏━━━━━━━━━━━━━━━┓\n",
       "┃<span style=\"font-weight: bold\"> hair_color    </span>┃\n",
       "┡━━━━━━━━━━━━━━━┩\n",
       "│ <span style=\"color: #7f7f7f; text-decoration-color: #7f7f7f\">string</span>        │\n",
       "├───────────────┤\n",
       "│ <span style=\"color: #008000; text-decoration-color: #008000\">blond        </span> │\n",
       "│ <span style=\"color: #7f7f7f; text-decoration-color: #7f7f7f\">NULL</span>          │\n",
       "│ <span style=\"color: #7f7f7f; text-decoration-color: #7f7f7f\">NULL</span>          │\n",
       "│ <span style=\"color: #008000; text-decoration-color: #008000\">none         </span> │\n",
       "│ <span style=\"color: #008000; text-decoration-color: #008000\">brown        </span> │\n",
       "│ <span style=\"color: #008000; text-decoration-color: #008000\">brown, grey  </span> │\n",
       "│ <span style=\"color: #008000; text-decoration-color: #008000\">brown        </span> │\n",
       "│ <span style=\"color: #7f7f7f; text-decoration-color: #7f7f7f\">NULL</span>          │\n",
       "│ <span style=\"color: #008000; text-decoration-color: #008000\">black        </span> │\n",
       "│ <span style=\"color: #008000; text-decoration-color: #008000\">auburn, white</span> │\n",
       "│ <span style=\"color: #7f7f7f; text-decoration-color: #7f7f7f\">…</span>             │\n",
       "└───────────────┘\n",
       "</pre>\n"
      ],
      "text/plain": [
       "┏━━━━━━━━━━━━━━━┓\n",
       "┃\u001b[1m \u001b[0m\u001b[1mhair_color\u001b[0m\u001b[1m   \u001b[0m\u001b[1m \u001b[0m┃\n",
       "┡━━━━━━━━━━━━━━━┩\n",
       "│ \u001b[2mstring\u001b[0m        │\n",
       "├───────────────┤\n",
       "│ \u001b[32mblond        \u001b[0m │\n",
       "│ \u001b[2mNULL\u001b[0m          │\n",
       "│ \u001b[2mNULL\u001b[0m          │\n",
       "│ \u001b[32mnone         \u001b[0m │\n",
       "│ \u001b[32mbrown        \u001b[0m │\n",
       "│ \u001b[32mbrown, grey  \u001b[0m │\n",
       "│ \u001b[32mbrown        \u001b[0m │\n",
       "│ \u001b[2mNULL\u001b[0m          │\n",
       "│ \u001b[32mblack        \u001b[0m │\n",
       "│ \u001b[32mauburn, white\u001b[0m │\n",
       "│ \u001b[2m…\u001b[0m             │\n",
       "└───────────────┘"
      ]
     },
     "execution_count": 12,
     "metadata": {},
     "output_type": "execute_result"
    }
   ],
   "source": [
    "starwars.select(_.hair_color)"
   ]
  },
  {
   "attachments": {},
   "cell_type": "markdown",
   "metadata": {},
   "source": [
    "dplyr also allows selecting more than one column at a time:\n",
    "\n",
    "```r\n",
    "starwars |>\n",
    "    select(hair_color, skin_color, eye_color)\n",
    "```\n",
    "\n",
    "In Ibis, you can pass a list of column names:"
   ]
  },
  {
   "cell_type": "code",
   "execution_count": 13,
   "metadata": {},
   "outputs": [
    {
     "data": {
      "text/html": [
       "<pre style=\"white-space:pre;overflow-x:auto;line-height:normal;font-family:Menlo,'DejaVu Sans Mono',consolas,'Courier New',monospace\">┏━━━━━━━━━━━━━━━┳━━━━━━━━━━━━━┳━━━━━━━━━━━┓\n",
       "┃<span style=\"font-weight: bold\"> hair_color    </span>┃<span style=\"font-weight: bold\"> skin_color  </span>┃<span style=\"font-weight: bold\"> eye_color </span>┃\n",
       "┡━━━━━━━━━━━━━━━╇━━━━━━━━━━━━━╇━━━━━━━━━━━┩\n",
       "│ <span style=\"color: #7f7f7f; text-decoration-color: #7f7f7f\">string</span>        │ <span style=\"color: #7f7f7f; text-decoration-color: #7f7f7f\">string</span>      │ <span style=\"color: #7f7f7f; text-decoration-color: #7f7f7f\">string</span>    │\n",
       "├───────────────┼─────────────┼───────────┤\n",
       "│ <span style=\"color: #008000; text-decoration-color: #008000\">blond        </span> │ <span style=\"color: #008000; text-decoration-color: #008000\">fair       </span> │ <span style=\"color: #008000; text-decoration-color: #008000\">blue     </span> │\n",
       "│ <span style=\"color: #7f7f7f; text-decoration-color: #7f7f7f\">NULL</span>          │ <span style=\"color: #008000; text-decoration-color: #008000\">gold       </span> │ <span style=\"color: #008000; text-decoration-color: #008000\">yellow   </span> │\n",
       "│ <span style=\"color: #7f7f7f; text-decoration-color: #7f7f7f\">NULL</span>          │ <span style=\"color: #008000; text-decoration-color: #008000\">white, blue</span> │ <span style=\"color: #008000; text-decoration-color: #008000\">red      </span> │\n",
       "│ <span style=\"color: #008000; text-decoration-color: #008000\">none         </span> │ <span style=\"color: #008000; text-decoration-color: #008000\">white      </span> │ <span style=\"color: #008000; text-decoration-color: #008000\">yellow   </span> │\n",
       "│ <span style=\"color: #008000; text-decoration-color: #008000\">brown        </span> │ <span style=\"color: #008000; text-decoration-color: #008000\">light      </span> │ <span style=\"color: #008000; text-decoration-color: #008000\">brown    </span> │\n",
       "│ <span style=\"color: #008000; text-decoration-color: #008000\">brown, grey  </span> │ <span style=\"color: #008000; text-decoration-color: #008000\">light      </span> │ <span style=\"color: #008000; text-decoration-color: #008000\">blue     </span> │\n",
       "│ <span style=\"color: #008000; text-decoration-color: #008000\">brown        </span> │ <span style=\"color: #008000; text-decoration-color: #008000\">light      </span> │ <span style=\"color: #008000; text-decoration-color: #008000\">blue     </span> │\n",
       "│ <span style=\"color: #7f7f7f; text-decoration-color: #7f7f7f\">NULL</span>          │ <span style=\"color: #008000; text-decoration-color: #008000\">white, red </span> │ <span style=\"color: #008000; text-decoration-color: #008000\">red      </span> │\n",
       "│ <span style=\"color: #008000; text-decoration-color: #008000\">black        </span> │ <span style=\"color: #008000; text-decoration-color: #008000\">light      </span> │ <span style=\"color: #008000; text-decoration-color: #008000\">brown    </span> │\n",
       "│ <span style=\"color: #008000; text-decoration-color: #008000\">auburn, white</span> │ <span style=\"color: #008000; text-decoration-color: #008000\">fair       </span> │ <span style=\"color: #008000; text-decoration-color: #008000\">blue-gray</span> │\n",
       "│ <span style=\"color: #7f7f7f; text-decoration-color: #7f7f7f\">…</span>             │ <span style=\"color: #7f7f7f; text-decoration-color: #7f7f7f\">…</span>           │ <span style=\"color: #7f7f7f; text-decoration-color: #7f7f7f\">…</span>         │\n",
       "└───────────────┴─────────────┴───────────┘\n",
       "</pre>\n"
      ],
      "text/plain": [
       "┏━━━━━━━━━━━━━━━┳━━━━━━━━━━━━━┳━━━━━━━━━━━┓\n",
       "┃\u001b[1m \u001b[0m\u001b[1mhair_color\u001b[0m\u001b[1m   \u001b[0m\u001b[1m \u001b[0m┃\u001b[1m \u001b[0m\u001b[1mskin_color\u001b[0m\u001b[1m \u001b[0m\u001b[1m \u001b[0m┃\u001b[1m \u001b[0m\u001b[1meye_color\u001b[0m\u001b[1m \u001b[0m┃\n",
       "┡━━━━━━━━━━━━━━━╇━━━━━━━━━━━━━╇━━━━━━━━━━━┩\n",
       "│ \u001b[2mstring\u001b[0m        │ \u001b[2mstring\u001b[0m      │ \u001b[2mstring\u001b[0m    │\n",
       "├───────────────┼─────────────┼───────────┤\n",
       "│ \u001b[32mblond        \u001b[0m │ \u001b[32mfair       \u001b[0m │ \u001b[32mblue     \u001b[0m │\n",
       "│ \u001b[2mNULL\u001b[0m          │ \u001b[32mgold       \u001b[0m │ \u001b[32myellow   \u001b[0m │\n",
       "│ \u001b[2mNULL\u001b[0m          │ \u001b[32mwhite, blue\u001b[0m │ \u001b[32mred      \u001b[0m │\n",
       "│ \u001b[32mnone         \u001b[0m │ \u001b[32mwhite      \u001b[0m │ \u001b[32myellow   \u001b[0m │\n",
       "│ \u001b[32mbrown        \u001b[0m │ \u001b[32mlight      \u001b[0m │ \u001b[32mbrown    \u001b[0m │\n",
       "│ \u001b[32mbrown, grey  \u001b[0m │ \u001b[32mlight      \u001b[0m │ \u001b[32mblue     \u001b[0m │\n",
       "│ \u001b[32mbrown        \u001b[0m │ \u001b[32mlight      \u001b[0m │ \u001b[32mblue     \u001b[0m │\n",
       "│ \u001b[2mNULL\u001b[0m          │ \u001b[32mwhite, red \u001b[0m │ \u001b[32mred      \u001b[0m │\n",
       "│ \u001b[32mblack        \u001b[0m │ \u001b[32mlight      \u001b[0m │ \u001b[32mbrown    \u001b[0m │\n",
       "│ \u001b[32mauburn, white\u001b[0m │ \u001b[32mfair       \u001b[0m │ \u001b[32mblue-gray\u001b[0m │\n",
       "│ \u001b[2m…\u001b[0m             │ \u001b[2m…\u001b[0m           │ \u001b[2m…\u001b[0m         │\n",
       "└───────────────┴─────────────┴───────────┘"
      ]
     },
     "execution_count": 13,
     "metadata": {},
     "output_type": "execute_result"
    }
   ],
   "source": [
    "starwars.select([\"hair_color\", \"skin_color\", \"eye_color\"])"
   ]
  },
  {
   "attachments": {},
   "cell_type": "markdown",
   "metadata": {},
   "source": [
    "To select columns by name based on a condition, dplyr has helpers such as:\n",
    "\n",
    "- starts_with(): Starts with a prefix.\n",
    "- ends_with(): Ends with a suffix.\n",
    "- contains(): Contains a literal string.\n",
    "\n",
    "These and many more [selectors](https://ibis-project.org/api/selectors/) are available in Ibis as well, with slightly different names:"
   ]
  },
  {
   "cell_type": "code",
   "execution_count": 14,
   "metadata": {},
   "outputs": [
    {
     "data": {
      "text/html": [
       "<pre style=\"white-space:pre;overflow-x:auto;line-height:normal;font-family:Menlo,'DejaVu Sans Mono',consolas,'Courier New',monospace\">┏━━━━━━━━┳━━━━━━━━━━━━━━━┳━━━━━━━━━━━┓\n",
       "┃<span style=\"font-weight: bold\"> height </span>┃<span style=\"font-weight: bold\"> hair_color    </span>┃<span style=\"font-weight: bold\"> homeworld </span>┃\n",
       "┡━━━━━━━━╇━━━━━━━━━━━━━━━╇━━━━━━━━━━━┩\n",
       "│ <span style=\"color: #7f7f7f; text-decoration-color: #7f7f7f\">int64</span>  │ <span style=\"color: #7f7f7f; text-decoration-color: #7f7f7f\">string</span>        │ <span style=\"color: #7f7f7f; text-decoration-color: #7f7f7f\">string</span>    │\n",
       "├────────┼───────────────┼───────────┤\n",
       "│    <span style=\"color: #008080; text-decoration-color: #008080; font-weight: bold\">172</span> │ <span style=\"color: #008000; text-decoration-color: #008000\">blond        </span> │ <span style=\"color: #008000; text-decoration-color: #008000\">Tatooine </span> │\n",
       "│    <span style=\"color: #008080; text-decoration-color: #008080; font-weight: bold\">167</span> │ <span style=\"color: #7f7f7f; text-decoration-color: #7f7f7f\">NULL</span>          │ <span style=\"color: #008000; text-decoration-color: #008000\">Tatooine </span> │\n",
       "│     <span style=\"color: #008080; text-decoration-color: #008080; font-weight: bold\">96</span> │ <span style=\"color: #7f7f7f; text-decoration-color: #7f7f7f\">NULL</span>          │ <span style=\"color: #008000; text-decoration-color: #008000\">Naboo    </span> │\n",
       "│    <span style=\"color: #008080; text-decoration-color: #008080; font-weight: bold\">202</span> │ <span style=\"color: #008000; text-decoration-color: #008000\">none         </span> │ <span style=\"color: #008000; text-decoration-color: #008000\">Tatooine </span> │\n",
       "│    <span style=\"color: #008080; text-decoration-color: #008080; font-weight: bold\">150</span> │ <span style=\"color: #008000; text-decoration-color: #008000\">brown        </span> │ <span style=\"color: #008000; text-decoration-color: #008000\">Alderaan </span> │\n",
       "│    <span style=\"color: #008080; text-decoration-color: #008080; font-weight: bold\">178</span> │ <span style=\"color: #008000; text-decoration-color: #008000\">brown, grey  </span> │ <span style=\"color: #008000; text-decoration-color: #008000\">Tatooine </span> │\n",
       "│    <span style=\"color: #008080; text-decoration-color: #008080; font-weight: bold\">165</span> │ <span style=\"color: #008000; text-decoration-color: #008000\">brown        </span> │ <span style=\"color: #008000; text-decoration-color: #008000\">Tatooine </span> │\n",
       "│     <span style=\"color: #008080; text-decoration-color: #008080; font-weight: bold\">97</span> │ <span style=\"color: #7f7f7f; text-decoration-color: #7f7f7f\">NULL</span>          │ <span style=\"color: #008000; text-decoration-color: #008000\">Tatooine </span> │\n",
       "│    <span style=\"color: #008080; text-decoration-color: #008080; font-weight: bold\">183</span> │ <span style=\"color: #008000; text-decoration-color: #008000\">black        </span> │ <span style=\"color: #008000; text-decoration-color: #008000\">Tatooine </span> │\n",
       "│    <span style=\"color: #008080; text-decoration-color: #008080; font-weight: bold\">182</span> │ <span style=\"color: #008000; text-decoration-color: #008000\">auburn, white</span> │ <span style=\"color: #008000; text-decoration-color: #008000\">Stewjon  </span> │\n",
       "│      <span style=\"color: #7f7f7f; text-decoration-color: #7f7f7f\">…</span> │ <span style=\"color: #7f7f7f; text-decoration-color: #7f7f7f\">…</span>             │ <span style=\"color: #7f7f7f; text-decoration-color: #7f7f7f\">…</span>         │\n",
       "└────────┴───────────────┴───────────┘\n",
       "</pre>\n"
      ],
      "text/plain": [
       "┏━━━━━━━━┳━━━━━━━━━━━━━━━┳━━━━━━━━━━━┓\n",
       "┃\u001b[1m \u001b[0m\u001b[1mheight\u001b[0m\u001b[1m \u001b[0m┃\u001b[1m \u001b[0m\u001b[1mhair_color\u001b[0m\u001b[1m   \u001b[0m\u001b[1m \u001b[0m┃\u001b[1m \u001b[0m\u001b[1mhomeworld\u001b[0m\u001b[1m \u001b[0m┃\n",
       "┡━━━━━━━━╇━━━━━━━━━━━━━━━╇━━━━━━━━━━━┩\n",
       "│ \u001b[2mint64\u001b[0m  │ \u001b[2mstring\u001b[0m        │ \u001b[2mstring\u001b[0m    │\n",
       "├────────┼───────────────┼───────────┤\n",
       "│    \u001b[1;36m172\u001b[0m │ \u001b[32mblond        \u001b[0m │ \u001b[32mTatooine \u001b[0m │\n",
       "│    \u001b[1;36m167\u001b[0m │ \u001b[2mNULL\u001b[0m          │ \u001b[32mTatooine \u001b[0m │\n",
       "│     \u001b[1;36m96\u001b[0m │ \u001b[2mNULL\u001b[0m          │ \u001b[32mNaboo    \u001b[0m │\n",
       "│    \u001b[1;36m202\u001b[0m │ \u001b[32mnone         \u001b[0m │ \u001b[32mTatooine \u001b[0m │\n",
       "│    \u001b[1;36m150\u001b[0m │ \u001b[32mbrown        \u001b[0m │ \u001b[32mAlderaan \u001b[0m │\n",
       "│    \u001b[1;36m178\u001b[0m │ \u001b[32mbrown, grey  \u001b[0m │ \u001b[32mTatooine \u001b[0m │\n",
       "│    \u001b[1;36m165\u001b[0m │ \u001b[32mbrown        \u001b[0m │ \u001b[32mTatooine \u001b[0m │\n",
       "│     \u001b[1;36m97\u001b[0m │ \u001b[2mNULL\u001b[0m          │ \u001b[32mTatooine \u001b[0m │\n",
       "│    \u001b[1;36m183\u001b[0m │ \u001b[32mblack        \u001b[0m │ \u001b[32mTatooine \u001b[0m │\n",
       "│    \u001b[1;36m182\u001b[0m │ \u001b[32mauburn, white\u001b[0m │ \u001b[32mStewjon  \u001b[0m │\n",
       "│      \u001b[2m…\u001b[0m │ \u001b[2m…\u001b[0m             │ \u001b[2m…\u001b[0m         │\n",
       "└────────┴───────────────┴───────────┘"
      ]
     },
     "execution_count": 14,
     "metadata": {},
     "output_type": "execute_result"
    }
   ],
   "source": [
    "starwars.select(s.startswith(\"h\"))"
   ]
  },
  {
   "cell_type": "code",
   "execution_count": 15,
   "metadata": {},
   "outputs": [
    {
     "data": {
      "text/html": [
       "<pre style=\"white-space:pre;overflow-x:auto;line-height:normal;font-family:Menlo,'DejaVu Sans Mono',consolas,'Courier New',monospace\">┏━━━━━━━━━━━━━━━┳━━━━━━━━━━━━━┳━━━━━━━━━━━┓\n",
       "┃<span style=\"font-weight: bold\"> hair_color    </span>┃<span style=\"font-weight: bold\"> skin_color  </span>┃<span style=\"font-weight: bold\"> eye_color </span>┃\n",
       "┡━━━━━━━━━━━━━━━╇━━━━━━━━━━━━━╇━━━━━━━━━━━┩\n",
       "│ <span style=\"color: #7f7f7f; text-decoration-color: #7f7f7f\">string</span>        │ <span style=\"color: #7f7f7f; text-decoration-color: #7f7f7f\">string</span>      │ <span style=\"color: #7f7f7f; text-decoration-color: #7f7f7f\">string</span>    │\n",
       "├───────────────┼─────────────┼───────────┤\n",
       "│ <span style=\"color: #008000; text-decoration-color: #008000\">blond        </span> │ <span style=\"color: #008000; text-decoration-color: #008000\">fair       </span> │ <span style=\"color: #008000; text-decoration-color: #008000\">blue     </span> │\n",
       "│ <span style=\"color: #7f7f7f; text-decoration-color: #7f7f7f\">NULL</span>          │ <span style=\"color: #008000; text-decoration-color: #008000\">gold       </span> │ <span style=\"color: #008000; text-decoration-color: #008000\">yellow   </span> │\n",
       "│ <span style=\"color: #7f7f7f; text-decoration-color: #7f7f7f\">NULL</span>          │ <span style=\"color: #008000; text-decoration-color: #008000\">white, blue</span> │ <span style=\"color: #008000; text-decoration-color: #008000\">red      </span> │\n",
       "│ <span style=\"color: #008000; text-decoration-color: #008000\">none         </span> │ <span style=\"color: #008000; text-decoration-color: #008000\">white      </span> │ <span style=\"color: #008000; text-decoration-color: #008000\">yellow   </span> │\n",
       "│ <span style=\"color: #008000; text-decoration-color: #008000\">brown        </span> │ <span style=\"color: #008000; text-decoration-color: #008000\">light      </span> │ <span style=\"color: #008000; text-decoration-color: #008000\">brown    </span> │\n",
       "│ <span style=\"color: #008000; text-decoration-color: #008000\">brown, grey  </span> │ <span style=\"color: #008000; text-decoration-color: #008000\">light      </span> │ <span style=\"color: #008000; text-decoration-color: #008000\">blue     </span> │\n",
       "│ <span style=\"color: #008000; text-decoration-color: #008000\">brown        </span> │ <span style=\"color: #008000; text-decoration-color: #008000\">light      </span> │ <span style=\"color: #008000; text-decoration-color: #008000\">blue     </span> │\n",
       "│ <span style=\"color: #7f7f7f; text-decoration-color: #7f7f7f\">NULL</span>          │ <span style=\"color: #008000; text-decoration-color: #008000\">white, red </span> │ <span style=\"color: #008000; text-decoration-color: #008000\">red      </span> │\n",
       "│ <span style=\"color: #008000; text-decoration-color: #008000\">black        </span> │ <span style=\"color: #008000; text-decoration-color: #008000\">light      </span> │ <span style=\"color: #008000; text-decoration-color: #008000\">brown    </span> │\n",
       "│ <span style=\"color: #008000; text-decoration-color: #008000\">auburn, white</span> │ <span style=\"color: #008000; text-decoration-color: #008000\">fair       </span> │ <span style=\"color: #008000; text-decoration-color: #008000\">blue-gray</span> │\n",
       "│ <span style=\"color: #7f7f7f; text-decoration-color: #7f7f7f\">…</span>             │ <span style=\"color: #7f7f7f; text-decoration-color: #7f7f7f\">…</span>           │ <span style=\"color: #7f7f7f; text-decoration-color: #7f7f7f\">…</span>         │\n",
       "└───────────────┴─────────────┴───────────┘\n",
       "</pre>\n"
      ],
      "text/plain": [
       "┏━━━━━━━━━━━━━━━┳━━━━━━━━━━━━━┳━━━━━━━━━━━┓\n",
       "┃\u001b[1m \u001b[0m\u001b[1mhair_color\u001b[0m\u001b[1m   \u001b[0m\u001b[1m \u001b[0m┃\u001b[1m \u001b[0m\u001b[1mskin_color\u001b[0m\u001b[1m \u001b[0m\u001b[1m \u001b[0m┃\u001b[1m \u001b[0m\u001b[1meye_color\u001b[0m\u001b[1m \u001b[0m┃\n",
       "┡━━━━━━━━━━━━━━━╇━━━━━━━━━━━━━╇━━━━━━━━━━━┩\n",
       "│ \u001b[2mstring\u001b[0m        │ \u001b[2mstring\u001b[0m      │ \u001b[2mstring\u001b[0m    │\n",
       "├───────────────┼─────────────┼───────────┤\n",
       "│ \u001b[32mblond        \u001b[0m │ \u001b[32mfair       \u001b[0m │ \u001b[32mblue     \u001b[0m │\n",
       "│ \u001b[2mNULL\u001b[0m          │ \u001b[32mgold       \u001b[0m │ \u001b[32myellow   \u001b[0m │\n",
       "│ \u001b[2mNULL\u001b[0m          │ \u001b[32mwhite, blue\u001b[0m │ \u001b[32mred      \u001b[0m │\n",
       "│ \u001b[32mnone         \u001b[0m │ \u001b[32mwhite      \u001b[0m │ \u001b[32myellow   \u001b[0m │\n",
       "│ \u001b[32mbrown        \u001b[0m │ \u001b[32mlight      \u001b[0m │ \u001b[32mbrown    \u001b[0m │\n",
       "│ \u001b[32mbrown, grey  \u001b[0m │ \u001b[32mlight      \u001b[0m │ \u001b[32mblue     \u001b[0m │\n",
       "│ \u001b[32mbrown        \u001b[0m │ \u001b[32mlight      \u001b[0m │ \u001b[32mblue     \u001b[0m │\n",
       "│ \u001b[2mNULL\u001b[0m          │ \u001b[32mwhite, red \u001b[0m │ \u001b[32mred      \u001b[0m │\n",
       "│ \u001b[32mblack        \u001b[0m │ \u001b[32mlight      \u001b[0m │ \u001b[32mbrown    \u001b[0m │\n",
       "│ \u001b[32mauburn, white\u001b[0m │ \u001b[32mfair       \u001b[0m │ \u001b[32mblue-gray\u001b[0m │\n",
       "│ \u001b[2m…\u001b[0m             │ \u001b[2m…\u001b[0m           │ \u001b[2m…\u001b[0m         │\n",
       "└───────────────┴─────────────┴───────────┘"
      ]
     },
     "execution_count": 15,
     "metadata": {},
     "output_type": "execute_result"
    }
   ],
   "source": [
    "starwars.select(s.endswith(\"color\"))"
   ]
  },
  {
   "cell_type": "code",
   "execution_count": 16,
   "metadata": {},
   "outputs": [
    {
     "data": {
      "text/html": [
       "<pre style=\"white-space:pre;overflow-x:auto;line-height:normal;font-family:Menlo,'DejaVu Sans Mono',consolas,'Courier New',monospace\">┏━━━━━━━━━━━┓\n",
       "┃<span style=\"font-weight: bold\"> homeworld </span>┃\n",
       "┡━━━━━━━━━━━┩\n",
       "│ <span style=\"color: #7f7f7f; text-decoration-color: #7f7f7f\">string</span>    │\n",
       "├───────────┤\n",
       "│ <span style=\"color: #008000; text-decoration-color: #008000\">Tatooine </span> │\n",
       "│ <span style=\"color: #008000; text-decoration-color: #008000\">Tatooine </span> │\n",
       "│ <span style=\"color: #008000; text-decoration-color: #008000\">Naboo    </span> │\n",
       "│ <span style=\"color: #008000; text-decoration-color: #008000\">Tatooine </span> │\n",
       "│ <span style=\"color: #008000; text-decoration-color: #008000\">Alderaan </span> │\n",
       "│ <span style=\"color: #008000; text-decoration-color: #008000\">Tatooine </span> │\n",
       "│ <span style=\"color: #008000; text-decoration-color: #008000\">Tatooine </span> │\n",
       "│ <span style=\"color: #008000; text-decoration-color: #008000\">Tatooine </span> │\n",
       "│ <span style=\"color: #008000; text-decoration-color: #008000\">Tatooine </span> │\n",
       "│ <span style=\"color: #008000; text-decoration-color: #008000\">Stewjon  </span> │\n",
       "│ <span style=\"color: #7f7f7f; text-decoration-color: #7f7f7f\">…</span>         │\n",
       "└───────────┘\n",
       "</pre>\n"
      ],
      "text/plain": [
       "┏━━━━━━━━━━━┓\n",
       "┃\u001b[1m \u001b[0m\u001b[1mhomeworld\u001b[0m\u001b[1m \u001b[0m┃\n",
       "┡━━━━━━━━━━━┩\n",
       "│ \u001b[2mstring\u001b[0m    │\n",
       "├───────────┤\n",
       "│ \u001b[32mTatooine \u001b[0m │\n",
       "│ \u001b[32mTatooine \u001b[0m │\n",
       "│ \u001b[32mNaboo    \u001b[0m │\n",
       "│ \u001b[32mTatooine \u001b[0m │\n",
       "│ \u001b[32mAlderaan \u001b[0m │\n",
       "│ \u001b[32mTatooine \u001b[0m │\n",
       "│ \u001b[32mTatooine \u001b[0m │\n",
       "│ \u001b[32mTatooine \u001b[0m │\n",
       "│ \u001b[32mTatooine \u001b[0m │\n",
       "│ \u001b[32mStewjon  \u001b[0m │\n",
       "│ \u001b[2m…\u001b[0m         │\n",
       "└───────────┘"
      ]
     },
     "execution_count": 16,
     "metadata": {},
     "output_type": "execute_result"
    }
   ],
   "source": [
    "starwars.select(s.contains(\"world\"))"
   ]
  },
  {
   "attachments": {},
   "cell_type": "markdown",
   "metadata": {},
   "source": [
    "See the Ibis [Column Selectors](https://ibis-project.org/api/selectors/) documentation for the full list of selectors in Ibis."
   ]
  },
  {
   "attachments": {},
   "cell_type": "markdown",
   "metadata": {},
   "source": [
    "### Renaming columns with relabel()\n",
    "\n",
    "Ibis allows you to rename columns using `relabel()` which provides similar functionality to `rename()` in dplyr.\n",
    "\n",
    "In dplyr:\n",
    "\n",
    "```r\n",
    "starwars |> \n",
    "    rename(\"homeworld\" = \"home_world\")\n",
    "```\n",
    "\n",
    "In Ibis, use `relabel` and pass a `dict` or name mappings:"
   ]
  },
  {
   "cell_type": "code",
   "execution_count": 17,
   "metadata": {},
   "outputs": [
    {
     "data": {
      "text/html": [
       "<pre style=\"white-space:pre;overflow-x:auto;line-height:normal;font-family:Menlo,'DejaVu Sans Mono',consolas,'Courier New',monospace\">┏━━━━━━━━━━━━━━━━━━━━┳━━━━━━━━┳━━━━━━━━━┳━━━━━━━━━━━━━━━┳━━━━━━━━━━━━━┳━━━━━━━━━━━┳━━━━━━━━━━━━┳━━━━━━━━┳━━━━━━━━━━━┳━━━━━━━━━━━━┳━━━━━━━━━┳━━━━━━━━┳━━━━━━━━━━┳━━━━━━━━━━━┓\n",
       "┃<span style=\"font-weight: bold\"> name               </span>┃<span style=\"font-weight: bold\"> height </span>┃<span style=\"font-weight: bold\"> mass    </span>┃<span style=\"font-weight: bold\"> hair_color    </span>┃<span style=\"font-weight: bold\"> skin_color  </span>┃<span style=\"font-weight: bold\"> eye_color </span>┃<span style=\"font-weight: bold\"> birth_year </span>┃<span style=\"font-weight: bold\"> sex    </span>┃<span style=\"font-weight: bold\"> gender    </span>┃<span style=\"font-weight: bold\"> home_world </span>┃<span style=\"font-weight: bold\"> species </span>┃<span style=\"font-weight: bold\"> films  </span>┃<span style=\"font-weight: bold\"> vehicles </span>┃<span style=\"font-weight: bold\"> starships </span>┃\n",
       "┡━━━━━━━━━━━━━━━━━━━━╇━━━━━━━━╇━━━━━━━━━╇━━━━━━━━━━━━━━━╇━━━━━━━━━━━━━╇━━━━━━━━━━━╇━━━━━━━━━━━━╇━━━━━━━━╇━━━━━━━━━━━╇━━━━━━━━━━━━╇━━━━━━━━━╇━━━━━━━━╇━━━━━━━━━━╇━━━━━━━━━━━┩\n",
       "│ <span style=\"color: #7f7f7f; text-decoration-color: #7f7f7f\">string</span>             │ <span style=\"color: #7f7f7f; text-decoration-color: #7f7f7f\">int64</span>  │ <span style=\"color: #7f7f7f; text-decoration-color: #7f7f7f\">float64</span> │ <span style=\"color: #7f7f7f; text-decoration-color: #7f7f7f\">string</span>        │ <span style=\"color: #7f7f7f; text-decoration-color: #7f7f7f\">string</span>      │ <span style=\"color: #7f7f7f; text-decoration-color: #7f7f7f\">string</span>    │ <span style=\"color: #7f7f7f; text-decoration-color: #7f7f7f\">float64</span>    │ <span style=\"color: #7f7f7f; text-decoration-color: #7f7f7f\">string</span> │ <span style=\"color: #7f7f7f; text-decoration-color: #7f7f7f\">string</span>    │ <span style=\"color: #7f7f7f; text-decoration-color: #7f7f7f\">string</span>     │ <span style=\"color: #7f7f7f; text-decoration-color: #7f7f7f\">string</span>  │ <span style=\"color: #7f7f7f; text-decoration-color: #7f7f7f\">string</span> │ <span style=\"color: #7f7f7f; text-decoration-color: #7f7f7f\">string</span>   │ <span style=\"color: #7f7f7f; text-decoration-color: #7f7f7f\">string</span>    │\n",
       "├────────────────────┼────────┼─────────┼───────────────┼─────────────┼───────────┼────────────┼────────┼───────────┼────────────┼─────────┼────────┼──────────┼───────────┤\n",
       "│ <span style=\"color: #008000; text-decoration-color: #008000\">Luke Skywalker    </span> │    <span style=\"color: #008080; text-decoration-color: #008080; font-weight: bold\">172</span> │    <span style=\"color: #008080; text-decoration-color: #008080; font-weight: bold\">77.0</span> │ <span style=\"color: #008000; text-decoration-color: #008000\">blond        </span> │ <span style=\"color: #008000; text-decoration-color: #008000\">fair       </span> │ <span style=\"color: #008000; text-decoration-color: #008000\">blue     </span> │       <span style=\"color: #008080; text-decoration-color: #008080; font-weight: bold\">19.0</span> │ <span style=\"color: #008000; text-decoration-color: #008000\">male  </span> │ <span style=\"color: #008000; text-decoration-color: #008000\">masculine</span> │ <span style=\"color: #008000; text-decoration-color: #008000\">Tatooine  </span> │ <span style=\"color: #008000; text-decoration-color: #008000\">Human  </span> │ <span style=\"color: #7f7f7f; text-decoration-color: #7f7f7f\">NULL</span>   │ <span style=\"color: #7f7f7f; text-decoration-color: #7f7f7f\">NULL</span>     │ <span style=\"color: #7f7f7f; text-decoration-color: #7f7f7f\">NULL</span>      │\n",
       "│ <span style=\"color: #008000; text-decoration-color: #008000\">C-3PO             </span> │    <span style=\"color: #008080; text-decoration-color: #008080; font-weight: bold\">167</span> │    <span style=\"color: #008080; text-decoration-color: #008080; font-weight: bold\">75.0</span> │ <span style=\"color: #7f7f7f; text-decoration-color: #7f7f7f\">NULL</span>          │ <span style=\"color: #008000; text-decoration-color: #008000\">gold       </span> │ <span style=\"color: #008000; text-decoration-color: #008000\">yellow   </span> │      <span style=\"color: #008080; text-decoration-color: #008080; font-weight: bold\">112.0</span> │ <span style=\"color: #008000; text-decoration-color: #008000\">none  </span> │ <span style=\"color: #008000; text-decoration-color: #008000\">masculine</span> │ <span style=\"color: #008000; text-decoration-color: #008000\">Tatooine  </span> │ <span style=\"color: #008000; text-decoration-color: #008000\">Droid  </span> │ <span style=\"color: #7f7f7f; text-decoration-color: #7f7f7f\">NULL</span>   │ <span style=\"color: #7f7f7f; text-decoration-color: #7f7f7f\">NULL</span>     │ <span style=\"color: #7f7f7f; text-decoration-color: #7f7f7f\">NULL</span>      │\n",
       "│ <span style=\"color: #008000; text-decoration-color: #008000\">R2-D2             </span> │     <span style=\"color: #008080; text-decoration-color: #008080; font-weight: bold\">96</span> │    <span style=\"color: #008080; text-decoration-color: #008080; font-weight: bold\">32.0</span> │ <span style=\"color: #7f7f7f; text-decoration-color: #7f7f7f\">NULL</span>          │ <span style=\"color: #008000; text-decoration-color: #008000\">white, blue</span> │ <span style=\"color: #008000; text-decoration-color: #008000\">red      </span> │       <span style=\"color: #008080; text-decoration-color: #008080; font-weight: bold\">33.0</span> │ <span style=\"color: #008000; text-decoration-color: #008000\">none  </span> │ <span style=\"color: #008000; text-decoration-color: #008000\">masculine</span> │ <span style=\"color: #008000; text-decoration-color: #008000\">Naboo     </span> │ <span style=\"color: #008000; text-decoration-color: #008000\">Droid  </span> │ <span style=\"color: #7f7f7f; text-decoration-color: #7f7f7f\">NULL</span>   │ <span style=\"color: #7f7f7f; text-decoration-color: #7f7f7f\">NULL</span>     │ <span style=\"color: #7f7f7f; text-decoration-color: #7f7f7f\">NULL</span>      │\n",
       "│ <span style=\"color: #008000; text-decoration-color: #008000\">Darth Vader       </span> │    <span style=\"color: #008080; text-decoration-color: #008080; font-weight: bold\">202</span> │   <span style=\"color: #008080; text-decoration-color: #008080; font-weight: bold\">136.0</span> │ <span style=\"color: #008000; text-decoration-color: #008000\">none         </span> │ <span style=\"color: #008000; text-decoration-color: #008000\">white      </span> │ <span style=\"color: #008000; text-decoration-color: #008000\">yellow   </span> │       <span style=\"color: #008080; text-decoration-color: #008080; font-weight: bold\">41.9</span> │ <span style=\"color: #008000; text-decoration-color: #008000\">male  </span> │ <span style=\"color: #008000; text-decoration-color: #008000\">masculine</span> │ <span style=\"color: #008000; text-decoration-color: #008000\">Tatooine  </span> │ <span style=\"color: #008000; text-decoration-color: #008000\">Human  </span> │ <span style=\"color: #7f7f7f; text-decoration-color: #7f7f7f\">NULL</span>   │ <span style=\"color: #7f7f7f; text-decoration-color: #7f7f7f\">NULL</span>     │ <span style=\"color: #7f7f7f; text-decoration-color: #7f7f7f\">NULL</span>      │\n",
       "│ <span style=\"color: #008000; text-decoration-color: #008000\">Leia Organa       </span> │    <span style=\"color: #008080; text-decoration-color: #008080; font-weight: bold\">150</span> │    <span style=\"color: #008080; text-decoration-color: #008080; font-weight: bold\">49.0</span> │ <span style=\"color: #008000; text-decoration-color: #008000\">brown        </span> │ <span style=\"color: #008000; text-decoration-color: #008000\">light      </span> │ <span style=\"color: #008000; text-decoration-color: #008000\">brown    </span> │       <span style=\"color: #008080; text-decoration-color: #008080; font-weight: bold\">19.0</span> │ <span style=\"color: #008000; text-decoration-color: #008000\">female</span> │ <span style=\"color: #008000; text-decoration-color: #008000\">feminine </span> │ <span style=\"color: #008000; text-decoration-color: #008000\">Alderaan  </span> │ <span style=\"color: #008000; text-decoration-color: #008000\">Human  </span> │ <span style=\"color: #7f7f7f; text-decoration-color: #7f7f7f\">NULL</span>   │ <span style=\"color: #7f7f7f; text-decoration-color: #7f7f7f\">NULL</span>     │ <span style=\"color: #7f7f7f; text-decoration-color: #7f7f7f\">NULL</span>      │\n",
       "│ <span style=\"color: #008000; text-decoration-color: #008000\">Owen Lars         </span> │    <span style=\"color: #008080; text-decoration-color: #008080; font-weight: bold\">178</span> │   <span style=\"color: #008080; text-decoration-color: #008080; font-weight: bold\">120.0</span> │ <span style=\"color: #008000; text-decoration-color: #008000\">brown, grey  </span> │ <span style=\"color: #008000; text-decoration-color: #008000\">light      </span> │ <span style=\"color: #008000; text-decoration-color: #008000\">blue     </span> │       <span style=\"color: #008080; text-decoration-color: #008080; font-weight: bold\">52.0</span> │ <span style=\"color: #008000; text-decoration-color: #008000\">male  </span> │ <span style=\"color: #008000; text-decoration-color: #008000\">masculine</span> │ <span style=\"color: #008000; text-decoration-color: #008000\">Tatooine  </span> │ <span style=\"color: #008000; text-decoration-color: #008000\">Human  </span> │ <span style=\"color: #7f7f7f; text-decoration-color: #7f7f7f\">NULL</span>   │ <span style=\"color: #7f7f7f; text-decoration-color: #7f7f7f\">NULL</span>     │ <span style=\"color: #7f7f7f; text-decoration-color: #7f7f7f\">NULL</span>      │\n",
       "│ <span style=\"color: #008000; text-decoration-color: #008000\">Beru Whitesun lars</span> │    <span style=\"color: #008080; text-decoration-color: #008080; font-weight: bold\">165</span> │    <span style=\"color: #008080; text-decoration-color: #008080; font-weight: bold\">75.0</span> │ <span style=\"color: #008000; text-decoration-color: #008000\">brown        </span> │ <span style=\"color: #008000; text-decoration-color: #008000\">light      </span> │ <span style=\"color: #008000; text-decoration-color: #008000\">blue     </span> │       <span style=\"color: #008080; text-decoration-color: #008080; font-weight: bold\">47.0</span> │ <span style=\"color: #008000; text-decoration-color: #008000\">female</span> │ <span style=\"color: #008000; text-decoration-color: #008000\">feminine </span> │ <span style=\"color: #008000; text-decoration-color: #008000\">Tatooine  </span> │ <span style=\"color: #008000; text-decoration-color: #008000\">Human  </span> │ <span style=\"color: #7f7f7f; text-decoration-color: #7f7f7f\">NULL</span>   │ <span style=\"color: #7f7f7f; text-decoration-color: #7f7f7f\">NULL</span>     │ <span style=\"color: #7f7f7f; text-decoration-color: #7f7f7f\">NULL</span>      │\n",
       "│ <span style=\"color: #008000; text-decoration-color: #008000\">R5-D4             </span> │     <span style=\"color: #008080; text-decoration-color: #008080; font-weight: bold\">97</span> │    <span style=\"color: #008080; text-decoration-color: #008080; font-weight: bold\">32.0</span> │ <span style=\"color: #7f7f7f; text-decoration-color: #7f7f7f\">NULL</span>          │ <span style=\"color: #008000; text-decoration-color: #008000\">white, red </span> │ <span style=\"color: #008000; text-decoration-color: #008000\">red      </span> │        <span style=\"color: #008080; text-decoration-color: #008080; font-weight: bold\">nan</span> │ <span style=\"color: #008000; text-decoration-color: #008000\">none  </span> │ <span style=\"color: #008000; text-decoration-color: #008000\">masculine</span> │ <span style=\"color: #008000; text-decoration-color: #008000\">Tatooine  </span> │ <span style=\"color: #008000; text-decoration-color: #008000\">Droid  </span> │ <span style=\"color: #7f7f7f; text-decoration-color: #7f7f7f\">NULL</span>   │ <span style=\"color: #7f7f7f; text-decoration-color: #7f7f7f\">NULL</span>     │ <span style=\"color: #7f7f7f; text-decoration-color: #7f7f7f\">NULL</span>      │\n",
       "│ <span style=\"color: #008000; text-decoration-color: #008000\">Biggs Darklighter </span> │    <span style=\"color: #008080; text-decoration-color: #008080; font-weight: bold\">183</span> │    <span style=\"color: #008080; text-decoration-color: #008080; font-weight: bold\">84.0</span> │ <span style=\"color: #008000; text-decoration-color: #008000\">black        </span> │ <span style=\"color: #008000; text-decoration-color: #008000\">light      </span> │ <span style=\"color: #008000; text-decoration-color: #008000\">brown    </span> │       <span style=\"color: #008080; text-decoration-color: #008080; font-weight: bold\">24.0</span> │ <span style=\"color: #008000; text-decoration-color: #008000\">male  </span> │ <span style=\"color: #008000; text-decoration-color: #008000\">masculine</span> │ <span style=\"color: #008000; text-decoration-color: #008000\">Tatooine  </span> │ <span style=\"color: #008000; text-decoration-color: #008000\">Human  </span> │ <span style=\"color: #7f7f7f; text-decoration-color: #7f7f7f\">NULL</span>   │ <span style=\"color: #7f7f7f; text-decoration-color: #7f7f7f\">NULL</span>     │ <span style=\"color: #7f7f7f; text-decoration-color: #7f7f7f\">NULL</span>      │\n",
       "│ <span style=\"color: #008000; text-decoration-color: #008000\">Obi-Wan Kenobi    </span> │    <span style=\"color: #008080; text-decoration-color: #008080; font-weight: bold\">182</span> │    <span style=\"color: #008080; text-decoration-color: #008080; font-weight: bold\">77.0</span> │ <span style=\"color: #008000; text-decoration-color: #008000\">auburn, white</span> │ <span style=\"color: #008000; text-decoration-color: #008000\">fair       </span> │ <span style=\"color: #008000; text-decoration-color: #008000\">blue-gray</span> │       <span style=\"color: #008080; text-decoration-color: #008080; font-weight: bold\">57.0</span> │ <span style=\"color: #008000; text-decoration-color: #008000\">male  </span> │ <span style=\"color: #008000; text-decoration-color: #008000\">masculine</span> │ <span style=\"color: #008000; text-decoration-color: #008000\">Stewjon   </span> │ <span style=\"color: #008000; text-decoration-color: #008000\">Human  </span> │ <span style=\"color: #7f7f7f; text-decoration-color: #7f7f7f\">NULL</span>   │ <span style=\"color: #7f7f7f; text-decoration-color: #7f7f7f\">NULL</span>     │ <span style=\"color: #7f7f7f; text-decoration-color: #7f7f7f\">NULL</span>      │\n",
       "│ <span style=\"color: #7f7f7f; text-decoration-color: #7f7f7f\">…</span>                  │      <span style=\"color: #7f7f7f; text-decoration-color: #7f7f7f\">…</span> │       <span style=\"color: #7f7f7f; text-decoration-color: #7f7f7f\">…</span> │ <span style=\"color: #7f7f7f; text-decoration-color: #7f7f7f\">…</span>             │ <span style=\"color: #7f7f7f; text-decoration-color: #7f7f7f\">…</span>           │ <span style=\"color: #7f7f7f; text-decoration-color: #7f7f7f\">…</span>         │          <span style=\"color: #7f7f7f; text-decoration-color: #7f7f7f\">…</span> │ <span style=\"color: #7f7f7f; text-decoration-color: #7f7f7f\">…</span>      │ <span style=\"color: #7f7f7f; text-decoration-color: #7f7f7f\">…</span>         │ <span style=\"color: #7f7f7f; text-decoration-color: #7f7f7f\">…</span>          │ <span style=\"color: #7f7f7f; text-decoration-color: #7f7f7f\">…</span>       │ <span style=\"color: #7f7f7f; text-decoration-color: #7f7f7f\">…</span>      │ <span style=\"color: #7f7f7f; text-decoration-color: #7f7f7f\">…</span>        │ <span style=\"color: #7f7f7f; text-decoration-color: #7f7f7f\">…</span>         │\n",
       "└────────────────────┴────────┴─────────┴───────────────┴─────────────┴───────────┴────────────┴────────┴───────────┴────────────┴─────────┴────────┴──────────┴───────────┘\n",
       "</pre>\n"
      ],
      "text/plain": [
       "┏━━━━━━━━━━━━━━━━━━━━┳━━━━━━━━┳━━━━━━━━━┳━━━━━━━━━━━━━━━┳━━━━━━━━━━━━━┳━━━━━━━━━━━┳━━━━━━━━━━━━┳━━━━━━━━┳━━━━━━━━━━━┳━━━━━━━━━━━━┳━━━━━━━━━┳━━━━━━━━┳━━━━━━━━━━┳━━━━━━━━━━━┓\n",
       "┃\u001b[1m \u001b[0m\u001b[1mname\u001b[0m\u001b[1m              \u001b[0m\u001b[1m \u001b[0m┃\u001b[1m \u001b[0m\u001b[1mheight\u001b[0m\u001b[1m \u001b[0m┃\u001b[1m \u001b[0m\u001b[1mmass\u001b[0m\u001b[1m   \u001b[0m\u001b[1m \u001b[0m┃\u001b[1m \u001b[0m\u001b[1mhair_color\u001b[0m\u001b[1m   \u001b[0m\u001b[1m \u001b[0m┃\u001b[1m \u001b[0m\u001b[1mskin_color\u001b[0m\u001b[1m \u001b[0m\u001b[1m \u001b[0m┃\u001b[1m \u001b[0m\u001b[1meye_color\u001b[0m\u001b[1m \u001b[0m┃\u001b[1m \u001b[0m\u001b[1mbirth_year\u001b[0m\u001b[1m \u001b[0m┃\u001b[1m \u001b[0m\u001b[1msex\u001b[0m\u001b[1m   \u001b[0m\u001b[1m \u001b[0m┃\u001b[1m \u001b[0m\u001b[1mgender\u001b[0m\u001b[1m   \u001b[0m\u001b[1m \u001b[0m┃\u001b[1m \u001b[0m\u001b[1mhome_world\u001b[0m\u001b[1m \u001b[0m┃\u001b[1m \u001b[0m\u001b[1mspecies\u001b[0m\u001b[1m \u001b[0m┃\u001b[1m \u001b[0m\u001b[1mfilms\u001b[0m\u001b[1m \u001b[0m\u001b[1m \u001b[0m┃\u001b[1m \u001b[0m\u001b[1mvehicles\u001b[0m\u001b[1m \u001b[0m┃\u001b[1m \u001b[0m\u001b[1mstarships\u001b[0m\u001b[1m \u001b[0m┃\n",
       "┡━━━━━━━━━━━━━━━━━━━━╇━━━━━━━━╇━━━━━━━━━╇━━━━━━━━━━━━━━━╇━━━━━━━━━━━━━╇━━━━━━━━━━━╇━━━━━━━━━━━━╇━━━━━━━━╇━━━━━━━━━━━╇━━━━━━━━━━━━╇━━━━━━━━━╇━━━━━━━━╇━━━━━━━━━━╇━━━━━━━━━━━┩\n",
       "│ \u001b[2mstring\u001b[0m             │ \u001b[2mint64\u001b[0m  │ \u001b[2mfloat64\u001b[0m │ \u001b[2mstring\u001b[0m        │ \u001b[2mstring\u001b[0m      │ \u001b[2mstring\u001b[0m    │ \u001b[2mfloat64\u001b[0m    │ \u001b[2mstring\u001b[0m │ \u001b[2mstring\u001b[0m    │ \u001b[2mstring\u001b[0m     │ \u001b[2mstring\u001b[0m  │ \u001b[2mstring\u001b[0m │ \u001b[2mstring\u001b[0m   │ \u001b[2mstring\u001b[0m    │\n",
       "├────────────────────┼────────┼─────────┼───────────────┼─────────────┼───────────┼────────────┼────────┼───────────┼────────────┼─────────┼────────┼──────────┼───────────┤\n",
       "│ \u001b[32mLuke Skywalker    \u001b[0m │    \u001b[1;36m172\u001b[0m │    \u001b[1;36m77.0\u001b[0m │ \u001b[32mblond        \u001b[0m │ \u001b[32mfair       \u001b[0m │ \u001b[32mblue     \u001b[0m │       \u001b[1;36m19.0\u001b[0m │ \u001b[32mmale  \u001b[0m │ \u001b[32mmasculine\u001b[0m │ \u001b[32mTatooine  \u001b[0m │ \u001b[32mHuman  \u001b[0m │ \u001b[2mNULL\u001b[0m   │ \u001b[2mNULL\u001b[0m     │ \u001b[2mNULL\u001b[0m      │\n",
       "│ \u001b[32mC-3PO             \u001b[0m │    \u001b[1;36m167\u001b[0m │    \u001b[1;36m75.0\u001b[0m │ \u001b[2mNULL\u001b[0m          │ \u001b[32mgold       \u001b[0m │ \u001b[32myellow   \u001b[0m │      \u001b[1;36m112.0\u001b[0m │ \u001b[32mnone  \u001b[0m │ \u001b[32mmasculine\u001b[0m │ \u001b[32mTatooine  \u001b[0m │ \u001b[32mDroid  \u001b[0m │ \u001b[2mNULL\u001b[0m   │ \u001b[2mNULL\u001b[0m     │ \u001b[2mNULL\u001b[0m      │\n",
       "│ \u001b[32mR2-D2             \u001b[0m │     \u001b[1;36m96\u001b[0m │    \u001b[1;36m32.0\u001b[0m │ \u001b[2mNULL\u001b[0m          │ \u001b[32mwhite, blue\u001b[0m │ \u001b[32mred      \u001b[0m │       \u001b[1;36m33.0\u001b[0m │ \u001b[32mnone  \u001b[0m │ \u001b[32mmasculine\u001b[0m │ \u001b[32mNaboo     \u001b[0m │ \u001b[32mDroid  \u001b[0m │ \u001b[2mNULL\u001b[0m   │ \u001b[2mNULL\u001b[0m     │ \u001b[2mNULL\u001b[0m      │\n",
       "│ \u001b[32mDarth Vader       \u001b[0m │    \u001b[1;36m202\u001b[0m │   \u001b[1;36m136.0\u001b[0m │ \u001b[32mnone         \u001b[0m │ \u001b[32mwhite      \u001b[0m │ \u001b[32myellow   \u001b[0m │       \u001b[1;36m41.9\u001b[0m │ \u001b[32mmale  \u001b[0m │ \u001b[32mmasculine\u001b[0m │ \u001b[32mTatooine  \u001b[0m │ \u001b[32mHuman  \u001b[0m │ \u001b[2mNULL\u001b[0m   │ \u001b[2mNULL\u001b[0m     │ \u001b[2mNULL\u001b[0m      │\n",
       "│ \u001b[32mLeia Organa       \u001b[0m │    \u001b[1;36m150\u001b[0m │    \u001b[1;36m49.0\u001b[0m │ \u001b[32mbrown        \u001b[0m │ \u001b[32mlight      \u001b[0m │ \u001b[32mbrown    \u001b[0m │       \u001b[1;36m19.0\u001b[0m │ \u001b[32mfemale\u001b[0m │ \u001b[32mfeminine \u001b[0m │ \u001b[32mAlderaan  \u001b[0m │ \u001b[32mHuman  \u001b[0m │ \u001b[2mNULL\u001b[0m   │ \u001b[2mNULL\u001b[0m     │ \u001b[2mNULL\u001b[0m      │\n",
       "│ \u001b[32mOwen Lars         \u001b[0m │    \u001b[1;36m178\u001b[0m │   \u001b[1;36m120.0\u001b[0m │ \u001b[32mbrown, grey  \u001b[0m │ \u001b[32mlight      \u001b[0m │ \u001b[32mblue     \u001b[0m │       \u001b[1;36m52.0\u001b[0m │ \u001b[32mmale  \u001b[0m │ \u001b[32mmasculine\u001b[0m │ \u001b[32mTatooine  \u001b[0m │ \u001b[32mHuman  \u001b[0m │ \u001b[2mNULL\u001b[0m   │ \u001b[2mNULL\u001b[0m     │ \u001b[2mNULL\u001b[0m      │\n",
       "│ \u001b[32mBeru Whitesun lars\u001b[0m │    \u001b[1;36m165\u001b[0m │    \u001b[1;36m75.0\u001b[0m │ \u001b[32mbrown        \u001b[0m │ \u001b[32mlight      \u001b[0m │ \u001b[32mblue     \u001b[0m │       \u001b[1;36m47.0\u001b[0m │ \u001b[32mfemale\u001b[0m │ \u001b[32mfeminine \u001b[0m │ \u001b[32mTatooine  \u001b[0m │ \u001b[32mHuman  \u001b[0m │ \u001b[2mNULL\u001b[0m   │ \u001b[2mNULL\u001b[0m     │ \u001b[2mNULL\u001b[0m      │\n",
       "│ \u001b[32mR5-D4             \u001b[0m │     \u001b[1;36m97\u001b[0m │    \u001b[1;36m32.0\u001b[0m │ \u001b[2mNULL\u001b[0m          │ \u001b[32mwhite, red \u001b[0m │ \u001b[32mred      \u001b[0m │        \u001b[1;36mnan\u001b[0m │ \u001b[32mnone  \u001b[0m │ \u001b[32mmasculine\u001b[0m │ \u001b[32mTatooine  \u001b[0m │ \u001b[32mDroid  \u001b[0m │ \u001b[2mNULL\u001b[0m   │ \u001b[2mNULL\u001b[0m     │ \u001b[2mNULL\u001b[0m      │\n",
       "│ \u001b[32mBiggs Darklighter \u001b[0m │    \u001b[1;36m183\u001b[0m │    \u001b[1;36m84.0\u001b[0m │ \u001b[32mblack        \u001b[0m │ \u001b[32mlight      \u001b[0m │ \u001b[32mbrown    \u001b[0m │       \u001b[1;36m24.0\u001b[0m │ \u001b[32mmale  \u001b[0m │ \u001b[32mmasculine\u001b[0m │ \u001b[32mTatooine  \u001b[0m │ \u001b[32mHuman  \u001b[0m │ \u001b[2mNULL\u001b[0m   │ \u001b[2mNULL\u001b[0m     │ \u001b[2mNULL\u001b[0m      │\n",
       "│ \u001b[32mObi-Wan Kenobi    \u001b[0m │    \u001b[1;36m182\u001b[0m │    \u001b[1;36m77.0\u001b[0m │ \u001b[32mauburn, white\u001b[0m │ \u001b[32mfair       \u001b[0m │ \u001b[32mblue-gray\u001b[0m │       \u001b[1;36m57.0\u001b[0m │ \u001b[32mmale  \u001b[0m │ \u001b[32mmasculine\u001b[0m │ \u001b[32mStewjon   \u001b[0m │ \u001b[32mHuman  \u001b[0m │ \u001b[2mNULL\u001b[0m   │ \u001b[2mNULL\u001b[0m     │ \u001b[2mNULL\u001b[0m      │\n",
       "│ \u001b[2m…\u001b[0m                  │      \u001b[2m…\u001b[0m │       \u001b[2m…\u001b[0m │ \u001b[2m…\u001b[0m             │ \u001b[2m…\u001b[0m           │ \u001b[2m…\u001b[0m         │          \u001b[2m…\u001b[0m │ \u001b[2m…\u001b[0m      │ \u001b[2m…\u001b[0m         │ \u001b[2m…\u001b[0m          │ \u001b[2m…\u001b[0m       │ \u001b[2m…\u001b[0m      │ \u001b[2m…\u001b[0m        │ \u001b[2m…\u001b[0m         │\n",
       "└────────────────────┴────────┴─────────┴───────────────┴─────────────┴───────────┴────────────┴────────┴───────────┴────────────┴─────────┴────────┴──────────┴───────────┘"
      ]
     },
     "execution_count": 17,
     "metadata": {},
     "output_type": "execute_result"
    }
   ],
   "source": [
    "starwars.relabel({\"homeworld\": \"home_world\"})"
   ]
  },
  {
   "attachments": {},
   "cell_type": "markdown",
   "metadata": {},
   "source": [
    "### Add new columns with mutate()\n",
    "\n",
    "Ibis, like dplyr, uses the `mutate` verb to add columns.\n",
    "\n",
    "In dplyr,\n",
    "\n",
    "```r\n",
    "starwars |>\n",
    "    mutate(height_m = height / 100) |>\n",
    "    select(name, height_m)\n",
    "```\n",
    "\n",
    "In Ibis:"
   ]
  },
  {
   "cell_type": "code",
   "execution_count": 18,
   "metadata": {},
   "outputs": [
    {
     "data": {
      "text/html": [
       "<pre style=\"white-space:pre;overflow-x:auto;line-height:normal;font-family:Menlo,'DejaVu Sans Mono',consolas,'Courier New',monospace\">┏━━━━━━━━━━━━━━━━━━━━┳━━━━━━━━━━┓\n",
       "┃<span style=\"font-weight: bold\"> name               </span>┃<span style=\"font-weight: bold\"> height_m </span>┃\n",
       "┡━━━━━━━━━━━━━━━━━━━━╇━━━━━━━━━━┩\n",
       "│ <span style=\"color: #7f7f7f; text-decoration-color: #7f7f7f\">string</span>             │ <span style=\"color: #7f7f7f; text-decoration-color: #7f7f7f\">float64</span>  │\n",
       "├────────────────────┼──────────┤\n",
       "│ <span style=\"color: #008000; text-decoration-color: #008000\">Luke Skywalker    </span> │     <span style=\"color: #008080; text-decoration-color: #008080; font-weight: bold\">1.72</span> │\n",
       "│ <span style=\"color: #008000; text-decoration-color: #008000\">C-3PO             </span> │     <span style=\"color: #008080; text-decoration-color: #008080; font-weight: bold\">1.67</span> │\n",
       "│ <span style=\"color: #008000; text-decoration-color: #008000\">R2-D2             </span> │     <span style=\"color: #008080; text-decoration-color: #008080; font-weight: bold\">0.96</span> │\n",
       "│ <span style=\"color: #008000; text-decoration-color: #008000\">Darth Vader       </span> │     <span style=\"color: #008080; text-decoration-color: #008080; font-weight: bold\">2.02</span> │\n",
       "│ <span style=\"color: #008000; text-decoration-color: #008000\">Leia Organa       </span> │     <span style=\"color: #008080; text-decoration-color: #008080; font-weight: bold\">1.50</span> │\n",
       "│ <span style=\"color: #008000; text-decoration-color: #008000\">Owen Lars         </span> │     <span style=\"color: #008080; text-decoration-color: #008080; font-weight: bold\">1.78</span> │\n",
       "│ <span style=\"color: #008000; text-decoration-color: #008000\">Beru Whitesun lars</span> │     <span style=\"color: #008080; text-decoration-color: #008080; font-weight: bold\">1.65</span> │\n",
       "│ <span style=\"color: #008000; text-decoration-color: #008000\">R5-D4             </span> │     <span style=\"color: #008080; text-decoration-color: #008080; font-weight: bold\">0.97</span> │\n",
       "│ <span style=\"color: #008000; text-decoration-color: #008000\">Biggs Darklighter </span> │     <span style=\"color: #008080; text-decoration-color: #008080; font-weight: bold\">1.83</span> │\n",
       "│ <span style=\"color: #008000; text-decoration-color: #008000\">Obi-Wan Kenobi    </span> │     <span style=\"color: #008080; text-decoration-color: #008080; font-weight: bold\">1.82</span> │\n",
       "│ <span style=\"color: #7f7f7f; text-decoration-color: #7f7f7f\">…</span>                  │        <span style=\"color: #7f7f7f; text-decoration-color: #7f7f7f\">…</span> │\n",
       "└────────────────────┴──────────┘\n",
       "</pre>\n"
      ],
      "text/plain": [
       "┏━━━━━━━━━━━━━━━━━━━━┳━━━━━━━━━━┓\n",
       "┃\u001b[1m \u001b[0m\u001b[1mname\u001b[0m\u001b[1m              \u001b[0m\u001b[1m \u001b[0m┃\u001b[1m \u001b[0m\u001b[1mheight_m\u001b[0m\u001b[1m \u001b[0m┃\n",
       "┡━━━━━━━━━━━━━━━━━━━━╇━━━━━━━━━━┩\n",
       "│ \u001b[2mstring\u001b[0m             │ \u001b[2mfloat64\u001b[0m  │\n",
       "├────────────────────┼──────────┤\n",
       "│ \u001b[32mLuke Skywalker    \u001b[0m │     \u001b[1;36m1.72\u001b[0m │\n",
       "│ \u001b[32mC-3PO             \u001b[0m │     \u001b[1;36m1.67\u001b[0m │\n",
       "│ \u001b[32mR2-D2             \u001b[0m │     \u001b[1;36m0.96\u001b[0m │\n",
       "│ \u001b[32mDarth Vader       \u001b[0m │     \u001b[1;36m2.02\u001b[0m │\n",
       "│ \u001b[32mLeia Organa       \u001b[0m │     \u001b[1;36m1.50\u001b[0m │\n",
       "│ \u001b[32mOwen Lars         \u001b[0m │     \u001b[1;36m1.78\u001b[0m │\n",
       "│ \u001b[32mBeru Whitesun lars\u001b[0m │     \u001b[1;36m1.65\u001b[0m │\n",
       "│ \u001b[32mR5-D4             \u001b[0m │     \u001b[1;36m0.97\u001b[0m │\n",
       "│ \u001b[32mBiggs Darklighter \u001b[0m │     \u001b[1;36m1.83\u001b[0m │\n",
       "│ \u001b[32mObi-Wan Kenobi    \u001b[0m │     \u001b[1;36m1.82\u001b[0m │\n",
       "│ \u001b[2m…\u001b[0m                  │        \u001b[2m…\u001b[0m │\n",
       "└────────────────────┴──────────┘"
      ]
     },
     "execution_count": 18,
     "metadata": {},
     "output_type": "execute_result"
    }
   ],
   "source": [
    "(\n",
    "    starwars\n",
    "        .mutate(height_m = _.height / 100)\n",
    "        .select(\"name\", \"height_m\")\n",
    ")"
   ]
  },
  {
   "attachments": {},
   "cell_type": "markdown",
   "metadata": {},
   "source": [
    "A big difference between dplyr's `mutate` and Ibis' is that, in Ibis, you have to chain separate `mutate` calls together you reference newly-created columns in the same `mutate` whereas in dplyr, you can put them all in the same call. This makes Ibis' `mutate` more similar to `transform` in dplyr.\n",
    "\n",
    "In dplyr, we only need one `mutate` call:\n",
    "\n",
    "```r\n",
    "starwars %>%\n",
    "  mutate(\n",
    "    height_m = height / 100,\n",
    "    BMI = mass / (height_m^2)\n",
    "  ) %>%\n",
    "  select(BMI, everything())\n",
    "  ```\n",
    "\n",
    "In Ibis, for `BMI` to reference `height_m`, it needs to be in a separate `mutate` call:"
   ]
  },
  {
   "cell_type": "code",
   "execution_count": 19,
   "metadata": {},
   "outputs": [
    {
     "data": {
      "text/html": [
       "<pre style=\"white-space:pre;overflow-x:auto;line-height:normal;font-family:Menlo,'DejaVu Sans Mono',consolas,'Courier New',monospace\">┏━━━━━━━━━━━┳━━━━━━━━━━━━━━━━━━━━┳━━━━━━━━┳━━━━━━━━━┳━━━━━━━━━━━━━━━┳━━━━━━━━━━━━━┳━━━━━━━━━━━┳━━━━━━━━━━━━┳━━━━━━━━┳━━━━━━━━━━━┳━━━━━━━━━━━┳━━━━━━━━━┳━━━━━━━━┳━━━━━━━━━━┳━━━━━━━━━━━┳━━━━━━━━━━┓\n",
       "┃<span style=\"font-weight: bold\"> BMI       </span>┃<span style=\"font-weight: bold\"> name               </span>┃<span style=\"font-weight: bold\"> height </span>┃<span style=\"font-weight: bold\"> mass    </span>┃<span style=\"font-weight: bold\"> hair_color    </span>┃<span style=\"font-weight: bold\"> skin_color  </span>┃<span style=\"font-weight: bold\"> eye_color </span>┃<span style=\"font-weight: bold\"> birth_year </span>┃<span style=\"font-weight: bold\"> sex    </span>┃<span style=\"font-weight: bold\"> gender    </span>┃<span style=\"font-weight: bold\"> homeworld </span>┃<span style=\"font-weight: bold\"> species </span>┃<span style=\"font-weight: bold\"> films  </span>┃<span style=\"font-weight: bold\"> vehicles </span>┃<span style=\"font-weight: bold\"> starships </span>┃<span style=\"font-weight: bold\"> height_m </span>┃\n",
       "┡━━━━━━━━━━━╇━━━━━━━━━━━━━━━━━━━━╇━━━━━━━━╇━━━━━━━━━╇━━━━━━━━━━━━━━━╇━━━━━━━━━━━━━╇━━━━━━━━━━━╇━━━━━━━━━━━━╇━━━━━━━━╇━━━━━━━━━━━╇━━━━━━━━━━━╇━━━━━━━━━╇━━━━━━━━╇━━━━━━━━━━╇━━━━━━━━━━━╇━━━━━━━━━━┩\n",
       "│ <span style=\"color: #7f7f7f; text-decoration-color: #7f7f7f\">float64</span>   │ <span style=\"color: #7f7f7f; text-decoration-color: #7f7f7f\">string</span>             │ <span style=\"color: #7f7f7f; text-decoration-color: #7f7f7f\">int64</span>  │ <span style=\"color: #7f7f7f; text-decoration-color: #7f7f7f\">float64</span> │ <span style=\"color: #7f7f7f; text-decoration-color: #7f7f7f\">string</span>        │ <span style=\"color: #7f7f7f; text-decoration-color: #7f7f7f\">string</span>      │ <span style=\"color: #7f7f7f; text-decoration-color: #7f7f7f\">string</span>    │ <span style=\"color: #7f7f7f; text-decoration-color: #7f7f7f\">float64</span>    │ <span style=\"color: #7f7f7f; text-decoration-color: #7f7f7f\">string</span> │ <span style=\"color: #7f7f7f; text-decoration-color: #7f7f7f\">string</span>    │ <span style=\"color: #7f7f7f; text-decoration-color: #7f7f7f\">string</span>    │ <span style=\"color: #7f7f7f; text-decoration-color: #7f7f7f\">string</span>  │ <span style=\"color: #7f7f7f; text-decoration-color: #7f7f7f\">string</span> │ <span style=\"color: #7f7f7f; text-decoration-color: #7f7f7f\">string</span>   │ <span style=\"color: #7f7f7f; text-decoration-color: #7f7f7f\">string</span>    │ <span style=\"color: #7f7f7f; text-decoration-color: #7f7f7f\">float64</span>  │\n",
       "├───────────┼────────────────────┼────────┼─────────┼───────────────┼─────────────┼───────────┼────────────┼────────┼───────────┼───────────┼─────────┼────────┼──────────┼───────────┼──────────┤\n",
       "│ <span style=\"color: #008080; text-decoration-color: #008080; font-weight: bold\">26.027582</span> │ <span style=\"color: #008000; text-decoration-color: #008000\">Luke Skywalker    </span> │    <span style=\"color: #008080; text-decoration-color: #008080; font-weight: bold\">172</span> │    <span style=\"color: #008080; text-decoration-color: #008080; font-weight: bold\">77.0</span> │ <span style=\"color: #008000; text-decoration-color: #008000\">blond        </span> │ <span style=\"color: #008000; text-decoration-color: #008000\">fair       </span> │ <span style=\"color: #008000; text-decoration-color: #008000\">blue     </span> │       <span style=\"color: #008080; text-decoration-color: #008080; font-weight: bold\">19.0</span> │ <span style=\"color: #008000; text-decoration-color: #008000\">male  </span> │ <span style=\"color: #008000; text-decoration-color: #008000\">masculine</span> │ <span style=\"color: #008000; text-decoration-color: #008000\">Tatooine </span> │ <span style=\"color: #008000; text-decoration-color: #008000\">Human  </span> │ <span style=\"color: #7f7f7f; text-decoration-color: #7f7f7f\">NULL</span>   │ <span style=\"color: #7f7f7f; text-decoration-color: #7f7f7f\">NULL</span>     │ <span style=\"color: #7f7f7f; text-decoration-color: #7f7f7f\">NULL</span>      │     <span style=\"color: #008080; text-decoration-color: #008080; font-weight: bold\">1.72</span> │\n",
       "│ <span style=\"color: #008080; text-decoration-color: #008080; font-weight: bold\">26.892323</span> │ <span style=\"color: #008000; text-decoration-color: #008000\">C-3PO             </span> │    <span style=\"color: #008080; text-decoration-color: #008080; font-weight: bold\">167</span> │    <span style=\"color: #008080; text-decoration-color: #008080; font-weight: bold\">75.0</span> │ <span style=\"color: #7f7f7f; text-decoration-color: #7f7f7f\">NULL</span>          │ <span style=\"color: #008000; text-decoration-color: #008000\">gold       </span> │ <span style=\"color: #008000; text-decoration-color: #008000\">yellow   </span> │      <span style=\"color: #008080; text-decoration-color: #008080; font-weight: bold\">112.0</span> │ <span style=\"color: #008000; text-decoration-color: #008000\">none  </span> │ <span style=\"color: #008000; text-decoration-color: #008000\">masculine</span> │ <span style=\"color: #008000; text-decoration-color: #008000\">Tatooine </span> │ <span style=\"color: #008000; text-decoration-color: #008000\">Droid  </span> │ <span style=\"color: #7f7f7f; text-decoration-color: #7f7f7f\">NULL</span>   │ <span style=\"color: #7f7f7f; text-decoration-color: #7f7f7f\">NULL</span>     │ <span style=\"color: #7f7f7f; text-decoration-color: #7f7f7f\">NULL</span>      │     <span style=\"color: #008080; text-decoration-color: #008080; font-weight: bold\">1.67</span> │\n",
       "│ <span style=\"color: #008080; text-decoration-color: #008080; font-weight: bold\">34.722222</span> │ <span style=\"color: #008000; text-decoration-color: #008000\">R2-D2             </span> │     <span style=\"color: #008080; text-decoration-color: #008080; font-weight: bold\">96</span> │    <span style=\"color: #008080; text-decoration-color: #008080; font-weight: bold\">32.0</span> │ <span style=\"color: #7f7f7f; text-decoration-color: #7f7f7f\">NULL</span>          │ <span style=\"color: #008000; text-decoration-color: #008000\">white, blue</span> │ <span style=\"color: #008000; text-decoration-color: #008000\">red      </span> │       <span style=\"color: #008080; text-decoration-color: #008080; font-weight: bold\">33.0</span> │ <span style=\"color: #008000; text-decoration-color: #008000\">none  </span> │ <span style=\"color: #008000; text-decoration-color: #008000\">masculine</span> │ <span style=\"color: #008000; text-decoration-color: #008000\">Naboo    </span> │ <span style=\"color: #008000; text-decoration-color: #008000\">Droid  </span> │ <span style=\"color: #7f7f7f; text-decoration-color: #7f7f7f\">NULL</span>   │ <span style=\"color: #7f7f7f; text-decoration-color: #7f7f7f\">NULL</span>     │ <span style=\"color: #7f7f7f; text-decoration-color: #7f7f7f\">NULL</span>      │     <span style=\"color: #008080; text-decoration-color: #008080; font-weight: bold\">0.96</span> │\n",
       "│ <span style=\"color: #008080; text-decoration-color: #008080; font-weight: bold\">33.330066</span> │ <span style=\"color: #008000; text-decoration-color: #008000\">Darth Vader       </span> │    <span style=\"color: #008080; text-decoration-color: #008080; font-weight: bold\">202</span> │   <span style=\"color: #008080; text-decoration-color: #008080; font-weight: bold\">136.0</span> │ <span style=\"color: #008000; text-decoration-color: #008000\">none         </span> │ <span style=\"color: #008000; text-decoration-color: #008000\">white      </span> │ <span style=\"color: #008000; text-decoration-color: #008000\">yellow   </span> │       <span style=\"color: #008080; text-decoration-color: #008080; font-weight: bold\">41.9</span> │ <span style=\"color: #008000; text-decoration-color: #008000\">male  </span> │ <span style=\"color: #008000; text-decoration-color: #008000\">masculine</span> │ <span style=\"color: #008000; text-decoration-color: #008000\">Tatooine </span> │ <span style=\"color: #008000; text-decoration-color: #008000\">Human  </span> │ <span style=\"color: #7f7f7f; text-decoration-color: #7f7f7f\">NULL</span>   │ <span style=\"color: #7f7f7f; text-decoration-color: #7f7f7f\">NULL</span>     │ <span style=\"color: #7f7f7f; text-decoration-color: #7f7f7f\">NULL</span>      │     <span style=\"color: #008080; text-decoration-color: #008080; font-weight: bold\">2.02</span> │\n",
       "│ <span style=\"color: #008080; text-decoration-color: #008080; font-weight: bold\">21.777778</span> │ <span style=\"color: #008000; text-decoration-color: #008000\">Leia Organa       </span> │    <span style=\"color: #008080; text-decoration-color: #008080; font-weight: bold\">150</span> │    <span style=\"color: #008080; text-decoration-color: #008080; font-weight: bold\">49.0</span> │ <span style=\"color: #008000; text-decoration-color: #008000\">brown        </span> │ <span style=\"color: #008000; text-decoration-color: #008000\">light      </span> │ <span style=\"color: #008000; text-decoration-color: #008000\">brown    </span> │       <span style=\"color: #008080; text-decoration-color: #008080; font-weight: bold\">19.0</span> │ <span style=\"color: #008000; text-decoration-color: #008000\">female</span> │ <span style=\"color: #008000; text-decoration-color: #008000\">feminine </span> │ <span style=\"color: #008000; text-decoration-color: #008000\">Alderaan </span> │ <span style=\"color: #008000; text-decoration-color: #008000\">Human  </span> │ <span style=\"color: #7f7f7f; text-decoration-color: #7f7f7f\">NULL</span>   │ <span style=\"color: #7f7f7f; text-decoration-color: #7f7f7f\">NULL</span>     │ <span style=\"color: #7f7f7f; text-decoration-color: #7f7f7f\">NULL</span>      │     <span style=\"color: #008080; text-decoration-color: #008080; font-weight: bold\">1.50</span> │\n",
       "│ <span style=\"color: #008080; text-decoration-color: #008080; font-weight: bold\">37.874006</span> │ <span style=\"color: #008000; text-decoration-color: #008000\">Owen Lars         </span> │    <span style=\"color: #008080; text-decoration-color: #008080; font-weight: bold\">178</span> │   <span style=\"color: #008080; text-decoration-color: #008080; font-weight: bold\">120.0</span> │ <span style=\"color: #008000; text-decoration-color: #008000\">brown, grey  </span> │ <span style=\"color: #008000; text-decoration-color: #008000\">light      </span> │ <span style=\"color: #008000; text-decoration-color: #008000\">blue     </span> │       <span style=\"color: #008080; text-decoration-color: #008080; font-weight: bold\">52.0</span> │ <span style=\"color: #008000; text-decoration-color: #008000\">male  </span> │ <span style=\"color: #008000; text-decoration-color: #008000\">masculine</span> │ <span style=\"color: #008000; text-decoration-color: #008000\">Tatooine </span> │ <span style=\"color: #008000; text-decoration-color: #008000\">Human  </span> │ <span style=\"color: #7f7f7f; text-decoration-color: #7f7f7f\">NULL</span>   │ <span style=\"color: #7f7f7f; text-decoration-color: #7f7f7f\">NULL</span>     │ <span style=\"color: #7f7f7f; text-decoration-color: #7f7f7f\">NULL</span>      │     <span style=\"color: #008080; text-decoration-color: #008080; font-weight: bold\">1.78</span> │\n",
       "│ <span style=\"color: #008080; text-decoration-color: #008080; font-weight: bold\">27.548209</span> │ <span style=\"color: #008000; text-decoration-color: #008000\">Beru Whitesun lars</span> │    <span style=\"color: #008080; text-decoration-color: #008080; font-weight: bold\">165</span> │    <span style=\"color: #008080; text-decoration-color: #008080; font-weight: bold\">75.0</span> │ <span style=\"color: #008000; text-decoration-color: #008000\">brown        </span> │ <span style=\"color: #008000; text-decoration-color: #008000\">light      </span> │ <span style=\"color: #008000; text-decoration-color: #008000\">blue     </span> │       <span style=\"color: #008080; text-decoration-color: #008080; font-weight: bold\">47.0</span> │ <span style=\"color: #008000; text-decoration-color: #008000\">female</span> │ <span style=\"color: #008000; text-decoration-color: #008000\">feminine </span> │ <span style=\"color: #008000; text-decoration-color: #008000\">Tatooine </span> │ <span style=\"color: #008000; text-decoration-color: #008000\">Human  </span> │ <span style=\"color: #7f7f7f; text-decoration-color: #7f7f7f\">NULL</span>   │ <span style=\"color: #7f7f7f; text-decoration-color: #7f7f7f\">NULL</span>     │ <span style=\"color: #7f7f7f; text-decoration-color: #7f7f7f\">NULL</span>      │     <span style=\"color: #008080; text-decoration-color: #008080; font-weight: bold\">1.65</span> │\n",
       "│ <span style=\"color: #008080; text-decoration-color: #008080; font-weight: bold\">34.009990</span> │ <span style=\"color: #008000; text-decoration-color: #008000\">R5-D4             </span> │     <span style=\"color: #008080; text-decoration-color: #008080; font-weight: bold\">97</span> │    <span style=\"color: #008080; text-decoration-color: #008080; font-weight: bold\">32.0</span> │ <span style=\"color: #7f7f7f; text-decoration-color: #7f7f7f\">NULL</span>          │ <span style=\"color: #008000; text-decoration-color: #008000\">white, red </span> │ <span style=\"color: #008000; text-decoration-color: #008000\">red      </span> │        <span style=\"color: #008080; text-decoration-color: #008080; font-weight: bold\">nan</span> │ <span style=\"color: #008000; text-decoration-color: #008000\">none  </span> │ <span style=\"color: #008000; text-decoration-color: #008000\">masculine</span> │ <span style=\"color: #008000; text-decoration-color: #008000\">Tatooine </span> │ <span style=\"color: #008000; text-decoration-color: #008000\">Droid  </span> │ <span style=\"color: #7f7f7f; text-decoration-color: #7f7f7f\">NULL</span>   │ <span style=\"color: #7f7f7f; text-decoration-color: #7f7f7f\">NULL</span>     │ <span style=\"color: #7f7f7f; text-decoration-color: #7f7f7f\">NULL</span>      │     <span style=\"color: #008080; text-decoration-color: #008080; font-weight: bold\">0.97</span> │\n",
       "│ <span style=\"color: #008080; text-decoration-color: #008080; font-weight: bold\">25.082863</span> │ <span style=\"color: #008000; text-decoration-color: #008000\">Biggs Darklighter </span> │    <span style=\"color: #008080; text-decoration-color: #008080; font-weight: bold\">183</span> │    <span style=\"color: #008080; text-decoration-color: #008080; font-weight: bold\">84.0</span> │ <span style=\"color: #008000; text-decoration-color: #008000\">black        </span> │ <span style=\"color: #008000; text-decoration-color: #008000\">light      </span> │ <span style=\"color: #008000; text-decoration-color: #008000\">brown    </span> │       <span style=\"color: #008080; text-decoration-color: #008080; font-weight: bold\">24.0</span> │ <span style=\"color: #008000; text-decoration-color: #008000\">male  </span> │ <span style=\"color: #008000; text-decoration-color: #008000\">masculine</span> │ <span style=\"color: #008000; text-decoration-color: #008000\">Tatooine </span> │ <span style=\"color: #008000; text-decoration-color: #008000\">Human  </span> │ <span style=\"color: #7f7f7f; text-decoration-color: #7f7f7f\">NULL</span>   │ <span style=\"color: #7f7f7f; text-decoration-color: #7f7f7f\">NULL</span>     │ <span style=\"color: #7f7f7f; text-decoration-color: #7f7f7f\">NULL</span>      │     <span style=\"color: #008080; text-decoration-color: #008080; font-weight: bold\">1.83</span> │\n",
       "│ <span style=\"color: #008080; text-decoration-color: #008080; font-weight: bold\">23.245985</span> │ <span style=\"color: #008000; text-decoration-color: #008000\">Obi-Wan Kenobi    </span> │    <span style=\"color: #008080; text-decoration-color: #008080; font-weight: bold\">182</span> │    <span style=\"color: #008080; text-decoration-color: #008080; font-weight: bold\">77.0</span> │ <span style=\"color: #008000; text-decoration-color: #008000\">auburn, white</span> │ <span style=\"color: #008000; text-decoration-color: #008000\">fair       </span> │ <span style=\"color: #008000; text-decoration-color: #008000\">blue-gray</span> │       <span style=\"color: #008080; text-decoration-color: #008080; font-weight: bold\">57.0</span> │ <span style=\"color: #008000; text-decoration-color: #008000\">male  </span> │ <span style=\"color: #008000; text-decoration-color: #008000\">masculine</span> │ <span style=\"color: #008000; text-decoration-color: #008000\">Stewjon  </span> │ <span style=\"color: #008000; text-decoration-color: #008000\">Human  </span> │ <span style=\"color: #7f7f7f; text-decoration-color: #7f7f7f\">NULL</span>   │ <span style=\"color: #7f7f7f; text-decoration-color: #7f7f7f\">NULL</span>     │ <span style=\"color: #7f7f7f; text-decoration-color: #7f7f7f\">NULL</span>      │     <span style=\"color: #008080; text-decoration-color: #008080; font-weight: bold\">1.82</span> │\n",
       "│         <span style=\"color: #7f7f7f; text-decoration-color: #7f7f7f\">…</span> │ <span style=\"color: #7f7f7f; text-decoration-color: #7f7f7f\">…</span>                  │      <span style=\"color: #7f7f7f; text-decoration-color: #7f7f7f\">…</span> │       <span style=\"color: #7f7f7f; text-decoration-color: #7f7f7f\">…</span> │ <span style=\"color: #7f7f7f; text-decoration-color: #7f7f7f\">…</span>             │ <span style=\"color: #7f7f7f; text-decoration-color: #7f7f7f\">…</span>           │ <span style=\"color: #7f7f7f; text-decoration-color: #7f7f7f\">…</span>         │          <span style=\"color: #7f7f7f; text-decoration-color: #7f7f7f\">…</span> │ <span style=\"color: #7f7f7f; text-decoration-color: #7f7f7f\">…</span>      │ <span style=\"color: #7f7f7f; text-decoration-color: #7f7f7f\">…</span>         │ <span style=\"color: #7f7f7f; text-decoration-color: #7f7f7f\">…</span>         │ <span style=\"color: #7f7f7f; text-decoration-color: #7f7f7f\">…</span>       │ <span style=\"color: #7f7f7f; text-decoration-color: #7f7f7f\">…</span>      │ <span style=\"color: #7f7f7f; text-decoration-color: #7f7f7f\">…</span>        │ <span style=\"color: #7f7f7f; text-decoration-color: #7f7f7f\">…</span>         │        <span style=\"color: #7f7f7f; text-decoration-color: #7f7f7f\">…</span> │\n",
       "└───────────┴────────────────────┴────────┴─────────┴───────────────┴─────────────┴───────────┴────────────┴────────┴───────────┴───────────┴─────────┴────────┴──────────┴───────────┴──────────┘\n",
       "</pre>\n"
      ],
      "text/plain": [
       "┏━━━━━━━━━━━┳━━━━━━━━━━━━━━━━━━━━┳━━━━━━━━┳━━━━━━━━━┳━━━━━━━━━━━━━━━┳━━━━━━━━━━━━━┳━━━━━━━━━━━┳━━━━━━━━━━━━┳━━━━━━━━┳━━━━━━━━━━━┳━━━━━━━━━━━┳━━━━━━━━━┳━━━━━━━━┳━━━━━━━━━━┳━━━━━━━━━━━┳━━━━━━━━━━┓\n",
       "┃\u001b[1m \u001b[0m\u001b[1mBMI\u001b[0m\u001b[1m      \u001b[0m\u001b[1m \u001b[0m┃\u001b[1m \u001b[0m\u001b[1mname\u001b[0m\u001b[1m              \u001b[0m\u001b[1m \u001b[0m┃\u001b[1m \u001b[0m\u001b[1mheight\u001b[0m\u001b[1m \u001b[0m┃\u001b[1m \u001b[0m\u001b[1mmass\u001b[0m\u001b[1m   \u001b[0m\u001b[1m \u001b[0m┃\u001b[1m \u001b[0m\u001b[1mhair_color\u001b[0m\u001b[1m   \u001b[0m\u001b[1m \u001b[0m┃\u001b[1m \u001b[0m\u001b[1mskin_color\u001b[0m\u001b[1m \u001b[0m\u001b[1m \u001b[0m┃\u001b[1m \u001b[0m\u001b[1meye_color\u001b[0m\u001b[1m \u001b[0m┃\u001b[1m \u001b[0m\u001b[1mbirth_year\u001b[0m\u001b[1m \u001b[0m┃\u001b[1m \u001b[0m\u001b[1msex\u001b[0m\u001b[1m   \u001b[0m\u001b[1m \u001b[0m┃\u001b[1m \u001b[0m\u001b[1mgender\u001b[0m\u001b[1m   \u001b[0m\u001b[1m \u001b[0m┃\u001b[1m \u001b[0m\u001b[1mhomeworld\u001b[0m\u001b[1m \u001b[0m┃\u001b[1m \u001b[0m\u001b[1mspecies\u001b[0m\u001b[1m \u001b[0m┃\u001b[1m \u001b[0m\u001b[1mfilms\u001b[0m\u001b[1m \u001b[0m\u001b[1m \u001b[0m┃\u001b[1m \u001b[0m\u001b[1mvehicles\u001b[0m\u001b[1m \u001b[0m┃\u001b[1m \u001b[0m\u001b[1mstarships\u001b[0m\u001b[1m \u001b[0m┃\u001b[1m \u001b[0m\u001b[1mheight_m\u001b[0m\u001b[1m \u001b[0m┃\n",
       "┡━━━━━━━━━━━╇━━━━━━━━━━━━━━━━━━━━╇━━━━━━━━╇━━━━━━━━━╇━━━━━━━━━━━━━━━╇━━━━━━━━━━━━━╇━━━━━━━━━━━╇━━━━━━━━━━━━╇━━━━━━━━╇━━━━━━━━━━━╇━━━━━━━━━━━╇━━━━━━━━━╇━━━━━━━━╇━━━━━━━━━━╇━━━━━━━━━━━╇━━━━━━━━━━┩\n",
       "│ \u001b[2mfloat64\u001b[0m   │ \u001b[2mstring\u001b[0m             │ \u001b[2mint64\u001b[0m  │ \u001b[2mfloat64\u001b[0m │ \u001b[2mstring\u001b[0m        │ \u001b[2mstring\u001b[0m      │ \u001b[2mstring\u001b[0m    │ \u001b[2mfloat64\u001b[0m    │ \u001b[2mstring\u001b[0m │ \u001b[2mstring\u001b[0m    │ \u001b[2mstring\u001b[0m    │ \u001b[2mstring\u001b[0m  │ \u001b[2mstring\u001b[0m │ \u001b[2mstring\u001b[0m   │ \u001b[2mstring\u001b[0m    │ \u001b[2mfloat64\u001b[0m  │\n",
       "├───────────┼────────────────────┼────────┼─────────┼───────────────┼─────────────┼───────────┼────────────┼────────┼───────────┼───────────┼─────────┼────────┼──────────┼───────────┼──────────┤\n",
       "│ \u001b[1;36m26.027582\u001b[0m │ \u001b[32mLuke Skywalker    \u001b[0m │    \u001b[1;36m172\u001b[0m │    \u001b[1;36m77.0\u001b[0m │ \u001b[32mblond        \u001b[0m │ \u001b[32mfair       \u001b[0m │ \u001b[32mblue     \u001b[0m │       \u001b[1;36m19.0\u001b[0m │ \u001b[32mmale  \u001b[0m │ \u001b[32mmasculine\u001b[0m │ \u001b[32mTatooine \u001b[0m │ \u001b[32mHuman  \u001b[0m │ \u001b[2mNULL\u001b[0m   │ \u001b[2mNULL\u001b[0m     │ \u001b[2mNULL\u001b[0m      │     \u001b[1;36m1.72\u001b[0m │\n",
       "│ \u001b[1;36m26.892323\u001b[0m │ \u001b[32mC-3PO             \u001b[0m │    \u001b[1;36m167\u001b[0m │    \u001b[1;36m75.0\u001b[0m │ \u001b[2mNULL\u001b[0m          │ \u001b[32mgold       \u001b[0m │ \u001b[32myellow   \u001b[0m │      \u001b[1;36m112.0\u001b[0m │ \u001b[32mnone  \u001b[0m │ \u001b[32mmasculine\u001b[0m │ \u001b[32mTatooine \u001b[0m │ \u001b[32mDroid  \u001b[0m │ \u001b[2mNULL\u001b[0m   │ \u001b[2mNULL\u001b[0m     │ \u001b[2mNULL\u001b[0m      │     \u001b[1;36m1.67\u001b[0m │\n",
       "│ \u001b[1;36m34.722222\u001b[0m │ \u001b[32mR2-D2             \u001b[0m │     \u001b[1;36m96\u001b[0m │    \u001b[1;36m32.0\u001b[0m │ \u001b[2mNULL\u001b[0m          │ \u001b[32mwhite, blue\u001b[0m │ \u001b[32mred      \u001b[0m │       \u001b[1;36m33.0\u001b[0m │ \u001b[32mnone  \u001b[0m │ \u001b[32mmasculine\u001b[0m │ \u001b[32mNaboo    \u001b[0m │ \u001b[32mDroid  \u001b[0m │ \u001b[2mNULL\u001b[0m   │ \u001b[2mNULL\u001b[0m     │ \u001b[2mNULL\u001b[0m      │     \u001b[1;36m0.96\u001b[0m │\n",
       "│ \u001b[1;36m33.330066\u001b[0m │ \u001b[32mDarth Vader       \u001b[0m │    \u001b[1;36m202\u001b[0m │   \u001b[1;36m136.0\u001b[0m │ \u001b[32mnone         \u001b[0m │ \u001b[32mwhite      \u001b[0m │ \u001b[32myellow   \u001b[0m │       \u001b[1;36m41.9\u001b[0m │ \u001b[32mmale  \u001b[0m │ \u001b[32mmasculine\u001b[0m │ \u001b[32mTatooine \u001b[0m │ \u001b[32mHuman  \u001b[0m │ \u001b[2mNULL\u001b[0m   │ \u001b[2mNULL\u001b[0m     │ \u001b[2mNULL\u001b[0m      │     \u001b[1;36m2.02\u001b[0m │\n",
       "│ \u001b[1;36m21.777778\u001b[0m │ \u001b[32mLeia Organa       \u001b[0m │    \u001b[1;36m150\u001b[0m │    \u001b[1;36m49.0\u001b[0m │ \u001b[32mbrown        \u001b[0m │ \u001b[32mlight      \u001b[0m │ \u001b[32mbrown    \u001b[0m │       \u001b[1;36m19.0\u001b[0m │ \u001b[32mfemale\u001b[0m │ \u001b[32mfeminine \u001b[0m │ \u001b[32mAlderaan \u001b[0m │ \u001b[32mHuman  \u001b[0m │ \u001b[2mNULL\u001b[0m   │ \u001b[2mNULL\u001b[0m     │ \u001b[2mNULL\u001b[0m      │     \u001b[1;36m1.50\u001b[0m │\n",
       "│ \u001b[1;36m37.874006\u001b[0m │ \u001b[32mOwen Lars         \u001b[0m │    \u001b[1;36m178\u001b[0m │   \u001b[1;36m120.0\u001b[0m │ \u001b[32mbrown, grey  \u001b[0m │ \u001b[32mlight      \u001b[0m │ \u001b[32mblue     \u001b[0m │       \u001b[1;36m52.0\u001b[0m │ \u001b[32mmale  \u001b[0m │ \u001b[32mmasculine\u001b[0m │ \u001b[32mTatooine \u001b[0m │ \u001b[32mHuman  \u001b[0m │ \u001b[2mNULL\u001b[0m   │ \u001b[2mNULL\u001b[0m     │ \u001b[2mNULL\u001b[0m      │     \u001b[1;36m1.78\u001b[0m │\n",
       "│ \u001b[1;36m27.548209\u001b[0m │ \u001b[32mBeru Whitesun lars\u001b[0m │    \u001b[1;36m165\u001b[0m │    \u001b[1;36m75.0\u001b[0m │ \u001b[32mbrown        \u001b[0m │ \u001b[32mlight      \u001b[0m │ \u001b[32mblue     \u001b[0m │       \u001b[1;36m47.0\u001b[0m │ \u001b[32mfemale\u001b[0m │ \u001b[32mfeminine \u001b[0m │ \u001b[32mTatooine \u001b[0m │ \u001b[32mHuman  \u001b[0m │ \u001b[2mNULL\u001b[0m   │ \u001b[2mNULL\u001b[0m     │ \u001b[2mNULL\u001b[0m      │     \u001b[1;36m1.65\u001b[0m │\n",
       "│ \u001b[1;36m34.009990\u001b[0m │ \u001b[32mR5-D4             \u001b[0m │     \u001b[1;36m97\u001b[0m │    \u001b[1;36m32.0\u001b[0m │ \u001b[2mNULL\u001b[0m          │ \u001b[32mwhite, red \u001b[0m │ \u001b[32mred      \u001b[0m │        \u001b[1;36mnan\u001b[0m │ \u001b[32mnone  \u001b[0m │ \u001b[32mmasculine\u001b[0m │ \u001b[32mTatooine \u001b[0m │ \u001b[32mDroid  \u001b[0m │ \u001b[2mNULL\u001b[0m   │ \u001b[2mNULL\u001b[0m     │ \u001b[2mNULL\u001b[0m      │     \u001b[1;36m0.97\u001b[0m │\n",
       "│ \u001b[1;36m25.082863\u001b[0m │ \u001b[32mBiggs Darklighter \u001b[0m │    \u001b[1;36m183\u001b[0m │    \u001b[1;36m84.0\u001b[0m │ \u001b[32mblack        \u001b[0m │ \u001b[32mlight      \u001b[0m │ \u001b[32mbrown    \u001b[0m │       \u001b[1;36m24.0\u001b[0m │ \u001b[32mmale  \u001b[0m │ \u001b[32mmasculine\u001b[0m │ \u001b[32mTatooine \u001b[0m │ \u001b[32mHuman  \u001b[0m │ \u001b[2mNULL\u001b[0m   │ \u001b[2mNULL\u001b[0m     │ \u001b[2mNULL\u001b[0m      │     \u001b[1;36m1.83\u001b[0m │\n",
       "│ \u001b[1;36m23.245985\u001b[0m │ \u001b[32mObi-Wan Kenobi    \u001b[0m │    \u001b[1;36m182\u001b[0m │    \u001b[1;36m77.0\u001b[0m │ \u001b[32mauburn, white\u001b[0m │ \u001b[32mfair       \u001b[0m │ \u001b[32mblue-gray\u001b[0m │       \u001b[1;36m57.0\u001b[0m │ \u001b[32mmale  \u001b[0m │ \u001b[32mmasculine\u001b[0m │ \u001b[32mStewjon  \u001b[0m │ \u001b[32mHuman  \u001b[0m │ \u001b[2mNULL\u001b[0m   │ \u001b[2mNULL\u001b[0m     │ \u001b[2mNULL\u001b[0m      │     \u001b[1;36m1.82\u001b[0m │\n",
       "│         \u001b[2m…\u001b[0m │ \u001b[2m…\u001b[0m                  │      \u001b[2m…\u001b[0m │       \u001b[2m…\u001b[0m │ \u001b[2m…\u001b[0m             │ \u001b[2m…\u001b[0m           │ \u001b[2m…\u001b[0m         │          \u001b[2m…\u001b[0m │ \u001b[2m…\u001b[0m      │ \u001b[2m…\u001b[0m         │ \u001b[2m…\u001b[0m         │ \u001b[2m…\u001b[0m       │ \u001b[2m…\u001b[0m      │ \u001b[2m…\u001b[0m        │ \u001b[2m…\u001b[0m         │        \u001b[2m…\u001b[0m │\n",
       "└───────────┴────────────────────┴────────┴─────────┴───────────────┴─────────────┴───────────┴────────────┴────────┴───────────┴───────────┴─────────┴────────┴──────────┴───────────┴──────────┘"
      ]
     },
     "execution_count": 19,
     "metadata": {},
     "output_type": "execute_result"
    }
   ],
   "source": [
    "(starwars\n",
    "    .mutate(\n",
    "        height_m = _.height / 100\n",
    "    )\n",
    "    .mutate(        \n",
    "        BMI = _.mass / (_.height_m**2)\n",
    "    )\n",
    "    .select(\"BMI\", ~s.matches(\"BMI\"))\n",
    ")"
   ]
  },
  {
   "attachments": {},
   "cell_type": "markdown",
   "metadata": {},
   "source": [
    "### Summarize values with aggregate()\n",
    "\n",
    "To summarize tables, dplyr has the verbs `summarize`/`summarize`:\n",
    "\n",
    "In dplyr:\n",
    "\n",
    "```r\n",
    "starwars %>% \n",
    "    summarise(height = mean(height, na.rm = TRUE))\n",
    "```\n",
    "\n",
    "In Ibis, the corresponding verb is `aggregate`:"
   ]
  },
  {
   "cell_type": "code",
   "execution_count": 20,
   "metadata": {},
   "outputs": [
    {
     "data": {
      "text/html": [
       "<pre style=\"white-space:pre;overflow-x:auto;line-height:normal;font-family:Menlo,'DejaVu Sans Mono',consolas,'Courier New',monospace\">┏━━━━━━━━━━━━┓\n",
       "┃<span style=\"font-weight: bold\"> height     </span>┃\n",
       "┡━━━━━━━━━━━━┩\n",
       "│ <span style=\"color: #7f7f7f; text-decoration-color: #7f7f7f\">float64</span>    │\n",
       "├────────────┤\n",
       "│ <span style=\"color: #008080; text-decoration-color: #008080; font-weight: bold\">174.358025</span> │\n",
       "└────────────┘\n",
       "</pre>\n"
      ],
      "text/plain": [
       "┏━━━━━━━━━━━━┓\n",
       "┃\u001b[1m \u001b[0m\u001b[1mheight\u001b[0m\u001b[1m    \u001b[0m\u001b[1m \u001b[0m┃\n",
       "┡━━━━━━━━━━━━┩\n",
       "│ \u001b[2mfloat64\u001b[0m    │\n",
       "├────────────┤\n",
       "│ \u001b[1;36m174.358025\u001b[0m │\n",
       "└────────────┘"
      ]
     },
     "execution_count": 20,
     "metadata": {},
     "output_type": "execute_result"
    }
   ],
   "source": [
    "starwars.aggregate(height = _.height.mean())"
   ]
  },
  {
   "attachments": {},
   "cell_type": "markdown",
   "metadata": {},
   "source": [
    "### Joins\n",
    "\n",
    "To demonstrate how to do joins with Ibis, we'll load two more example datasets that also come from the example datasets included in dplyr:"
   ]
  },
  {
   "cell_type": "code",
   "execution_count": 25,
   "metadata": {},
   "outputs": [],
   "source": [
    "band_members = ibis.examples.band_members.fetch(header=1)\n",
    "band_instruments = ibis.examples.band_instruments.fetch(header=1)"
   ]
  },
  {
   "attachments": {},
   "cell_type": "markdown",
   "metadata": {},
   "source": [
    "In dplyr, we can perform a left join of these two tables like:\n",
    "\n",
    "```r\n",
    "band_members |> \n",
    "    left_join(band_instruments)\n",
    "```\n",
    "\n",
    "This produces the output of:\n",
    "\n",
    "```\n",
    "Joining with `by = join_by(name)`\n",
    "# A tibble: 3 × 4\n",
    "  name.x band    name.y plays \n",
    "  <chr>  <chr>   <chr>  <chr> \n",
    "1 Mick   Stones  NA     NA    \n",
    "2 John   Beatles John   guitar\n",
    "3 Paul   Beatles Paul   bass  \n",
    "```\n",
    "\n",
    "In Ibis:"
   ]
  },
  {
   "cell_type": "code",
   "execution_count": 52,
   "metadata": {},
   "outputs": [
    {
     "data": {
      "text/html": [
       "<pre style=\"white-space:pre;overflow-x:auto;line-height:normal;font-family:Menlo,'DejaVu Sans Mono',consolas,'Courier New',monospace\">┏━━━━━━━━┳━━━━━━━━━┳━━━━━━━━┳━━━━━━━━┓\n",
       "┃<span style=\"font-weight: bold\"> name_x </span>┃<span style=\"font-weight: bold\"> band    </span>┃<span style=\"font-weight: bold\"> name_y </span>┃<span style=\"font-weight: bold\"> plays  </span>┃\n",
       "┡━━━━━━━━╇━━━━━━━━━╇━━━━━━━━╇━━━━━━━━┩\n",
       "│ <span style=\"color: #7f7f7f; text-decoration-color: #7f7f7f\">string</span> │ <span style=\"color: #7f7f7f; text-decoration-color: #7f7f7f\">string</span>  │ <span style=\"color: #7f7f7f; text-decoration-color: #7f7f7f\">string</span> │ <span style=\"color: #7f7f7f; text-decoration-color: #7f7f7f\">string</span> │\n",
       "├────────┼─────────┼────────┼────────┤\n",
       "│ <span style=\"color: #008000; text-decoration-color: #008000\">John  </span> │ <span style=\"color: #008000; text-decoration-color: #008000\">Beatles</span> │ <span style=\"color: #008000; text-decoration-color: #008000\">John  </span> │ <span style=\"color: #008000; text-decoration-color: #008000\">guitar</span> │\n",
       "│ <span style=\"color: #008000; text-decoration-color: #008000\">Paul  </span> │ <span style=\"color: #008000; text-decoration-color: #008000\">Beatles</span> │ <span style=\"color: #008000; text-decoration-color: #008000\">Paul  </span> │ <span style=\"color: #008000; text-decoration-color: #008000\">bass  </span> │\n",
       "│ <span style=\"color: #008000; text-decoration-color: #008000\">Mick  </span> │ <span style=\"color: #008000; text-decoration-color: #008000\">Stones </span> │ <span style=\"color: #7f7f7f; text-decoration-color: #7f7f7f\">NULL</span>   │ <span style=\"color: #7f7f7f; text-decoration-color: #7f7f7f\">NULL</span>   │\n",
       "└────────┴─────────┴────────┴────────┘\n",
       "</pre>\n"
      ],
      "text/plain": [
       "┏━━━━━━━━┳━━━━━━━━━┳━━━━━━━━┳━━━━━━━━┓\n",
       "┃\u001b[1m \u001b[0m\u001b[1mname_x\u001b[0m\u001b[1m \u001b[0m┃\u001b[1m \u001b[0m\u001b[1mband\u001b[0m\u001b[1m   \u001b[0m\u001b[1m \u001b[0m┃\u001b[1m \u001b[0m\u001b[1mname_y\u001b[0m\u001b[1m \u001b[0m┃\u001b[1m \u001b[0m\u001b[1mplays\u001b[0m\u001b[1m \u001b[0m\u001b[1m \u001b[0m┃\n",
       "┡━━━━━━━━╇━━━━━━━━━╇━━━━━━━━╇━━━━━━━━┩\n",
       "│ \u001b[2mstring\u001b[0m │ \u001b[2mstring\u001b[0m  │ \u001b[2mstring\u001b[0m │ \u001b[2mstring\u001b[0m │\n",
       "├────────┼─────────┼────────┼────────┤\n",
       "│ \u001b[32mJohn  \u001b[0m │ \u001b[32mBeatles\u001b[0m │ \u001b[32mJohn  \u001b[0m │ \u001b[32mguitar\u001b[0m │\n",
       "│ \u001b[32mPaul  \u001b[0m │ \u001b[32mBeatles\u001b[0m │ \u001b[32mPaul  \u001b[0m │ \u001b[32mbass  \u001b[0m │\n",
       "│ \u001b[32mMick  \u001b[0m │ \u001b[32mStones \u001b[0m │ \u001b[2mNULL\u001b[0m   │ \u001b[2mNULL\u001b[0m   │\n",
       "└────────┴─────────┴────────┴────────┘"
      ]
     },
     "execution_count": 52,
     "metadata": {},
     "output_type": "execute_result"
    }
   ],
   "source": [
    "band_members.left_join(\n",
    "    band_instruments, \n",
    "    band_members.name == band_instruments.name\n",
    ")"
   ]
  },
  {
   "attachments": {},
   "cell_type": "markdown",
   "metadata": {},
   "source": [
    "There are two main differences between Ibis and dplr here:\n",
    "\n",
    "- Ibis requires us to explicitly specify our join key (\"name\", in this example) whereas dplyr will try to guess the join key for us\n",
    "- Ibis keeps the join keys from each table whereas dplyr does not by default\n",
    "\n",
    "Two replicate the result we'd get by default in dplyr but using Ibis, we need to incorporate two other verbs we've already seen in this tutorial:"
   ]
  },
  {
   "cell_type": "code",
   "execution_count": 46,
   "metadata": {},
   "outputs": [
    {
     "data": {
      "text/html": [
       "<pre style=\"white-space:pre;overflow-x:auto;line-height:normal;font-family:Menlo,'DejaVu Sans Mono',consolas,'Courier New',monospace\">┏━━━━━━━━┳━━━━━━━━━┳━━━━━━━━┓\n",
       "┃<span style=\"font-weight: bold\"> name   </span>┃<span style=\"font-weight: bold\"> band    </span>┃<span style=\"font-weight: bold\"> plays  </span>┃\n",
       "┡━━━━━━━━╇━━━━━━━━━╇━━━━━━━━┩\n",
       "│ <span style=\"color: #7f7f7f; text-decoration-color: #7f7f7f\">string</span> │ <span style=\"color: #7f7f7f; text-decoration-color: #7f7f7f\">string</span>  │ <span style=\"color: #7f7f7f; text-decoration-color: #7f7f7f\">string</span> │\n",
       "├────────┼─────────┼────────┤\n",
       "│ <span style=\"color: #008000; text-decoration-color: #008000\">John  </span> │ <span style=\"color: #008000; text-decoration-color: #008000\">Beatles</span> │ <span style=\"color: #008000; text-decoration-color: #008000\">guitar</span> │\n",
       "│ <span style=\"color: #008000; text-decoration-color: #008000\">Paul  </span> │ <span style=\"color: #008000; text-decoration-color: #008000\">Beatles</span> │ <span style=\"color: #008000; text-decoration-color: #008000\">bass  </span> │\n",
       "│ <span style=\"color: #008000; text-decoration-color: #008000\">Mick  </span> │ <span style=\"color: #008000; text-decoration-color: #008000\">Stones </span> │ <span style=\"color: #7f7f7f; text-decoration-color: #7f7f7f\">NULL</span>   │\n",
       "└────────┴─────────┴────────┘\n",
       "</pre>\n"
      ],
      "text/plain": [
       "┏━━━━━━━━┳━━━━━━━━━┳━━━━━━━━┓\n",
       "┃\u001b[1m \u001b[0m\u001b[1mname\u001b[0m\u001b[1m  \u001b[0m\u001b[1m \u001b[0m┃\u001b[1m \u001b[0m\u001b[1mband\u001b[0m\u001b[1m   \u001b[0m\u001b[1m \u001b[0m┃\u001b[1m \u001b[0m\u001b[1mplays\u001b[0m\u001b[1m \u001b[0m\u001b[1m \u001b[0m┃\n",
       "┡━━━━━━━━╇━━━━━━━━━╇━━━━━━━━┩\n",
       "│ \u001b[2mstring\u001b[0m │ \u001b[2mstring\u001b[0m  │ \u001b[2mstring\u001b[0m │\n",
       "├────────┼─────────┼────────┤\n",
       "│ \u001b[32mJohn  \u001b[0m │ \u001b[32mBeatles\u001b[0m │ \u001b[32mguitar\u001b[0m │\n",
       "│ \u001b[32mPaul  \u001b[0m │ \u001b[32mBeatles\u001b[0m │ \u001b[32mbass  \u001b[0m │\n",
       "│ \u001b[32mMick  \u001b[0m │ \u001b[32mStones \u001b[0m │ \u001b[2mNULL\u001b[0m   │\n",
       "└────────┴─────────┴────────┘"
      ]
     },
     "execution_count": 46,
     "metadata": {},
     "output_type": "execute_result"
    }
   ],
   "source": [
    "(\n",
    "    band_members\n",
    "        .left_join(\n",
    "            band_instruments, \n",
    "            band_members.name == band_instruments.name)\n",
    "        .select(~s.contains(\"_y\"))\n",
    "        .relabel({\"name_x\": \"name\"})\n",
    ")"
   ]
  },
  {
   "cell_type": "markdown",
   "metadata": {},
   "source": [
    "### Pivot wider/longer"
   ]
  },
  {
   "attachments": {},
   "cell_type": "markdown",
   "metadata": {},
   "source": [
    "dplyr users are likely to be familiar with the `pivot_wider` and `pivot_longer` functions from the [tidyr](https://tidyr.tidyverse.org) package which convert tables between wide and long formats, respectively.\n",
    "\n",
    "In dplyr+tidyr:\n",
    "\n",
    "```r\n",
    "starwars |> \n",
    "    select(name, matches(\"color\")) |> \n",
    "    pivot_longer(matches(\"color\"), names_to = \"attribute\", values_to = \"color\")\n",
    "```\n",
    "\n",
    "In Ibis:"
   ]
  },
  {
   "cell_type": "code",
   "execution_count": 55,
   "metadata": {},
   "outputs": [
    {
     "data": {
      "text/html": [
       "<pre style=\"white-space:pre;overflow-x:auto;line-height:normal;font-family:Menlo,'DejaVu Sans Mono',consolas,'Courier New',monospace\">┏━━━━━━━━━━━━━━━━┳━━━━━━━━━━━━┳━━━━━━━━━━━━━┓\n",
       "┃<span style=\"font-weight: bold\"> name           </span>┃<span style=\"font-weight: bold\"> attribute  </span>┃<span style=\"font-weight: bold\"> color       </span>┃\n",
       "┡━━━━━━━━━━━━━━━━╇━━━━━━━━━━━━╇━━━━━━━━━━━━━┩\n",
       "│ <span style=\"color: #7f7f7f; text-decoration-color: #7f7f7f\">string</span>         │ <span style=\"color: #7f7f7f; text-decoration-color: #7f7f7f\">string</span>     │ <span style=\"color: #7f7f7f; text-decoration-color: #7f7f7f\">string</span>      │\n",
       "├────────────────┼────────────┼─────────────┤\n",
       "│ <span style=\"color: #008000; text-decoration-color: #008000\">Luke Skywalker</span> │ <span style=\"color: #008000; text-decoration-color: #008000\">hair_color</span> │ <span style=\"color: #008000; text-decoration-color: #008000\">blond      </span> │\n",
       "│ <span style=\"color: #008000; text-decoration-color: #008000\">Luke Skywalker</span> │ <span style=\"color: #008000; text-decoration-color: #008000\">skin_color</span> │ <span style=\"color: #008000; text-decoration-color: #008000\">fair       </span> │\n",
       "│ <span style=\"color: #008000; text-decoration-color: #008000\">Luke Skywalker</span> │ <span style=\"color: #008000; text-decoration-color: #008000\">eye_color </span> │ <span style=\"color: #008000; text-decoration-color: #008000\">blue       </span> │\n",
       "│ <span style=\"color: #008000; text-decoration-color: #008000\">C-3PO         </span> │ <span style=\"color: #008000; text-decoration-color: #008000\">hair_color</span> │ <span style=\"color: #7f7f7f; text-decoration-color: #7f7f7f\">NULL</span>        │\n",
       "│ <span style=\"color: #008000; text-decoration-color: #008000\">C-3PO         </span> │ <span style=\"color: #008000; text-decoration-color: #008000\">skin_color</span> │ <span style=\"color: #008000; text-decoration-color: #008000\">gold       </span> │\n",
       "│ <span style=\"color: #008000; text-decoration-color: #008000\">C-3PO         </span> │ <span style=\"color: #008000; text-decoration-color: #008000\">eye_color </span> │ <span style=\"color: #008000; text-decoration-color: #008000\">yellow     </span> │\n",
       "│ <span style=\"color: #008000; text-decoration-color: #008000\">R2-D2         </span> │ <span style=\"color: #008000; text-decoration-color: #008000\">hair_color</span> │ <span style=\"color: #7f7f7f; text-decoration-color: #7f7f7f\">NULL</span>        │\n",
       "│ <span style=\"color: #008000; text-decoration-color: #008000\">R2-D2         </span> │ <span style=\"color: #008000; text-decoration-color: #008000\">skin_color</span> │ <span style=\"color: #008000; text-decoration-color: #008000\">white, blue</span> │\n",
       "│ <span style=\"color: #008000; text-decoration-color: #008000\">R2-D2         </span> │ <span style=\"color: #008000; text-decoration-color: #008000\">eye_color </span> │ <span style=\"color: #008000; text-decoration-color: #008000\">red        </span> │\n",
       "│ <span style=\"color: #008000; text-decoration-color: #008000\">Darth Vader   </span> │ <span style=\"color: #008000; text-decoration-color: #008000\">hair_color</span> │ <span style=\"color: #008000; text-decoration-color: #008000\">none       </span> │\n",
       "│ <span style=\"color: #7f7f7f; text-decoration-color: #7f7f7f\">…</span>              │ <span style=\"color: #7f7f7f; text-decoration-color: #7f7f7f\">…</span>          │ <span style=\"color: #7f7f7f; text-decoration-color: #7f7f7f\">…</span>           │\n",
       "└────────────────┴────────────┴─────────────┘\n",
       "</pre>\n"
      ],
      "text/plain": [
       "┏━━━━━━━━━━━━━━━━┳━━━━━━━━━━━━┳━━━━━━━━━━━━━┓\n",
       "┃\u001b[1m \u001b[0m\u001b[1mname\u001b[0m\u001b[1m          \u001b[0m\u001b[1m \u001b[0m┃\u001b[1m \u001b[0m\u001b[1mattribute\u001b[0m\u001b[1m \u001b[0m\u001b[1m \u001b[0m┃\u001b[1m \u001b[0m\u001b[1mcolor\u001b[0m\u001b[1m      \u001b[0m\u001b[1m \u001b[0m┃\n",
       "┡━━━━━━━━━━━━━━━━╇━━━━━━━━━━━━╇━━━━━━━━━━━━━┩\n",
       "│ \u001b[2mstring\u001b[0m         │ \u001b[2mstring\u001b[0m     │ \u001b[2mstring\u001b[0m      │\n",
       "├────────────────┼────────────┼─────────────┤\n",
       "│ \u001b[32mLuke Skywalker\u001b[0m │ \u001b[32mhair_color\u001b[0m │ \u001b[32mblond      \u001b[0m │\n",
       "│ \u001b[32mLuke Skywalker\u001b[0m │ \u001b[32mskin_color\u001b[0m │ \u001b[32mfair       \u001b[0m │\n",
       "│ \u001b[32mLuke Skywalker\u001b[0m │ \u001b[32meye_color \u001b[0m │ \u001b[32mblue       \u001b[0m │\n",
       "│ \u001b[32mC-3PO         \u001b[0m │ \u001b[32mhair_color\u001b[0m │ \u001b[2mNULL\u001b[0m        │\n",
       "│ \u001b[32mC-3PO         \u001b[0m │ \u001b[32mskin_color\u001b[0m │ \u001b[32mgold       \u001b[0m │\n",
       "│ \u001b[32mC-3PO         \u001b[0m │ \u001b[32meye_color \u001b[0m │ \u001b[32myellow     \u001b[0m │\n",
       "│ \u001b[32mR2-D2         \u001b[0m │ \u001b[32mhair_color\u001b[0m │ \u001b[2mNULL\u001b[0m        │\n",
       "│ \u001b[32mR2-D2         \u001b[0m │ \u001b[32mskin_color\u001b[0m │ \u001b[32mwhite, blue\u001b[0m │\n",
       "│ \u001b[32mR2-D2         \u001b[0m │ \u001b[32meye_color \u001b[0m │ \u001b[32mred        \u001b[0m │\n",
       "│ \u001b[32mDarth Vader   \u001b[0m │ \u001b[32mhair_color\u001b[0m │ \u001b[32mnone       \u001b[0m │\n",
       "│ \u001b[2m…\u001b[0m              │ \u001b[2m…\u001b[0m          │ \u001b[2m…\u001b[0m           │\n",
       "└────────────────┴────────────┴─────────────┘"
      ]
     },
     "execution_count": 55,
     "metadata": {},
     "output_type": "execute_result"
    }
   ],
   "source": [
    "starwars_colors = (\n",
    "    starwars\n",
    "        .select(\"name\", s.matches(\"color\"))\n",
    "        .pivot_longer(s.matches(\"color\"), names_to=\"attribute\", values_to=\"color\")\n",
    ")\n",
    "\n",
    "starwars_colors\n"
   ]
  },
  {
   "attachments": {},
   "cell_type": "markdown",
   "metadata": {},
   "source": [
    "And the reverse, in dplyr:\n",
    "\n",
    "```r\n",
    "starwars_colors |> \n",
    "    pivot_wider(names_from = \"attribute\", values_from = \"value\")\n",
    "```\n",
    "\n",
    "In Ibis:"
   ]
  },
  {
   "cell_type": "code",
   "execution_count": 63,
   "metadata": {},
   "outputs": [
    {
     "data": {
      "text/html": [
       "<pre style=\"white-space:pre;overflow-x:auto;line-height:normal;font-family:Menlo,'DejaVu Sans Mono',consolas,'Courier New',monospace\">┏━━━━━━━━━━━━━━━━━━━━┳━━━━━━━━━━━━━━━┳━━━━━━━━━━━━━┳━━━━━━━━━━━┓\n",
       "┃<span style=\"font-weight: bold\"> name               </span>┃<span style=\"font-weight: bold\"> hair_color    </span>┃<span style=\"font-weight: bold\"> skin_color  </span>┃<span style=\"font-weight: bold\"> eye_color </span>┃\n",
       "┡━━━━━━━━━━━━━━━━━━━━╇━━━━━━━━━━━━━━━╇━━━━━━━━━━━━━╇━━━━━━━━━━━┩\n",
       "│ <span style=\"color: #7f7f7f; text-decoration-color: #7f7f7f\">string</span>             │ <span style=\"color: #7f7f7f; text-decoration-color: #7f7f7f\">string</span>        │ <span style=\"color: #7f7f7f; text-decoration-color: #7f7f7f\">string</span>      │ <span style=\"color: #7f7f7f; text-decoration-color: #7f7f7f\">string</span>    │\n",
       "├────────────────────┼───────────────┼─────────────┼───────────┤\n",
       "│ <span style=\"color: #008000; text-decoration-color: #008000\">Luke Skywalker    </span> │ <span style=\"color: #008000; text-decoration-color: #008000\">blond        </span> │ <span style=\"color: #008000; text-decoration-color: #008000\">fair       </span> │ <span style=\"color: #008000; text-decoration-color: #008000\">blue     </span> │\n",
       "│ <span style=\"color: #008000; text-decoration-color: #008000\">C-3PO             </span> │ <span style=\"color: #7f7f7f; text-decoration-color: #7f7f7f\">NULL</span>          │ <span style=\"color: #008000; text-decoration-color: #008000\">gold       </span> │ <span style=\"color: #008000; text-decoration-color: #008000\">yellow   </span> │\n",
       "│ <span style=\"color: #008000; text-decoration-color: #008000\">R2-D2             </span> │ <span style=\"color: #7f7f7f; text-decoration-color: #7f7f7f\">NULL</span>          │ <span style=\"color: #008000; text-decoration-color: #008000\">white, blue</span> │ <span style=\"color: #008000; text-decoration-color: #008000\">red      </span> │\n",
       "│ <span style=\"color: #008000; text-decoration-color: #008000\">Darth Vader       </span> │ <span style=\"color: #008000; text-decoration-color: #008000\">none         </span> │ <span style=\"color: #008000; text-decoration-color: #008000\">white      </span> │ <span style=\"color: #008000; text-decoration-color: #008000\">yellow   </span> │\n",
       "│ <span style=\"color: #008000; text-decoration-color: #008000\">Leia Organa       </span> │ <span style=\"color: #008000; text-decoration-color: #008000\">brown        </span> │ <span style=\"color: #008000; text-decoration-color: #008000\">light      </span> │ <span style=\"color: #008000; text-decoration-color: #008000\">brown    </span> │\n",
       "│ <span style=\"color: #008000; text-decoration-color: #008000\">Owen Lars         </span> │ <span style=\"color: #008000; text-decoration-color: #008000\">brown, grey  </span> │ <span style=\"color: #008000; text-decoration-color: #008000\">light      </span> │ <span style=\"color: #008000; text-decoration-color: #008000\">blue     </span> │\n",
       "│ <span style=\"color: #008000; text-decoration-color: #008000\">Beru Whitesun lars</span> │ <span style=\"color: #008000; text-decoration-color: #008000\">brown        </span> │ <span style=\"color: #008000; text-decoration-color: #008000\">light      </span> │ <span style=\"color: #008000; text-decoration-color: #008000\">blue     </span> │\n",
       "│ <span style=\"color: #008000; text-decoration-color: #008000\">R5-D4             </span> │ <span style=\"color: #7f7f7f; text-decoration-color: #7f7f7f\">NULL</span>          │ <span style=\"color: #008000; text-decoration-color: #008000\">white, red </span> │ <span style=\"color: #008000; text-decoration-color: #008000\">red      </span> │\n",
       "│ <span style=\"color: #008000; text-decoration-color: #008000\">Biggs Darklighter </span> │ <span style=\"color: #008000; text-decoration-color: #008000\">black        </span> │ <span style=\"color: #008000; text-decoration-color: #008000\">light      </span> │ <span style=\"color: #008000; text-decoration-color: #008000\">brown    </span> │\n",
       "│ <span style=\"color: #008000; text-decoration-color: #008000\">Obi-Wan Kenobi    </span> │ <span style=\"color: #008000; text-decoration-color: #008000\">auburn, white</span> │ <span style=\"color: #008000; text-decoration-color: #008000\">fair       </span> │ <span style=\"color: #008000; text-decoration-color: #008000\">blue-gray</span> │\n",
       "│ <span style=\"color: #7f7f7f; text-decoration-color: #7f7f7f\">…</span>                  │ <span style=\"color: #7f7f7f; text-decoration-color: #7f7f7f\">…</span>             │ <span style=\"color: #7f7f7f; text-decoration-color: #7f7f7f\">…</span>           │ <span style=\"color: #7f7f7f; text-decoration-color: #7f7f7f\">…</span>         │\n",
       "└────────────────────┴───────────────┴─────────────┴───────────┘\n",
       "</pre>\n"
      ],
      "text/plain": [
       "┏━━━━━━━━━━━━━━━━━━━━┳━━━━━━━━━━━━━━━┳━━━━━━━━━━━━━┳━━━━━━━━━━━┓\n",
       "┃\u001b[1m \u001b[0m\u001b[1mname\u001b[0m\u001b[1m              \u001b[0m\u001b[1m \u001b[0m┃\u001b[1m \u001b[0m\u001b[1mhair_color\u001b[0m\u001b[1m   \u001b[0m\u001b[1m \u001b[0m┃\u001b[1m \u001b[0m\u001b[1mskin_color\u001b[0m\u001b[1m \u001b[0m\u001b[1m \u001b[0m┃\u001b[1m \u001b[0m\u001b[1meye_color\u001b[0m\u001b[1m \u001b[0m┃\n",
       "┡━━━━━━━━━━━━━━━━━━━━╇━━━━━━━━━━━━━━━╇━━━━━━━━━━━━━╇━━━━━━━━━━━┩\n",
       "│ \u001b[2mstring\u001b[0m             │ \u001b[2mstring\u001b[0m        │ \u001b[2mstring\u001b[0m      │ \u001b[2mstring\u001b[0m    │\n",
       "├────────────────────┼───────────────┼─────────────┼───────────┤\n",
       "│ \u001b[32mLuke Skywalker    \u001b[0m │ \u001b[32mblond        \u001b[0m │ \u001b[32mfair       \u001b[0m │ \u001b[32mblue     \u001b[0m │\n",
       "│ \u001b[32mC-3PO             \u001b[0m │ \u001b[2mNULL\u001b[0m          │ \u001b[32mgold       \u001b[0m │ \u001b[32myellow   \u001b[0m │\n",
       "│ \u001b[32mR2-D2             \u001b[0m │ \u001b[2mNULL\u001b[0m          │ \u001b[32mwhite, blue\u001b[0m │ \u001b[32mred      \u001b[0m │\n",
       "│ \u001b[32mDarth Vader       \u001b[0m │ \u001b[32mnone         \u001b[0m │ \u001b[32mwhite      \u001b[0m │ \u001b[32myellow   \u001b[0m │\n",
       "│ \u001b[32mLeia Organa       \u001b[0m │ \u001b[32mbrown        \u001b[0m │ \u001b[32mlight      \u001b[0m │ \u001b[32mbrown    \u001b[0m │\n",
       "│ \u001b[32mOwen Lars         \u001b[0m │ \u001b[32mbrown, grey  \u001b[0m │ \u001b[32mlight      \u001b[0m │ \u001b[32mblue     \u001b[0m │\n",
       "│ \u001b[32mBeru Whitesun lars\u001b[0m │ \u001b[32mbrown        \u001b[0m │ \u001b[32mlight      \u001b[0m │ \u001b[32mblue     \u001b[0m │\n",
       "│ \u001b[32mR5-D4             \u001b[0m │ \u001b[2mNULL\u001b[0m          │ \u001b[32mwhite, red \u001b[0m │ \u001b[32mred      \u001b[0m │\n",
       "│ \u001b[32mBiggs Darklighter \u001b[0m │ \u001b[32mblack        \u001b[0m │ \u001b[32mlight      \u001b[0m │ \u001b[32mbrown    \u001b[0m │\n",
       "│ \u001b[32mObi-Wan Kenobi    \u001b[0m │ \u001b[32mauburn, white\u001b[0m │ \u001b[32mfair       \u001b[0m │ \u001b[32mblue-gray\u001b[0m │\n",
       "│ \u001b[2m…\u001b[0m                  │ \u001b[2m…\u001b[0m             │ \u001b[2m…\u001b[0m           │ \u001b[2m…\u001b[0m         │\n",
       "└────────────────────┴───────────────┴─────────────┴───────────┘"
      ]
     },
     "execution_count": 63,
     "metadata": {},
     "output_type": "execute_result"
    }
   ],
   "source": [
    "(\n",
    "    starwars_colors.\n",
    "        pivot_wider(names_from=\"attribute\", values_from=\"color\")\n",
    ")"
   ]
  },
  {
   "attachments": {},
   "cell_type": "markdown",
   "metadata": {},
   "source": [
    "## Next Steps\n",
    "\n",
    "Now that you've gotten an introudction to the common differences between dplyr and Ibis, head over to [Getting Started with ibis](https://ibis-project.org/getting_started/) for a full introduction. If you're familiar with SQL, check out [Ibis for SQL Programmers](https://ibis-project.org/ibis-for-sql-programmers/). If you're familiar with pandas, take a look at [Ibis for Pandas Users](https://ibis-project.org/ibis-for-pandas-users/.)"
   ]
  }
 ],
 "metadata": {
  "kernelspec": {
   "display_name": "Python 3 (ipykernel)",
   "language": "python",
   "name": "python3"
  },
  "language_info": {
   "codemirror_mode": {
    "name": "ipython",
    "version": 3
   },
   "file_extension": ".py",
   "mimetype": "text/x-python",
   "name": "python",
   "nbconvert_exporter": "python",
   "pygments_lexer": "ipython3",
   "version": "3.11.3"
  }
 },
 "nbformat": 4,
 "nbformat_minor": 2
}
